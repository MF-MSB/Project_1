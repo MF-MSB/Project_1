{
 "cells": [
  {
   "cell_type": "code",
   "execution_count": 34,
   "id": "20650e86",
   "metadata": {},
   "outputs": [],
   "source": [
    "import pandas as pd\n",
    "import geopandas as gpd\n",
    "# from geopy.geocoders import Nominatim\n",
    "from shapely.geometry import Point"
   ]
  },
  {
   "cell_type": "code",
   "execution_count": 35,
   "id": "d7d40b7f",
   "metadata": {
    "scrolled": true
   },
   "outputs": [
    {
     "ename": "TypeError",
     "evalue": "startswith first arg must be bytes or a tuple of bytes, not str",
     "output_type": "error",
     "traceback": [
      "\u001b[1;31m---------------------------------------------------------------------------\u001b[0m",
      "\u001b[1;31mTypeError\u001b[0m                                 Traceback (most recent call last)",
      "Cell \u001b[1;32mIn[35], line 2\u001b[0m\n\u001b[0;32m      1\u001b[0m \u001b[38;5;66;03m# Load in GeoJSON\u001b[39;00m\n\u001b[1;32m----> 2\u001b[0m gdf \u001b[38;5;241m=\u001b[39m \u001b[43mgpd\u001b[49m\u001b[38;5;241;43m.\u001b[39;49m\u001b[43mread_file\u001b[49m\u001b[43m(\u001b[49m\u001b[38;5;124;43m\"\u001b[39;49m\u001b[38;5;124;43mC:/Users/mford.MSBIOWORKS/Project_1/gz_2010_us_050_00_5m.json\u001b[39;49m\u001b[38;5;124;43m\"\u001b[39;49m\u001b[43m)\u001b[49m\n\u001b[0;32m      3\u001b[0m \u001b[38;5;66;03m# print(monthly_energy_production_df)\u001b[39;00m\n\u001b[0;32m      4\u001b[0m gdf\u001b[38;5;241m.\u001b[39mhead(\u001b[38;5;241m5\u001b[39m)\n",
      "File \u001b[1;32m~\\AppData\\Local\\anaconda3\\envs\\dev\\lib\\site-packages\\geopandas\\io\\file.py:297\u001b[0m, in \u001b[0;36m_read_file\u001b[1;34m(filename, bbox, mask, rows, engine, **kwargs)\u001b[0m\n\u001b[0;32m    294\u001b[0m     \u001b[38;5;28;01melse\u001b[39;00m:\n\u001b[0;32m    295\u001b[0m         path_or_bytes \u001b[38;5;241m=\u001b[39m filename\n\u001b[1;32m--> 297\u001b[0m     \u001b[38;5;28;01mreturn\u001b[39;00m _read_file_fiona(\n\u001b[0;32m    298\u001b[0m         path_or_bytes, from_bytes, bbox\u001b[38;5;241m=\u001b[39mbbox, mask\u001b[38;5;241m=\u001b[39mmask, rows\u001b[38;5;241m=\u001b[39mrows, \u001b[38;5;241m*\u001b[39m\u001b[38;5;241m*\u001b[39mkwargs\n\u001b[0;32m    299\u001b[0m     )\n\u001b[0;32m    301\u001b[0m \u001b[38;5;28;01melse\u001b[39;00m:\n\u001b[0;32m    302\u001b[0m     \u001b[38;5;28;01mraise\u001b[39;00m \u001b[38;5;167;01mValueError\u001b[39;00m(\u001b[38;5;124mf\u001b[39m\u001b[38;5;124m\"\u001b[39m\u001b[38;5;124munknown engine \u001b[39m\u001b[38;5;124m'\u001b[39m\u001b[38;5;132;01m{\u001b[39;00mengine\u001b[38;5;132;01m}\u001b[39;00m\u001b[38;5;124m'\u001b[39m\u001b[38;5;124m\"\u001b[39m)\n",
      "File \u001b[1;32m~\\AppData\\Local\\anaconda3\\envs\\dev\\lib\\site-packages\\geopandas\\io\\file.py:395\u001b[0m, in \u001b[0;36m_read_file_fiona\u001b[1;34m(path_or_bytes, from_bytes, bbox, mask, rows, where, **kwargs)\u001b[0m\n\u001b[0;32m    391\u001b[0m     df \u001b[38;5;241m=\u001b[39m pd\u001b[38;5;241m.\u001b[39mDataFrame(\n\u001b[0;32m    392\u001b[0m         [record[\u001b[38;5;124m\"\u001b[39m\u001b[38;5;124mproperties\u001b[39m\u001b[38;5;124m\"\u001b[39m] \u001b[38;5;28;01mfor\u001b[39;00m record \u001b[38;5;129;01min\u001b[39;00m f_filt], columns\u001b[38;5;241m=\u001b[39mcolumns\n\u001b[0;32m    393\u001b[0m     )\n\u001b[0;32m    394\u001b[0m \u001b[38;5;28;01melse\u001b[39;00m:\n\u001b[1;32m--> 395\u001b[0m     df \u001b[38;5;241m=\u001b[39m \u001b[43mGeoDataFrame\u001b[49m\u001b[38;5;241;43m.\u001b[39;49m\u001b[43mfrom_features\u001b[49m\u001b[43m(\u001b[49m\n\u001b[0;32m    396\u001b[0m \u001b[43m        \u001b[49m\u001b[43mf_filt\u001b[49m\u001b[43m,\u001b[49m\u001b[43m \u001b[49m\u001b[43mcrs\u001b[49m\u001b[38;5;241;43m=\u001b[39;49m\u001b[43mcrs\u001b[49m\u001b[43m,\u001b[49m\u001b[43m \u001b[49m\u001b[43mcolumns\u001b[49m\u001b[38;5;241;43m=\u001b[39;49m\u001b[43mcolumns\u001b[49m\u001b[43m \u001b[49m\u001b[38;5;241;43m+\u001b[39;49m\u001b[43m \u001b[49m\u001b[43m[\u001b[49m\u001b[38;5;124;43m\"\u001b[39;49m\u001b[38;5;124;43mgeometry\u001b[39;49m\u001b[38;5;124;43m\"\u001b[39;49m\u001b[43m]\u001b[49m\n\u001b[0;32m    397\u001b[0m \u001b[43m    \u001b[49m\u001b[43m)\u001b[49m\n\u001b[0;32m    398\u001b[0m \u001b[38;5;28;01mfor\u001b[39;00m k \u001b[38;5;129;01min\u001b[39;00m datetime_fields:\n\u001b[0;32m    399\u001b[0m     as_dt \u001b[38;5;241m=\u001b[39m pd\u001b[38;5;241m.\u001b[39mto_datetime(df[k], errors\u001b[38;5;241m=\u001b[39m\u001b[38;5;124m\"\u001b[39m\u001b[38;5;124mignore\u001b[39m\u001b[38;5;124m\"\u001b[39m)\n",
      "File \u001b[1;32m~\\AppData\\Local\\anaconda3\\envs\\dev\\lib\\site-packages\\geopandas\\geodataframe.py:636\u001b[0m, in \u001b[0;36mGeoDataFrame.from_features\u001b[1;34m(cls, features, crs, columns)\u001b[0m\n\u001b[0;32m    633\u001b[0m     features_lst \u001b[38;5;241m=\u001b[39m features\n\u001b[0;32m    635\u001b[0m rows \u001b[38;5;241m=\u001b[39m []\n\u001b[1;32m--> 636\u001b[0m \u001b[38;5;28;01mfor\u001b[39;00m feature \u001b[38;5;129;01min\u001b[39;00m features_lst:\n\u001b[0;32m    637\u001b[0m     \u001b[38;5;66;03m# load geometry\u001b[39;00m\n\u001b[0;32m    638\u001b[0m     \u001b[38;5;28;01mif\u001b[39;00m \u001b[38;5;28mhasattr\u001b[39m(feature, \u001b[38;5;124m\"\u001b[39m\u001b[38;5;124m__geo_interface__\u001b[39m\u001b[38;5;124m\"\u001b[39m):\n\u001b[0;32m    639\u001b[0m         feature \u001b[38;5;241m=\u001b[39m feature\u001b[38;5;241m.\u001b[39m__geo_interface__\n",
      "File \u001b[1;32mfiona\\\\ogrext.pyx:1739\u001b[0m, in \u001b[0;36mfiona.ogrext.Iterator.__next__\u001b[1;34m()\u001b[0m\n",
      "File \u001b[1;32mfiona\\\\ogrext.pyx:331\u001b[0m, in \u001b[0;36mfiona.ogrext.FeatureBuilder.build\u001b[1;34m()\u001b[0m\n",
      "\u001b[1;31mTypeError\u001b[0m: startswith first arg must be bytes or a tuple of bytes, not str"
     ]
    }
   ],
   "source": [
    "# Load in GeoJSON\n",
    "gdf = gpd.read_file(\"C:/Users/mford.MSBIOWORKS/Project_1/gz_2010_us_050_00_5m.json\")\n",
    "# print(monthly_energy_production_df)\n",
    "gdf.head(5)\n",
    "\n",
    "# us_states = gpd.read_file('us_states.geojson')"
   ]
  },
  {
   "cell_type": "code",
   "execution_count": 19,
   "id": "afacce50",
   "metadata": {
    "scrolled": false
   },
   "outputs": [
    {
     "name": "stdout",
     "output_type": "stream",
     "text": [
      "Number of rows in the DataFrame: 52\n"
     ]
    }
   ],
   "source": [
    "row_count = len(gdf)\n",
    "print(\"Number of rows in the DataFrame:\", row_count)"
   ]
  },
  {
   "cell_type": "code",
   "execution_count": 20,
   "id": "75cf585d",
   "metadata": {
    "scrolled": true
   },
   "outputs": [
    {
     "name": "stdout",
     "output_type": "stream",
     "text": [
      "GEO_ID          object\n",
      "STATE           object\n",
      "NAME            object\n",
      "LSAD            object\n",
      "CENSUSAREA     float64\n",
      "geometry      geometry\n",
      "dtype: object\n"
     ]
    }
   ],
   "source": [
    "data_types = gdf.dtypes\n",
    "print(data_types)"
   ]
  },
  {
   "cell_type": "code",
   "execution_count": 21,
   "id": "d39b8cfa",
   "metadata": {
    "scrolled": true
   },
   "outputs": [
    {
     "data": {
      "text/html": [
       "<div>\n",
       "<style scoped>\n",
       "    .dataframe tbody tr th:only-of-type {\n",
       "        vertical-align: middle;\n",
       "    }\n",
       "\n",
       "    .dataframe tbody tr th {\n",
       "        vertical-align: top;\n",
       "    }\n",
       "\n",
       "    .dataframe thead th {\n",
       "        text-align: right;\n",
       "    }\n",
       "</style>\n",
       "<table border=\"1\" class=\"dataframe\">\n",
       "  <thead>\n",
       "    <tr style=\"text-align: right;\">\n",
       "      <th></th>\n",
       "      <th>case_id</th>\n",
       "      <th>xlong</th>\n",
       "      <th>ylat</th>\n",
       "    </tr>\n",
       "  </thead>\n",
       "  <tbody>\n",
       "    <tr>\n",
       "      <th>0</th>\n",
       "      <td>3123985</td>\n",
       "      <td>-99.78703</td>\n",
       "      <td>36.50172</td>\n",
       "    </tr>\n",
       "    <tr>\n",
       "      <th>1</th>\n",
       "      <td>3123544</td>\n",
       "      <td>-99.72562</td>\n",
       "      <td>36.43713</td>\n",
       "    </tr>\n",
       "    <tr>\n",
       "      <th>2</th>\n",
       "      <td>3123887</td>\n",
       "      <td>-99.76972</td>\n",
       "      <td>36.44493</td>\n",
       "    </tr>\n",
       "    <tr>\n",
       "      <th>3</th>\n",
       "      <td>3123765</td>\n",
       "      <td>-99.80706</td>\n",
       "      <td>36.51394</td>\n",
       "    </tr>\n",
       "    <tr>\n",
       "      <th>4</th>\n",
       "      <td>3123814</td>\n",
       "      <td>-99.75848</td>\n",
       "      <td>36.44498</td>\n",
       "    </tr>\n",
       "  </tbody>\n",
       "</table>\n",
       "</div>"
      ],
      "text/plain": [
       "   case_id     xlong      ylat\n",
       "0  3123985 -99.78703  36.50172\n",
       "1  3123544 -99.72562  36.43713\n",
       "2  3123887 -99.76972  36.44493\n",
       "3  3123765 -99.80706  36.51394\n",
       "4  3123814 -99.75848  36.44498"
      ]
     },
     "execution_count": 21,
     "metadata": {},
     "output_type": "execute_result"
    }
   ],
   "source": [
    "# Call the USWTDB API and apply custom URL parameters to the request. Parameters allow us to filter the data return.\n",
    "data_url = \"https://eersc.usgs.gov/api/uswtdb/v1/turbines?&t_cap=gt.0&select=case_id,xlong,ylat\"\n",
    "\n",
    "# Parse the JSON response from the API return and populate the dataframe\n",
    "dfClusterMap = pd.read_json(data_url)\n",
    "\n",
    "# Preview the first five records of our dataframe based on the custom URL paramters in the API request\n",
    "dfClusterMap.head(5)\n"
   ]
  },
  {
   "cell_type": "code",
   "execution_count": 22,
   "id": "909b3edf",
   "metadata": {},
   "outputs": [
    {
     "name": "stdout",
     "output_type": "stream",
     "text": [
      "Number of rows in the DataFrame: 69817\n"
     ]
    }
   ],
   "source": [
    "row_count = len(dfClusterMap)\n",
    "print(\"Number of rows in the DataFrame:\", row_count)"
   ]
  },
  {
   "cell_type": "code",
   "execution_count": 23,
   "id": "754823be",
   "metadata": {
    "scrolled": true
   },
   "outputs": [
    {
     "name": "stdout",
     "output_type": "stream",
     "text": [
      "case_id      int64\n",
      "xlong      float64\n",
      "ylat       float64\n",
      "dtype: object\n"
     ]
    }
   ],
   "source": [
    "data_types = dfClusterMap.dtypes\n",
    "print(data_types)"
   ]
  },
  {
   "cell_type": "code",
   "execution_count": 24,
   "id": "74cfcbe4",
   "metadata": {
    "scrolled": true
   },
   "outputs": [
    {
     "data": {
      "text/html": [
       "<div>\n",
       "<style scoped>\n",
       "    .dataframe tbody tr th:only-of-type {\n",
       "        vertical-align: middle;\n",
       "    }\n",
       "\n",
       "    .dataframe tbody tr th {\n",
       "        vertical-align: top;\n",
       "    }\n",
       "\n",
       "    .dataframe thead th {\n",
       "        text-align: right;\n",
       "    }\n",
       "</style>\n",
       "<table border=\"1\" class=\"dataframe\">\n",
       "  <thead>\n",
       "    <tr style=\"text-align: right;\">\n",
       "      <th></th>\n",
       "      <th>case_id</th>\n",
       "      <th>long</th>\n",
       "      <th>lat</th>\n",
       "    </tr>\n",
       "  </thead>\n",
       "  <tbody>\n",
       "    <tr>\n",
       "      <th>0</th>\n",
       "      <td>3123985</td>\n",
       "      <td>-99.78703</td>\n",
       "      <td>36.50172</td>\n",
       "    </tr>\n",
       "    <tr>\n",
       "      <th>1</th>\n",
       "      <td>3123544</td>\n",
       "      <td>-99.72562</td>\n",
       "      <td>36.43713</td>\n",
       "    </tr>\n",
       "    <tr>\n",
       "      <th>2</th>\n",
       "      <td>3123887</td>\n",
       "      <td>-99.76972</td>\n",
       "      <td>36.44493</td>\n",
       "    </tr>\n",
       "    <tr>\n",
       "      <th>3</th>\n",
       "      <td>3123765</td>\n",
       "      <td>-99.80706</td>\n",
       "      <td>36.51394</td>\n",
       "    </tr>\n",
       "    <tr>\n",
       "      <th>4</th>\n",
       "      <td>3123814</td>\n",
       "      <td>-99.75848</td>\n",
       "      <td>36.44498</td>\n",
       "    </tr>\n",
       "  </tbody>\n",
       "</table>\n",
       "</div>"
      ],
      "text/plain": [
       "   case_id      long       lat\n",
       "0  3123985 -99.78703  36.50172\n",
       "1  3123544 -99.72562  36.43713\n",
       "2  3123887 -99.76972  36.44493\n",
       "3  3123765 -99.80706  36.51394\n",
       "4  3123814 -99.75848  36.44498"
      ]
     },
     "execution_count": 24,
     "metadata": {},
     "output_type": "execute_result"
    }
   ],
   "source": [
    "dfClusterMap.rename(columns = {'xlong' : 'long', 'ylat' : 'lat'}, inplace = True)\n",
    "dfClusterMap.head(5)    "
   ]
  },
  {
   "cell_type": "code",
   "execution_count": 25,
   "id": "ee21a56a",
   "metadata": {},
   "outputs": [],
   "source": [
    "# # Assuming you have a GeoDataFrame containing your latitude and longitude data called 'gdf'\n",
    "# # Perform a spatial join to get the state information\n",
    "# gdf_with_state = gpd.sjoin(gdf, us_states, how=\"left\", op=\"within\")\n",
    "\n",
    "# Assuming 'dfClusterMap' is your DataFrame with latitude and longitude columns\n",
    "# Create a GeoDataFrame with point geometries\n",
    "geometry = [Point(xy) for xy in zip(dfClusterMap['long'], dfClusterMap['lat'])]\n",
    "\n",
    "\n",
    "gdfClusterMap = gpd.GeoDataFrame(dfClusterMap, geometry=geometry)\n",
    "\n",
    "# Set the CRS to EPSG:4326\n",
    "gdfClusterMap.crs = 'EPSG:4326'\n",
    "\n",
    "# Now you can perform a spatial join using gdfClusterMap as the GeoDataFrame\n",
    "result = gpd.sjoin(gdfClusterMap, gdf, how=\"left\", predicate=\"within\")\n",
    "\n",
    "# 'result' will contain the spatially joined data\n",
    "\n"
   ]
  },
  {
   "cell_type": "code",
   "execution_count": 26,
   "id": "21583ff5",
   "metadata": {},
   "outputs": [
    {
     "data": {
      "text/html": [
       "<div>\n",
       "<style scoped>\n",
       "    .dataframe tbody tr th:only-of-type {\n",
       "        vertical-align: middle;\n",
       "    }\n",
       "\n",
       "    .dataframe tbody tr th {\n",
       "        vertical-align: top;\n",
       "    }\n",
       "\n",
       "    .dataframe thead th {\n",
       "        text-align: right;\n",
       "    }\n",
       "</style>\n",
       "<table border=\"1\" class=\"dataframe\">\n",
       "  <thead>\n",
       "    <tr style=\"text-align: right;\">\n",
       "      <th></th>\n",
       "      <th>case_id</th>\n",
       "      <th>long</th>\n",
       "      <th>lat</th>\n",
       "      <th>geometry</th>\n",
       "      <th>index_right</th>\n",
       "      <th>GEO_ID</th>\n",
       "      <th>STATE</th>\n",
       "      <th>NAME</th>\n",
       "      <th>LSAD</th>\n",
       "      <th>CENSUSAREA</th>\n",
       "    </tr>\n",
       "  </thead>\n",
       "  <tbody>\n",
       "    <tr>\n",
       "      <th>69812</th>\n",
       "      <td>3003325</td>\n",
       "      <td>-162.55733</td>\n",
       "      <td>66.83433</td>\n",
       "      <td>POINT (-162.55733 66.83433)</td>\n",
       "      <td>1.0</td>\n",
       "      <td>0400000US02</td>\n",
       "      <td>02</td>\n",
       "      <td>Alaska</td>\n",
       "      <td></td>\n",
       "      <td>570640.950</td>\n",
       "    </tr>\n",
       "    <tr>\n",
       "      <th>69813</th>\n",
       "      <td>3109704</td>\n",
       "      <td>-116.55776</td>\n",
       "      <td>33.89111</td>\n",
       "      <td>POINT (-116.55776 33.89111)</td>\n",
       "      <td>4.0</td>\n",
       "      <td>0400000US06</td>\n",
       "      <td>06</td>\n",
       "      <td>California</td>\n",
       "      <td></td>\n",
       "      <td>155779.220</td>\n",
       "    </tr>\n",
       "    <tr>\n",
       "      <th>69814</th>\n",
       "      <td>3110036</td>\n",
       "      <td>-116.55260</td>\n",
       "      <td>33.89020</td>\n",
       "      <td>POINT (-116.55260 33.89020)</td>\n",
       "      <td>4.0</td>\n",
       "      <td>0400000US06</td>\n",
       "      <td>06</td>\n",
       "      <td>California</td>\n",
       "      <td></td>\n",
       "      <td>155779.220</td>\n",
       "    </tr>\n",
       "    <tr>\n",
       "      <th>69815</th>\n",
       "      <td>3110328</td>\n",
       "      <td>-116.55264</td>\n",
       "      <td>33.89168</td>\n",
       "      <td>POINT (-116.55264 33.89168)</td>\n",
       "      <td>4.0</td>\n",
       "      <td>0400000US06</td>\n",
       "      <td>06</td>\n",
       "      <td>California</td>\n",
       "      <td></td>\n",
       "      <td>155779.220</td>\n",
       "    </tr>\n",
       "    <tr>\n",
       "      <th>69816</th>\n",
       "      <td>3124485</td>\n",
       "      <td>-83.13453</td>\n",
       "      <td>41.44075</td>\n",
       "      <td>POINT (-83.13453 41.44075)</td>\n",
       "      <td>35.0</td>\n",
       "      <td>0400000US39</td>\n",
       "      <td>39</td>\n",
       "      <td>Ohio</td>\n",
       "      <td></td>\n",
       "      <td>40860.694</td>\n",
       "    </tr>\n",
       "  </tbody>\n",
       "</table>\n",
       "</div>"
      ],
      "text/plain": [
       "       case_id       long       lat                     geometry  index_right  \\\n",
       "69812  3003325 -162.55733  66.83433  POINT (-162.55733 66.83433)          1.0   \n",
       "69813  3109704 -116.55776  33.89111  POINT (-116.55776 33.89111)          4.0   \n",
       "69814  3110036 -116.55260  33.89020  POINT (-116.55260 33.89020)          4.0   \n",
       "69815  3110328 -116.55264  33.89168  POINT (-116.55264 33.89168)          4.0   \n",
       "69816  3124485  -83.13453  41.44075   POINT (-83.13453 41.44075)         35.0   \n",
       "\n",
       "            GEO_ID STATE        NAME LSAD  CENSUSAREA  \n",
       "69812  0400000US02    02      Alaska       570640.950  \n",
       "69813  0400000US06    06  California       155779.220  \n",
       "69814  0400000US06    06  California       155779.220  \n",
       "69815  0400000US06    06  California       155779.220  \n",
       "69816  0400000US39    39        Ohio        40860.694  "
      ]
     },
     "execution_count": 26,
     "metadata": {},
     "output_type": "execute_result"
    }
   ],
   "source": [
    "result.tail()"
   ]
  },
  {
   "cell_type": "code",
   "execution_count": 27,
   "id": "c52e45de",
   "metadata": {},
   "outputs": [
    {
     "name": "stdout",
     "output_type": "stream",
     "text": [
      "Number of rows in the DataFrame: 69817\n"
     ]
    }
   ],
   "source": [
    "row_count = len(result)\n",
    "print(\"Number of rows in the DataFrame:\", row_count)"
   ]
  },
  {
   "cell_type": "code",
   "execution_count": 28,
   "id": "3102bf3f",
   "metadata": {},
   "outputs": [
    {
     "name": "stdout",
     "output_type": "stream",
     "text": [
      "43\n"
     ]
    }
   ],
   "source": [
    "unique_count = result['NAME'].nunique()\n",
    "print(unique_count)"
   ]
  },
  {
   "cell_type": "code",
   "execution_count": 29,
   "id": "3adb1cfc",
   "metadata": {},
   "outputs": [
    {
     "name": "stdout",
     "output_type": "stream",
     "text": [
      "Index(['case_id', 'long', 'lat', 'geometry', 'index_right', 'GEO_ID', 'STATE',\n",
      "       'NAME', 'LSAD', 'CENSUSAREA'],\n",
      "      dtype='object')\n"
     ]
    }
   ],
   "source": [
    "# Assuming 'result' is your GeoDataFrame\n",
    "column_headers = result.columns\n",
    "\n",
    "# Print the column headers\n",
    "print(column_headers)\n"
   ]
  },
  {
   "cell_type": "code",
   "execution_count": 30,
   "id": "e3d93019",
   "metadata": {},
   "outputs": [
    {
     "name": "stdout",
     "output_type": "stream",
     "text": [
      "             State  Count\n",
      "0            Texas  18322\n",
      "1             Iowa   6284\n",
      "2         Oklahoma   5344\n",
      "3           Kansas   3927\n",
      "4       California   3857\n",
      "5         Illinois   3557\n",
      "6         Colorado   2825\n",
      "7        Minnesota   2700\n",
      "8           Oregon   2113\n",
      "9     North Dakota   2086\n",
      "10      New Mexico   1923\n",
      "11      Washington   1822\n",
      "12        Michigan   1637\n",
      "13         Indiana   1602\n",
      "14        Nebraska   1480\n",
      "15         Wyoming   1358\n",
      "16    South Dakota   1327\n",
      "17        New York   1259\n",
      "18        Missouri   1081\n",
      "19         Montana    795\n",
      "20    Pennsylvania    751\n",
      "21           Idaho    541\n",
      "22            Ohio    492\n",
      "23       Wisconsin    478\n",
      "24   West Virginia    419\n",
      "25           Maine    416\n",
      "26         Arizona    324\n",
      "27            Utah    205\n",
      "28          Hawaii    127\n",
      "29          Alaska    117\n",
      "30  North Carolina    104\n",
      "31   Massachusetts     91\n",
      "32   New Hampshire     84\n",
      "33        Maryland     80\n",
      "34         Vermont     73\n",
      "35          Nevada     66\n",
      "36     Puerto Rico     60\n",
      "37    Rhode Island     30\n",
      "38       Tennessee     18\n",
      "39      New Jersey      6\n",
      "40     Connecticut      3\n",
      "41        Arkansas      1\n",
      "42        Delaware      1\n"
     ]
    }
   ],
   "source": [
    "# Assuming 'df' is your DataFrame and 'state_column' is the name of the column with state information\n",
    "state_counts = result['NAME'].value_counts().reset_index()\n",
    "state_counts.columns = ['State', 'Count']\n",
    "\n",
    "# The resulting 'state_counts' DataFrame will contain state names and their corresponding counts\n",
    "print(state_counts)"
   ]
  },
  {
   "cell_type": "code",
   "execution_count": 31,
   "id": "6928dd98",
   "metadata": {},
   "outputs": [],
   "source": [
    "state_counts.to_csv('state_counts.csv', index=False)"
   ]
  },
  {
   "cell_type": "code",
   "execution_count": 32,
   "id": "a300f2ba",
   "metadata": {},
   "outputs": [],
   "source": [
    "result_df = result.drop(columns='geometry')"
   ]
  },
  {
   "cell_type": "code",
   "execution_count": 33,
   "id": "7f10fda1",
   "metadata": {},
   "outputs": [
    {
     "data": {
      "text/html": [
       "<div>\n",
       "<style scoped>\n",
       "    .dataframe tbody tr th:only-of-type {\n",
       "        vertical-align: middle;\n",
       "    }\n",
       "\n",
       "    .dataframe tbody tr th {\n",
       "        vertical-align: top;\n",
       "    }\n",
       "\n",
       "    .dataframe thead th {\n",
       "        text-align: right;\n",
       "    }\n",
       "</style>\n",
       "<table border=\"1\" class=\"dataframe\">\n",
       "  <thead>\n",
       "    <tr style=\"text-align: right;\">\n",
       "      <th></th>\n",
       "      <th>case_id</th>\n",
       "      <th>long</th>\n",
       "      <th>lat</th>\n",
       "      <th>index_right</th>\n",
       "      <th>GEO_ID</th>\n",
       "      <th>STATE</th>\n",
       "      <th>NAME</th>\n",
       "      <th>LSAD</th>\n",
       "      <th>CENSUSAREA</th>\n",
       "    </tr>\n",
       "  </thead>\n",
       "  <tbody>\n",
       "    <tr>\n",
       "      <th>0</th>\n",
       "      <td>3123985</td>\n",
       "      <td>-99.78703</td>\n",
       "      <td>36.50172</td>\n",
       "      <td>36.0</td>\n",
       "      <td>0400000US40</td>\n",
       "      <td>40</td>\n",
       "      <td>Oklahoma</td>\n",
       "      <td></td>\n",
       "      <td>68594.921</td>\n",
       "    </tr>\n",
       "    <tr>\n",
       "      <th>1</th>\n",
       "      <td>3123544</td>\n",
       "      <td>-99.72562</td>\n",
       "      <td>36.43713</td>\n",
       "      <td>36.0</td>\n",
       "      <td>0400000US40</td>\n",
       "      <td>40</td>\n",
       "      <td>Oklahoma</td>\n",
       "      <td></td>\n",
       "      <td>68594.921</td>\n",
       "    </tr>\n",
       "    <tr>\n",
       "      <th>2</th>\n",
       "      <td>3123887</td>\n",
       "      <td>-99.76972</td>\n",
       "      <td>36.44493</td>\n",
       "      <td>36.0</td>\n",
       "      <td>0400000US40</td>\n",
       "      <td>40</td>\n",
       "      <td>Oklahoma</td>\n",
       "      <td></td>\n",
       "      <td>68594.921</td>\n",
       "    </tr>\n",
       "    <tr>\n",
       "      <th>3</th>\n",
       "      <td>3123765</td>\n",
       "      <td>-99.80706</td>\n",
       "      <td>36.51394</td>\n",
       "      <td>36.0</td>\n",
       "      <td>0400000US40</td>\n",
       "      <td>40</td>\n",
       "      <td>Oklahoma</td>\n",
       "      <td></td>\n",
       "      <td>68594.921</td>\n",
       "    </tr>\n",
       "    <tr>\n",
       "      <th>4</th>\n",
       "      <td>3123814</td>\n",
       "      <td>-99.75848</td>\n",
       "      <td>36.44498</td>\n",
       "      <td>36.0</td>\n",
       "      <td>0400000US40</td>\n",
       "      <td>40</td>\n",
       "      <td>Oklahoma</td>\n",
       "      <td></td>\n",
       "      <td>68594.921</td>\n",
       "    </tr>\n",
       "  </tbody>\n",
       "</table>\n",
       "</div>"
      ],
      "text/plain": [
       "   case_id      long       lat  index_right       GEO_ID STATE      NAME LSAD  \\\n",
       "0  3123985 -99.78703  36.50172         36.0  0400000US40    40  Oklahoma        \n",
       "1  3123544 -99.72562  36.43713         36.0  0400000US40    40  Oklahoma        \n",
       "2  3123887 -99.76972  36.44493         36.0  0400000US40    40  Oklahoma        \n",
       "3  3123765 -99.80706  36.51394         36.0  0400000US40    40  Oklahoma        \n",
       "4  3123814 -99.75848  36.44498         36.0  0400000US40    40  Oklahoma        \n",
       "\n",
       "   CENSUSAREA  \n",
       "0   68594.921  \n",
       "1   68594.921  \n",
       "2   68594.921  \n",
       "3   68594.921  \n",
       "4   68594.921  "
      ]
     },
     "execution_count": 33,
     "metadata": {},
     "output_type": "execute_result"
    }
   ],
   "source": [
    "result_df.head()"
   ]
  },
  {
   "cell_type": "code",
   "execution_count": null,
   "id": "4187a931",
   "metadata": {},
   "outputs": [],
   "source": []
  }
 ],
 "metadata": {
  "kernelspec": {
   "display_name": "Python 3 (ipykernel)",
   "language": "python",
   "name": "python3"
  },
  "language_info": {
   "codemirror_mode": {
    "name": "ipython",
    "version": 3
   },
   "file_extension": ".py",
   "mimetype": "text/x-python",
   "name": "python",
   "nbconvert_exporter": "python",
   "pygments_lexer": "ipython3",
   "version": "3.10.13"
  }
 },
 "nbformat": 4,
 "nbformat_minor": 5
}
