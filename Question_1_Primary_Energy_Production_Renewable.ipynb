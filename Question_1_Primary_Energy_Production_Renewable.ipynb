{
 "cells": [
  {
   "cell_type": "code",
   "execution_count": 65,
   "id": "a4e15e02",
   "metadata": {},
   "outputs": [],
   "source": [
    "# Dependencies\n",
    "import matplotlib.pyplot as plt\n",
    "import numpy as np\n",
    "import pandas as pd\n"
   ]
  },
  {
   "cell_type": "code",
   "execution_count": 66,
   "id": "16c5cfe9",
   "metadata": {
    "scrolled": false
   },
   "outputs": [
    {
     "data": {
      "text/html": [
       "<div>\n",
       "<style scoped>\n",
       "    .dataframe tbody tr th:only-of-type {\n",
       "        vertical-align: middle;\n",
       "    }\n",
       "\n",
       "    .dataframe tbody tr th {\n",
       "        vertical-align: top;\n",
       "    }\n",
       "\n",
       "    .dataframe thead th {\n",
       "        text-align: right;\n",
       "    }\n",
       "</style>\n",
       "<table border=\"1\" class=\"dataframe\">\n",
       "  <thead>\n",
       "    <tr style=\"text-align: right;\">\n",
       "      <th></th>\n",
       "      <th>MSN</th>\n",
       "      <th>YYYYMM</th>\n",
       "      <th>Value</th>\n",
       "      <th>Column_Order</th>\n",
       "      <th>Description</th>\n",
       "      <th>Unit</th>\n",
       "    </tr>\n",
       "  </thead>\n",
       "  <tbody>\n",
       "    <tr>\n",
       "      <th>0</th>\n",
       "      <td>CLPRBUS</td>\n",
       "      <td>194913</td>\n",
       "      <td>11.973882</td>\n",
       "      <td>1</td>\n",
       "      <td>Coal Production</td>\n",
       "      <td>Quadrillion Btu</td>\n",
       "    </tr>\n",
       "    <tr>\n",
       "      <th>1</th>\n",
       "      <td>CLPRBUS</td>\n",
       "      <td>195013</td>\n",
       "      <td>14.060135</td>\n",
       "      <td>1</td>\n",
       "      <td>Coal Production</td>\n",
       "      <td>Quadrillion Btu</td>\n",
       "    </tr>\n",
       "    <tr>\n",
       "      <th>2</th>\n",
       "      <td>CLPRBUS</td>\n",
       "      <td>195113</td>\n",
       "      <td>14.419325</td>\n",
       "      <td>1</td>\n",
       "      <td>Coal Production</td>\n",
       "      <td>Quadrillion Btu</td>\n",
       "    </tr>\n",
       "    <tr>\n",
       "      <th>3</th>\n",
       "      <td>CLPRBUS</td>\n",
       "      <td>195213</td>\n",
       "      <td>12.734313</td>\n",
       "      <td>1</td>\n",
       "      <td>Coal Production</td>\n",
       "      <td>Quadrillion Btu</td>\n",
       "    </tr>\n",
       "    <tr>\n",
       "      <th>4</th>\n",
       "      <td>CLPRBUS</td>\n",
       "      <td>195313</td>\n",
       "      <td>12.277746</td>\n",
       "      <td>1</td>\n",
       "      <td>Coal Production</td>\n",
       "      <td>Quadrillion Btu</td>\n",
       "    </tr>\n",
       "  </tbody>\n",
       "</table>\n",
       "</div>"
      ],
      "text/plain": [
       "       MSN  YYYYMM      Value  Column_Order      Description             Unit\n",
       "0  CLPRBUS  194913  11.973882             1  Coal Production  Quadrillion Btu\n",
       "1  CLPRBUS  195013  14.060135             1  Coal Production  Quadrillion Btu\n",
       "2  CLPRBUS  195113  14.419325             1  Coal Production  Quadrillion Btu\n",
       "3  CLPRBUS  195213  12.734313             1  Coal Production  Quadrillion Btu\n",
       "4  CLPRBUS  195313  12.277746             1  Coal Production  Quadrillion Btu"
      ]
     },
     "execution_count": 66,
     "metadata": {},
     "output_type": "execute_result"
    }
   ],
   "source": [
    "# Load in csv\n",
    "ep_df = pd.read_csv(\"C:/Users/mford.MSBIOWORKS/Project_1/MER_T01_02.csv\")\n",
    "# print(monthly_energy_production_df)\n",
    "ep_df.head()"
   ]
  },
  {
   "cell_type": "code",
   "execution_count": 67,
   "id": "5d196b55",
   "metadata": {},
   "outputs": [
    {
     "data": {
      "text/html": [
       "<div>\n",
       "<style scoped>\n",
       "    .dataframe tbody tr th:only-of-type {\n",
       "        vertical-align: middle;\n",
       "    }\n",
       "\n",
       "    .dataframe tbody tr th {\n",
       "        vertical-align: top;\n",
       "    }\n",
       "\n",
       "    .dataframe thead th {\n",
       "        text-align: right;\n",
       "    }\n",
       "</style>\n",
       "<table border=\"1\" class=\"dataframe\">\n",
       "  <thead>\n",
       "    <tr style=\"text-align: right;\">\n",
       "      <th></th>\n",
       "      <th>MSN</th>\n",
       "      <th>YYYYMM</th>\n",
       "      <th>Value</th>\n",
       "      <th>Column_Order</th>\n",
       "      <th>Description</th>\n",
       "      <th>Unit</th>\n",
       "    </tr>\n",
       "  </thead>\n",
       "  <tbody>\n",
       "    <tr>\n",
       "      <th>0</th>\n",
       "      <td>CLPRBUS</td>\n",
       "      <td>194913</td>\n",
       "      <td>11.973882</td>\n",
       "      <td>1</td>\n",
       "      <td>Coal Production</td>\n",
       "      <td>Quadrillion Btu</td>\n",
       "    </tr>\n",
       "    <tr>\n",
       "      <th>1</th>\n",
       "      <td>CLPRBUS</td>\n",
       "      <td>195013</td>\n",
       "      <td>14.060135</td>\n",
       "      <td>1</td>\n",
       "      <td>Coal Production</td>\n",
       "      <td>Quadrillion Btu</td>\n",
       "    </tr>\n",
       "    <tr>\n",
       "      <th>2</th>\n",
       "      <td>CLPRBUS</td>\n",
       "      <td>195113</td>\n",
       "      <td>14.419325</td>\n",
       "      <td>1</td>\n",
       "      <td>Coal Production</td>\n",
       "      <td>Quadrillion Btu</td>\n",
       "    </tr>\n",
       "    <tr>\n",
       "      <th>3</th>\n",
       "      <td>CLPRBUS</td>\n",
       "      <td>195213</td>\n",
       "      <td>12.734313</td>\n",
       "      <td>1</td>\n",
       "      <td>Coal Production</td>\n",
       "      <td>Quadrillion Btu</td>\n",
       "    </tr>\n",
       "    <tr>\n",
       "      <th>4</th>\n",
       "      <td>CLPRBUS</td>\n",
       "      <td>195313</td>\n",
       "      <td>12.277746</td>\n",
       "      <td>1</td>\n",
       "      <td>Coal Production</td>\n",
       "      <td>Quadrillion Btu</td>\n",
       "    </tr>\n",
       "  </tbody>\n",
       "</table>\n",
       "</div>"
      ],
      "text/plain": [
       "       MSN  YYYYMM      Value  Column_Order      Description             Unit\n",
       "0  CLPRBUS  194913  11.973882             1  Coal Production  Quadrillion Btu\n",
       "1  CLPRBUS  195013  14.060135             1  Coal Production  Quadrillion Btu\n",
       "2  CLPRBUS  195113  14.419325             1  Coal Production  Quadrillion Btu\n",
       "3  CLPRBUS  195213  12.734313             1  Coal Production  Quadrillion Btu\n",
       "4  CLPRBUS  195313  12.277746             1  Coal Production  Quadrillion Btu"
      ]
     },
     "execution_count": 67,
     "metadata": {},
     "output_type": "execute_result"
    }
   ],
   "source": [
    "# Convert date to string\n",
    "ep_df[\"YYYYMM\"] = ep_df[\"YYYYMM\"].astype(str)\n",
    "ep_df.head()"
   ]
  },
  {
   "cell_type": "code",
   "execution_count": 84,
   "id": "fdeeafe0",
   "metadata": {},
   "outputs": [
    {
     "name": "stdout",
     "output_type": "stream",
     "text": [
      "MSN             object\n",
      "YYYYMM          object\n",
      "Value           object\n",
      "Column_Order     int64\n",
      "Description     object\n",
      "Unit            object\n",
      "dtype: object\n"
     ]
    }
   ],
   "source": [
    "data_types = ep_df.dtypes\n",
    "print(data_types)"
   ]
  },
  {
   "cell_type": "code",
   "execution_count": 109,
   "id": "4110af1f",
   "metadata": {},
   "outputs": [
    {
     "data": {
      "text/html": [
       "<div>\n",
       "<style scoped>\n",
       "    .dataframe tbody tr th:only-of-type {\n",
       "        vertical-align: middle;\n",
       "    }\n",
       "\n",
       "    .dataframe tbody tr th {\n",
       "        vertical-align: top;\n",
       "    }\n",
       "\n",
       "    .dataframe thead th {\n",
       "        text-align: right;\n",
       "    }\n",
       "</style>\n",
       "<table border=\"1\" class=\"dataframe\">\n",
       "  <thead>\n",
       "    <tr style=\"text-align: right;\">\n",
       "      <th></th>\n",
       "      <th>MSN</th>\n",
       "      <th>YYYYMM</th>\n",
       "      <th>Value</th>\n",
       "      <th>Column_Order</th>\n",
       "      <th>Description</th>\n",
       "      <th>Unit</th>\n",
       "    </tr>\n",
       "  </thead>\n",
       "  <tbody>\n",
       "    <tr>\n",
       "      <th>0</th>\n",
       "      <td>CLPRBUS</td>\n",
       "      <td>194913</td>\n",
       "      <td>11.973882</td>\n",
       "      <td>1</td>\n",
       "      <td>Coal Production</td>\n",
       "      <td>Quadrillion Btu</td>\n",
       "    </tr>\n",
       "    <tr>\n",
       "      <th>1</th>\n",
       "      <td>CLPRBUS</td>\n",
       "      <td>195013</td>\n",
       "      <td>14.060135</td>\n",
       "      <td>1</td>\n",
       "      <td>Coal Production</td>\n",
       "      <td>Quadrillion Btu</td>\n",
       "    </tr>\n",
       "    <tr>\n",
       "      <th>2</th>\n",
       "      <td>CLPRBUS</td>\n",
       "      <td>195113</td>\n",
       "      <td>14.419325</td>\n",
       "      <td>1</td>\n",
       "      <td>Coal Production</td>\n",
       "      <td>Quadrillion Btu</td>\n",
       "    </tr>\n",
       "    <tr>\n",
       "      <th>3</th>\n",
       "      <td>CLPRBUS</td>\n",
       "      <td>195213</td>\n",
       "      <td>12.734313</td>\n",
       "      <td>1</td>\n",
       "      <td>Coal Production</td>\n",
       "      <td>Quadrillion Btu</td>\n",
       "    </tr>\n",
       "    <tr>\n",
       "      <th>4</th>\n",
       "      <td>CLPRBUS</td>\n",
       "      <td>195313</td>\n",
       "      <td>12.277746</td>\n",
       "      <td>1</td>\n",
       "      <td>Coal Production</td>\n",
       "      <td>Quadrillion Btu</td>\n",
       "    </tr>\n",
       "  </tbody>\n",
       "</table>\n",
       "</div>"
      ],
      "text/plain": [
       "       MSN  YYYYMM      Value  Column_Order      Description             Unit\n",
       "0  CLPRBUS  194913  11.973882             1  Coal Production  Quadrillion Btu\n",
       "1  CLPRBUS  195013  14.060135             1  Coal Production  Quadrillion Btu\n",
       "2  CLPRBUS  195113  14.419325             1  Coal Production  Quadrillion Btu\n",
       "3  CLPRBUS  195213  12.734313             1  Coal Production  Quadrillion Btu\n",
       "4  CLPRBUS  195313  12.277746             1  Coal Production  Quadrillion Btu"
      ]
     },
     "execution_count": 109,
     "metadata": {},
     "output_type": "execute_result"
    }
   ],
   "source": [
    "# filter to contain only MM = 13 values\n",
    "annual_sum_ep_df = ep_df[ep_df['YYYYMM'].str[-2:] == \"13\"]\n",
    "annual_sum_ep_df.head()"
   ]
  },
  {
   "cell_type": "code",
   "execution_count": 110,
   "id": "0a3004c3",
   "metadata": {},
   "outputs": [
    {
     "data": {
      "text/html": [
       "<div>\n",
       "<style scoped>\n",
       "    .dataframe tbody tr th:only-of-type {\n",
       "        vertical-align: middle;\n",
       "    }\n",
       "\n",
       "    .dataframe tbody tr th {\n",
       "        vertical-align: top;\n",
       "    }\n",
       "\n",
       "    .dataframe thead th {\n",
       "        text-align: right;\n",
       "    }\n",
       "</style>\n",
       "<table border=\"1\" class=\"dataframe\">\n",
       "  <thead>\n",
       "    <tr style=\"text-align: right;\">\n",
       "      <th></th>\n",
       "      <th>MSN</th>\n",
       "      <th>Value</th>\n",
       "      <th>Column_Order</th>\n",
       "      <th>Description</th>\n",
       "      <th>Unit</th>\n",
       "      <th>Year</th>\n",
       "    </tr>\n",
       "  </thead>\n",
       "  <tbody>\n",
       "    <tr>\n",
       "      <th>0</th>\n",
       "      <td>CLPRBUS</td>\n",
       "      <td>11.973882</td>\n",
       "      <td>1</td>\n",
       "      <td>Coal Production</td>\n",
       "      <td>Quadrillion Btu</td>\n",
       "      <td>1949</td>\n",
       "    </tr>\n",
       "    <tr>\n",
       "      <th>1</th>\n",
       "      <td>CLPRBUS</td>\n",
       "      <td>14.060135</td>\n",
       "      <td>1</td>\n",
       "      <td>Coal Production</td>\n",
       "      <td>Quadrillion Btu</td>\n",
       "      <td>1950</td>\n",
       "    </tr>\n",
       "    <tr>\n",
       "      <th>2</th>\n",
       "      <td>CLPRBUS</td>\n",
       "      <td>14.419325</td>\n",
       "      <td>1</td>\n",
       "      <td>Coal Production</td>\n",
       "      <td>Quadrillion Btu</td>\n",
       "      <td>1951</td>\n",
       "    </tr>\n",
       "    <tr>\n",
       "      <th>3</th>\n",
       "      <td>CLPRBUS</td>\n",
       "      <td>12.734313</td>\n",
       "      <td>1</td>\n",
       "      <td>Coal Production</td>\n",
       "      <td>Quadrillion Btu</td>\n",
       "      <td>1952</td>\n",
       "    </tr>\n",
       "    <tr>\n",
       "      <th>4</th>\n",
       "      <td>CLPRBUS</td>\n",
       "      <td>12.277746</td>\n",
       "      <td>1</td>\n",
       "      <td>Coal Production</td>\n",
       "      <td>Quadrillion Btu</td>\n",
       "      <td>1953</td>\n",
       "    </tr>\n",
       "  </tbody>\n",
       "</table>\n",
       "</div>"
      ],
      "text/plain": [
       "       MSN      Value  Column_Order      Description             Unit  Year\n",
       "0  CLPRBUS  11.973882             1  Coal Production  Quadrillion Btu  1949\n",
       "1  CLPRBUS  14.060135             1  Coal Production  Quadrillion Btu  1950\n",
       "2  CLPRBUS  14.419325             1  Coal Production  Quadrillion Btu  1951\n",
       "3  CLPRBUS  12.734313             1  Coal Production  Quadrillion Btu  1952\n",
       "4  CLPRBUS  12.277746             1  Coal Production  Quadrillion Btu  1953"
      ]
     },
     "execution_count": 110,
     "metadata": {},
     "output_type": "execute_result"
    }
   ],
   "source": [
    "#Reformat date\n",
    "\n",
    "# Create a copy of the original DataFrame\n",
    "filtered_annual_ep_df = annual_sum_ep_df.copy()\n",
    "\n",
    "# Reformat date\n",
    "filtered_annual_ep_df['Year'] = annual_sum_ep_df['YYYYMM'].str[:4]\n",
    "\n",
    "# Drop the 'YYYYMM' column\n",
    "filtered_annual_ep_df = filtered_annual_ep_df.drop(columns=['YYYYMM'])\n",
    "\n",
    "# Display the modified DataFrame\n",
    "filtered_annual_ep_df.head()\n",
    "\n",
    "\n",
    "\n",
    "\n",
    "\n",
    "\n",
    "\n"
   ]
  },
  {
   "cell_type": "code",
   "execution_count": 111,
   "id": "6c1b9700",
   "metadata": {
    "scrolled": true
   },
   "outputs": [
    {
     "name": "stdout",
     "output_type": "stream",
     "text": [
      "['Coal Production' 'Natural Gas (Dry) Production' 'Crude Oil Production'\n",
      " 'Natural Gas Plant Liquids Production' 'Total Fossil Fuels Production'\n",
      " 'Nuclear Electric Power Production' 'Hydroelectric Power Production'\n",
      " 'Geothermal Energy Production' 'Solar Energy Production'\n",
      " 'Wind Energy Production' 'Biomass Energy Production'\n",
      " 'Total Renewable Energy Production' 'Total Primary Energy Production']\n"
     ]
    }
   ],
   "source": [
    "#View entries in Description\n",
    "unique_descriptions = filtered_annual_ep_df[\"Description\"].unique()\n",
    "print(unique_descriptions)\n"
   ]
  },
  {
   "cell_type": "code",
   "execution_count": 71,
   "id": "c7f8fbc8",
   "metadata": {},
   "outputs": [],
   "source": [
    "#Remove entries we do not want\n",
    "primary_description_annual_ep_df = filtered_annual_ep_df[filtered_annual_ep_df[\"Description\"].isin(['Coal Production', 'Natural Gas (Dry) Production', 'Crude Oil Production' , 'Natural Gas Plant Liquids Production', 'Nuclear Electric Power Production','Total Renewable Energy Production'])]\n"
   ]
  },
  {
   "cell_type": "code",
   "execution_count": 72,
   "id": "77a40659",
   "metadata": {
    "scrolled": false
   },
   "outputs": [
    {
     "name": "stdout",
     "output_type": "stream",
     "text": [
      "['Coal Production' 'Natural Gas (Dry) Production' 'Crude Oil Production'\n",
      " 'Natural Gas Plant Liquids Production'\n",
      " 'Nuclear Electric Power Production' 'Total Renewable Energy Production']\n"
     ]
    }
   ],
   "source": [
    "#View entries in Description\n",
    "unique_descriptions = primary_description_annual_ep_df[\"Description\"].unique()\n",
    "print(unique_descriptions)"
   ]
  },
  {
   "cell_type": "code",
   "execution_count": 73,
   "id": "a15c3f4a",
   "metadata": {},
   "outputs": [],
   "source": [
    "#Group data on unique Descriptions\n",
    "# grouped = annual_energy_production_filtered_df.groupby(\"Description\")\n"
   ]
  },
  {
   "cell_type": "code",
   "execution_count": 74,
   "id": "2bfe7e9d",
   "metadata": {},
   "outputs": [
    {
     "data": {
      "text/html": [
       "<div>\n",
       "<style scoped>\n",
       "    .dataframe tbody tr th:only-of-type {\n",
       "        vertical-align: middle;\n",
       "    }\n",
       "\n",
       "    .dataframe tbody tr th {\n",
       "        vertical-align: top;\n",
       "    }\n",
       "\n",
       "    .dataframe thead th {\n",
       "        text-align: right;\n",
       "    }\n",
       "</style>\n",
       "<table border=\"1\" class=\"dataframe\">\n",
       "  <thead>\n",
       "    <tr style=\"text-align: right;\">\n",
       "      <th></th>\n",
       "      <th>MSN</th>\n",
       "      <th>Value</th>\n",
       "      <th>Column_Order</th>\n",
       "      <th>Description</th>\n",
       "      <th>Unit</th>\n",
       "      <th>Year</th>\n",
       "    </tr>\n",
       "  </thead>\n",
       "  <tbody>\n",
       "    <tr>\n",
       "      <th>8134</th>\n",
       "      <td>REPRBUS</td>\n",
       "      <td>7.744195</td>\n",
       "      <td>12</td>\n",
       "      <td>Total Renewable Energy Production</td>\n",
       "      <td>Quadrillion Btu</td>\n",
       "      <td>2018</td>\n",
       "    </tr>\n",
       "    <tr>\n",
       "      <th>8147</th>\n",
       "      <td>REPRBUS</td>\n",
       "      <td>7.752818</td>\n",
       "      <td>12</td>\n",
       "      <td>Total Renewable Energy Production</td>\n",
       "      <td>Quadrillion Btu</td>\n",
       "      <td>2019</td>\n",
       "    </tr>\n",
       "    <tr>\n",
       "      <th>8160</th>\n",
       "      <td>REPRBUS</td>\n",
       "      <td>7.465203</td>\n",
       "      <td>12</td>\n",
       "      <td>Total Renewable Energy Production</td>\n",
       "      <td>Quadrillion Btu</td>\n",
       "      <td>2020</td>\n",
       "    </tr>\n",
       "    <tr>\n",
       "      <th>8173</th>\n",
       "      <td>REPRBUS</td>\n",
       "      <td>7.8073</td>\n",
       "      <td>12</td>\n",
       "      <td>Total Renewable Energy Production</td>\n",
       "      <td>Quadrillion Btu</td>\n",
       "      <td>2021</td>\n",
       "    </tr>\n",
       "    <tr>\n",
       "      <th>8186</th>\n",
       "      <td>REPRBUS</td>\n",
       "      <td>8.307341</td>\n",
       "      <td>12</td>\n",
       "      <td>Total Renewable Energy Production</td>\n",
       "      <td>Quadrillion Btu</td>\n",
       "      <td>2022</td>\n",
       "    </tr>\n",
       "  </tbody>\n",
       "</table>\n",
       "</div>"
      ],
      "text/plain": [
       "          MSN     Value  Column_Order                        Description  \\\n",
       "8134  REPRBUS  7.744195            12  Total Renewable Energy Production   \n",
       "8147  REPRBUS  7.752818            12  Total Renewable Energy Production   \n",
       "8160  REPRBUS  7.465203            12  Total Renewable Energy Production   \n",
       "8173  REPRBUS    7.8073            12  Total Renewable Energy Production   \n",
       "8186  REPRBUS  8.307341            12  Total Renewable Energy Production   \n",
       "\n",
       "                 Unit  Year  \n",
       "8134  Quadrillion Btu  2018  \n",
       "8147  Quadrillion Btu  2019  \n",
       "8160  Quadrillion Btu  2020  \n",
       "8173  Quadrillion Btu  2021  \n",
       "8186  Quadrillion Btu  2022  "
      ]
     },
     "execution_count": 74,
     "metadata": {},
     "output_type": "execute_result"
    }
   ],
   "source": [
    "renewable_energy_df = primary_description_annual_ep_df[primary_description_annual_ep_df[\"Description\"] == 'Total Renewable Energy Production']\n",
    "renewable_energy_df.tail(5)"
   ]
  },
  {
   "cell_type": "code",
   "execution_count": 75,
   "id": "05925de5",
   "metadata": {},
   "outputs": [],
   "source": [
    "renewable_energy_df.set_index('Year', inplace=True)"
   ]
  },
  {
   "cell_type": "code",
   "execution_count": 76,
   "id": "a426d7f9",
   "metadata": {
    "scrolled": true
   },
   "outputs": [
    {
     "data": {
      "text/html": [
       "<div>\n",
       "<style scoped>\n",
       "    .dataframe tbody tr th:only-of-type {\n",
       "        vertical-align: middle;\n",
       "    }\n",
       "\n",
       "    .dataframe tbody tr th {\n",
       "        vertical-align: top;\n",
       "    }\n",
       "\n",
       "    .dataframe thead th {\n",
       "        text-align: right;\n",
       "    }\n",
       "</style>\n",
       "<table border=\"1\" class=\"dataframe\">\n",
       "  <thead>\n",
       "    <tr style=\"text-align: right;\">\n",
       "      <th></th>\n",
       "      <th>MSN</th>\n",
       "      <th>Value</th>\n",
       "      <th>Column_Order</th>\n",
       "      <th>Description</th>\n",
       "      <th>Unit</th>\n",
       "    </tr>\n",
       "    <tr>\n",
       "      <th>Year</th>\n",
       "      <th></th>\n",
       "      <th></th>\n",
       "      <th></th>\n",
       "      <th></th>\n",
       "      <th></th>\n",
       "    </tr>\n",
       "  </thead>\n",
       "  <tbody>\n",
       "    <tr>\n",
       "      <th>1949</th>\n",
       "      <td>REPRBUS</td>\n",
       "      <td>1.872627</td>\n",
       "      <td>12</td>\n",
       "      <td>Total Renewable Energy Production</td>\n",
       "      <td>Quadrillion Btu</td>\n",
       "    </tr>\n",
       "    <tr>\n",
       "      <th>1950</th>\n",
       "      <td>REPRBUS</td>\n",
       "      <td>1.906525</td>\n",
       "      <td>12</td>\n",
       "      <td>Total Renewable Energy Production</td>\n",
       "      <td>Quadrillion Btu</td>\n",
       "    </tr>\n",
       "    <tr>\n",
       "      <th>1951</th>\n",
       "      <td>REPRBUS</td>\n",
       "      <td>1.8908</td>\n",
       "      <td>12</td>\n",
       "      <td>Total Renewable Energy Production</td>\n",
       "      <td>Quadrillion Btu</td>\n",
       "    </tr>\n",
       "    <tr>\n",
       "      <th>1952</th>\n",
       "      <td>REPRBUS</td>\n",
       "      <td>1.848694</td>\n",
       "      <td>12</td>\n",
       "      <td>Total Renewable Energy Production</td>\n",
       "      <td>Quadrillion Btu</td>\n",
       "    </tr>\n",
       "    <tr>\n",
       "      <th>1953</th>\n",
       "      <td>REPRBUS</td>\n",
       "      <td>1.792616</td>\n",
       "      <td>12</td>\n",
       "      <td>Total Renewable Energy Production</td>\n",
       "      <td>Quadrillion Btu</td>\n",
       "    </tr>\n",
       "  </tbody>\n",
       "</table>\n",
       "</div>"
      ],
      "text/plain": [
       "          MSN     Value  Column_Order                        Description  \\\n",
       "Year                                                                       \n",
       "1949  REPRBUS  1.872627            12  Total Renewable Energy Production   \n",
       "1950  REPRBUS  1.906525            12  Total Renewable Energy Production   \n",
       "1951  REPRBUS    1.8908            12  Total Renewable Energy Production   \n",
       "1952  REPRBUS  1.848694            12  Total Renewable Energy Production   \n",
       "1953  REPRBUS  1.792616            12  Total Renewable Energy Production   \n",
       "\n",
       "                 Unit  \n",
       "Year                   \n",
       "1949  Quadrillion Btu  \n",
       "1950  Quadrillion Btu  \n",
       "1951  Quadrillion Btu  \n",
       "1952  Quadrillion Btu  \n",
       "1953  Quadrillion Btu  "
      ]
     },
     "execution_count": 76,
     "metadata": {},
     "output_type": "execute_result"
    }
   ],
   "source": [
    "renewable_energy_df.head(5)"
   ]
  },
  {
   "cell_type": "code",
   "execution_count": 77,
   "id": "ef86152e",
   "metadata": {},
   "outputs": [
    {
     "name": "stdout",
     "output_type": "stream",
     "text": [
      "Index(['MSN', 'Value', 'Column_Order', 'Description', 'Unit'], dtype='object')\n"
     ]
    }
   ],
   "source": [
    "column_headers = renewable_energy_df.columns\n",
    "print(column_headers)"
   ]
  },
  {
   "cell_type": "code",
   "execution_count": 78,
   "id": "25240a26",
   "metadata": {},
   "outputs": [],
   "source": [
    "# columns_to_remove = ['MSN','Column_Order', 'Description', 'Unit']\n",
    "# renewable_energy_df.drop(columns=columns_to_remove, inplace=True)\n",
    "\n",
    "# Assuming your DataFrame is named df\n",
    "columns_to_remove = ['MSN','Column_Order', 'Description', 'Unit']\n",
    "renewable_energy_df = renewable_energy_df.drop(columns=columns_to_remove)\n",
    "\n",
    "\n"
   ]
  },
  {
   "cell_type": "code",
   "execution_count": 79,
   "id": "437916fd",
   "metadata": {
    "scrolled": true
   },
   "outputs": [
    {
     "data": {
      "text/html": [
       "<div>\n",
       "<style scoped>\n",
       "    .dataframe tbody tr th:only-of-type {\n",
       "        vertical-align: middle;\n",
       "    }\n",
       "\n",
       "    .dataframe tbody tr th {\n",
       "        vertical-align: top;\n",
       "    }\n",
       "\n",
       "    .dataframe thead th {\n",
       "        text-align: right;\n",
       "    }\n",
       "</style>\n",
       "<table border=\"1\" class=\"dataframe\">\n",
       "  <thead>\n",
       "    <tr style=\"text-align: right;\">\n",
       "      <th></th>\n",
       "      <th>Value</th>\n",
       "    </tr>\n",
       "    <tr>\n",
       "      <th>Year</th>\n",
       "      <th></th>\n",
       "    </tr>\n",
       "  </thead>\n",
       "  <tbody>\n",
       "    <tr>\n",
       "      <th>1949</th>\n",
       "      <td>1.872627</td>\n",
       "    </tr>\n",
       "    <tr>\n",
       "      <th>1950</th>\n",
       "      <td>1.906525</td>\n",
       "    </tr>\n",
       "    <tr>\n",
       "      <th>1951</th>\n",
       "      <td>1.8908</td>\n",
       "    </tr>\n",
       "    <tr>\n",
       "      <th>1952</th>\n",
       "      <td>1.848694</td>\n",
       "    </tr>\n",
       "    <tr>\n",
       "      <th>1953</th>\n",
       "      <td>1.792616</td>\n",
       "    </tr>\n",
       "  </tbody>\n",
       "</table>\n",
       "</div>"
      ],
      "text/plain": [
       "         Value\n",
       "Year          \n",
       "1949  1.872627\n",
       "1950  1.906525\n",
       "1951    1.8908\n",
       "1952  1.848694\n",
       "1953  1.792616"
      ]
     },
     "execution_count": 79,
     "metadata": {},
     "output_type": "execute_result"
    }
   ],
   "source": [
    "renewable_energy_df.head()"
   ]
  },
  {
   "cell_type": "code",
   "execution_count": 102,
   "id": "5a959c72",
   "metadata": {},
   "outputs": [
    {
     "name": "stdout",
     "output_type": "stream",
     "text": [
      "Value    float64\n",
      "dtype: object\n"
     ]
    }
   ],
   "source": [
    "data_types = renewable_energy_df.dtypes\n",
    "print(data_types)"
   ]
  },
  {
   "cell_type": "code",
   "execution_count": 80,
   "id": "8322e538",
   "metadata": {},
   "outputs": [],
   "source": [
    "# Assuming 'your_column' is the name of the column you want to convert to numeric\n",
    "renewable_energy_df['Value'] = pd.to_numeric(renewable_energy_df['Value'], errors='coerce')\n"
   ]
  },
  {
   "cell_type": "code",
   "execution_count": 113,
   "id": "e2c225e0",
   "metadata": {},
   "outputs": [
    {
     "data": {
      "image/png": "[encoded data removed]",
      "text/plain": [
       "<Figure size 800x600 with 1 Axes>"
      ]
     },
     "metadata": {},
     "output_type": "display_data"
    }
   ],
   "source": [
    "# # Extract data from the DataFrame\n",
    "# x = renewable_energy_df.index\n",
    "# y = renewable_energy_df['Value']\n",
    "\n",
    "# # Create a scatter plot\n",
    "# plt.plot(x, y, label='renewable_energy', color='blue', linestyle='-')\n",
    "\n",
    "# # Add labels and a title\n",
    "# plt.xlabel('Year')\n",
    "# plt.ylabel('Value')\n",
    "# plt.title('Scatter Plot of Year vs. Value')\n",
    "\n",
    "# # # # Set x-axis ticks every 10 years\n",
    "# years = range(min(x), max(x) + 1, 10)\n",
    "# plt.xticks(years)\n",
    "\n",
    "# # Show the plot\n",
    "# plt.legend()\n",
    "# plt.show()\n",
    "\n",
    "# Assuming you have a DataFrame named df with 'Value' as the data column\n",
    "# and the index as the default integer index\n",
    "\n",
    "# Plot the data\n",
    "plt.figure(figsize=(8, 6))  # Optional: Set the figure size\n",
    "\n",
    "# Assuming 'Value' is your data column\n",
    "plt.plot(renewable_energy_df.index, renewable_energy_df['Value'], linestyle='-')\n",
    "\n",
    "# Adding labels and title\n",
    "plt.xlabel('Year')\n",
    "plt.ylabel('Value')\n",
    "plt.title('Line Plot of DataFrame')\n",
    "\n",
    "# Set the x-axis ticks to specific years\n",
    "years = ['1950', '1960', '1970', '1980', '1990', '2000', '2010', '2020']\n",
    "plt.xticks(years)\n",
    "\n",
    "# Show the plot\n",
    "plt.grid()  # Optional: Add grid lines\n",
    "plt.show()\n",
    "\n",
    "\n",
    "\n",
    "\n"
   ]
  },
  {
   "cell_type": "code",
   "execution_count": null,
   "id": "a10032bc",
   "metadata": {},
   "outputs": [],
   "source": []
  }
 ],
 "metadata": {
  "kernelspec": {
   "display_name": "Python 3 (ipykernel)",
   "language": "python",
   "name": "python3"
  },
  "language_info": {
   "codemirror_mode": {
    "name": "ipython",
    "version": 3
   },
   "file_extension": ".py",
   "mimetype": "text/x-python",
   "name": "python",
   "nbconvert_exporter": "python",
   "pygments_lexer": "ipython3",
   "version": "3.10.13"
  }
 },
 "nbformat": 4,
 "nbformat_minor": 5
}
