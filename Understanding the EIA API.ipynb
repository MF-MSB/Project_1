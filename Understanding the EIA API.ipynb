{
 "cells": [
  {
   "cell_type": "code",
   "execution_count": 65,
   "id": "8290ed67",
   "metadata": {},
   "outputs": [],
   "source": [
    "# Dependencies\n",
    "import pandas as pd\n",
    "import requests\n",
    "import json"
   ]
  },
  {
   "cell_type": "code",
   "execution_count": 66,
   "id": "0d69626f",
   "metadata": {},
   "outputs": [],
   "source": [
    "# This document describes how to use the EIA API: https://www.eia.gov/opendata/documentation/APIv2.0.1.pdf\n",
    "# Execute \"GET\" request with url\n",
    "# response_data = requests.get(eia_url)\n"
   ]
  },
  {
   "cell_type": "code",
   "execution_count": 67,
   "id": "fb3e21b1",
   "metadata": {},
   "outputs": [],
   "source": [
    "#Overview of API calls"
   ]
  },
  {
   "cell_type": "code",
   "execution_count": 68,
   "id": "3f5f40ea",
   "metadata": {},
   "outputs": [],
   "source": [
    "#Detailed view of available information  \n",
    "# eia_url = \"https://api.eia.gov/v2?api_key=VncsPCILhy2WlSElUxu9SmixaOdqw9gZMobZ5uz9&\""
   ]
  },
  {
   "cell_type": "code",
   "execution_count": 69,
   "id": "0240eb1d",
   "metadata": {},
   "outputs": [],
   "source": [
    "#Detailed view of information available for electricity. \n",
    "# eia_url = \"https://api.eia.gov/v2/electricity?api_key=VncsPCILhy2WlSElUxu9SmixaOdqw9gZMobZ5uz9&\""
   ]
  },
  {
   "cell_type": "code",
   "execution_count": 70,
   "id": "9058fd67",
   "metadata": {},
   "outputs": [],
   "source": [
    "#Detailed view of electricity/electric-power-operational-data entry for EIA API. \n",
    "# eia_url = \"https://api.eia.gov/v2/electricity/electric-power-operational-data?api_key=VncsPCILhy2WlSElUxu9SmixaOdqw9gZMobZ5uz9\"\n",
    "\n",
    "# \"facets\": [\n",
    "#             {\n",
    "#                 \"id\": \"location\",\n",
    "#                 \"description\": \"State / Census Region\"\n",
    "#             },\n",
    "#             {\n",
    "#                 \"id\": \"sectorid\",\n",
    "#                 \"description\": \"Sector\"\n",
    "#             },\n",
    "#             {\n",
    "#                 \"id\": \"fueltypeid\",\n",
    "#                 \"description\": \"Energy Source\"\n",
    "#             }\n"
   ]
  },
  {
   "cell_type": "code",
   "execution_count": 71,
   "id": "7a531720",
   "metadata": {},
   "outputs": [],
   "source": [
    "#This call enables us to detemrine the fueltypeid for wind is WND\n",
    "# eia_url = \"https://api.eia.gov/v2/electricity/electric-power-operational-data/facet/fueltypeid?api_key=VncsPCILhy2WlSElUxu9SmixaOdqw9gZMobZ5uz9\"\n"
   ]
  },
  {
   "cell_type": "code",
   "execution_count": 72,
   "id": "0af38e04",
   "metadata": {},
   "outputs": [],
   "source": [
    "#This call enables us to detemrine the location information is for state. Note there are 64 entries\n",
    "# eia_url = \"https://api.eia.gov/v2/electricity/electric-power-operational-data/facet/location?api_key=VncsPCILhy2WlSElUxu9SmixaOdqw9gZMobZ5uz9\"\n"
   ]
  },
  {
   "cell_type": "code",
   "execution_count": 73,
   "id": "0fca2ad9",
   "metadata": {},
   "outputs": [],
   "source": [
    "#This call enables us to detemrine the sector id is 99.\n",
    "# eia_url = \"https://api.eia.gov/v2/electricity/electric-power-operational-data/facet/sectorid?api_key=VncsPCILhy2WlSElUxu9SmixaOdqw9gZMobZ5uz9\"\n"
   ]
  },
  {
   "cell_type": "code",
   "execution_count": 74,
   "id": "f84e4fb6",
   "metadata": {},
   "outputs": [],
   "source": [
    "This call returns the monthly wind power generation data at a state and year level. \n",
    "# eia_url = \"https://api.eia.gov/v2/electricity/electric-power-operational-data/data?api_key=VncsPCILhy2WlSElUxu9SmixaOdqw9gZMobZ5uz9&data[]=generation&facets[fueltypeid][]=WND&frequency=annual&sort[0][column]=period&sort[0][direction]=desc&facets[sectorid][]=99\""
   ]
  },
  {
   "cell_type": "code",
   "execution_count": 75,
   "id": "a0e050a7",
   "metadata": {},
   "outputs": [],
   "source": [
    "#This call returns the monthly wind power generation data for Texas and year level. \n",
    "#eia_url = \"https://api.eia.gov/v2/electricity/electric-power-operational-data/data?api_key=VncsPCILhy2WlSElUxu9SmixaOdqw9gZMobZ5uz9&data[]=generation&facets[fueltypeid][]=WND&facets[location][]=TX&frequency=monthly&sort[0][column]=period&sort[0][direction]=desc&facets[sectorid][]=99\"\n"
   ]
  },
  {
   "cell_type": "code",
   "execution_count": 76,
   "id": "5fd5fe30",
   "metadata": {},
   "outputs": [],
   "source": [
    "response_data = requests.get(eia_url)"
   ]
  },
  {
   "cell_type": "code",
   "execution_count": 77,
   "id": "ba889919",
   "metadata": {},
   "outputs": [
    {
     "name": "stdout",
     "output_type": "stream",
     "text": [
      "<Response [200]>\n"
     ]
    }
   ],
   "source": [
    "# Print \"response_data\" variable\n",
    "print(response_data)"
   ]
  },
  {
   "cell_type": "code",
   "execution_count": 78,
   "id": "c70586ff",
   "metadata": {},
   "outputs": [
    {
     "name": "stdout",
     "output_type": "stream",
     "text": [
      "b'{\"response\":{\"totalFacets\":15,\"facets\":[{\"id\":1,\"name\":\"Electric Utility\",\"alias\":\"(1) Electric Utility\"},{\"id\":99,\"name\":\"All Sectors\",\"alias\":\"(99) All Sectors\"},{\"id\":98,\"name\":\"Electric Power\",\"alias\":\"(98) Electric Power\"},{\"id\":8,\"name\":\"Residential\",\"alias\":\"(8) Residential\"},{\"id\":3,\"name\":\"IPP CHP\",\"alias\":\"(3) IPP CHP\"},{\"id\":6,\"name\":\"Industrial Non-CHP\",\"alias\":\"(6) Industrial Non-CHP\"},{\"id\":90,\"name\":\"Electric Power Sector Non-CHP\",\"alias\":\"(90) Electric Power Sector Non-CHP\"},{\"id\":2,\"name\":\"IPP Non-CHP\",\"alias\":\"(2) IPP Non-CHP\"},{\"id\":7,\"name\":\"Industrial CHP\",\"alias\":\"(7) Industrial CHP\"},{\"id\":94,\"name\":\"Independent Power Producers\",\"alias\":\"(94) Independent Power Producers\"},{\"id\":96,\"name\":\"All Commercial\",\"alias\":\"(96) All Commercial\"},{\"id\":4,\"name\":\"Commercial Non-CHP\",\"alias\":\"(4) Commercial Non-CHP\"},{\"id\":95,\"name\":\"Coal Consumption\",\"alias\":\"(95) Coal Consumption\"},{\"id\":97,\"name\":\"All Industrial\",\"alias\":\"(97) All Industrial\"},{\"id\":5,\"name\":\"Commercial CHP\",\"alias\":\"(5) Commercial CHP\"}]},\"request\":{\"command\":\"\\\\/v2\\\\/electricity\\\\/electric-power-operational-data\\\\/facet\\\\/sectorid\\\\/\",\"params\":{\"api_key\":\"VncsPCILhy2WlSElUxu9SmixaOdqw9gZMobZ5uz9\"}},\"apiVersion\":\"2.1.5\",\"ExcelAddInVersion\":\"2.1.0\"}'\n"
     ]
    }
   ],
   "source": [
    "response_content = response_data.content\n",
    "print(response_content)"
   ]
  },
  {
   "cell_type": "code",
   "execution_count": 79,
   "id": "c77699b1",
   "metadata": {},
   "outputs": [],
   "source": [
    "# Format data as JSON\n",
    "data = response_data.json()"
   ]
  },
  {
   "cell_type": "code",
   "execution_count": 80,
   "id": "56d98665",
   "metadata": {},
   "outputs": [
    {
     "name": "stdout",
     "output_type": "stream",
     "text": [
      "{\n",
      "    \"response\": {\n",
      "        \"totalFacets\": 15,\n",
      "        \"facets\": [\n",
      "            {\n",
      "                \"id\": 1,\n",
      "                \"name\": \"Electric Utility\",\n",
      "                \"alias\": \"(1) Electric Utility\"\n",
      "            },\n",
      "            {\n",
      "                \"id\": 99,\n",
      "                \"name\": \"All Sectors\",\n",
      "                \"alias\": \"(99) All Sectors\"\n",
      "            },\n",
      "            {\n",
      "                \"id\": 98,\n",
      "                \"name\": \"Electric Power\",\n",
      "                \"alias\": \"(98) Electric Power\"\n",
      "            },\n",
      "            {\n",
      "                \"id\": 8,\n",
      "                \"name\": \"Residential\",\n",
      "                \"alias\": \"(8) Residential\"\n",
      "            },\n",
      "            {\n",
      "                \"id\": 3,\n",
      "                \"name\": \"IPP CHP\",\n",
      "                \"alias\": \"(3) IPP CHP\"\n",
      "            },\n",
      "            {\n",
      "                \"id\": 6,\n",
      "                \"name\": \"Industrial Non-CHP\",\n",
      "                \"alias\": \"(6) Industrial Non-CHP\"\n",
      "            },\n",
      "            {\n",
      "                \"id\": 90,\n",
      "                \"name\": \"Electric Power Sector Non-CHP\",\n",
      "                \"alias\": \"(90) Electric Power Sector Non-CHP\"\n",
      "            },\n",
      "            {\n",
      "                \"id\": 2,\n",
      "                \"name\": \"IPP Non-CHP\",\n",
      "                \"alias\": \"(2) IPP Non-CHP\"\n",
      "            },\n",
      "            {\n",
      "                \"id\": 7,\n",
      "                \"name\": \"Industrial CHP\",\n",
      "                \"alias\": \"(7) Industrial CHP\"\n",
      "            },\n",
      "            {\n",
      "                \"id\": 94,\n",
      "                \"name\": \"Independent Power Producers\",\n",
      "                \"alias\": \"(94) Independent Power Producers\"\n",
      "            },\n",
      "            {\n",
      "                \"id\": 96,\n",
      "                \"name\": \"All Commercial\",\n",
      "                \"alias\": \"(96) All Commercial\"\n",
      "            },\n",
      "            {\n",
      "                \"id\": 4,\n",
      "                \"name\": \"Commercial Non-CHP\",\n",
      "                \"alias\": \"(4) Commercial Non-CHP\"\n",
      "            },\n",
      "            {\n",
      "                \"id\": 95,\n",
      "                \"name\": \"Coal Consumption\",\n",
      "                \"alias\": \"(95) Coal Consumption\"\n",
      "            },\n",
      "            {\n",
      "                \"id\": 97,\n",
      "                \"name\": \"All Industrial\",\n",
      "                \"alias\": \"(97) All Industrial\"\n",
      "            },\n",
      "            {\n",
      "                \"id\": 5,\n",
      "                \"name\": \"Commercial CHP\",\n",
      "                \"alias\": \"(5) Commercial CHP\"\n",
      "            }\n",
      "        ]\n",
      "    },\n",
      "    \"request\": {\n",
      "        \"command\": \"/v2/electricity/electric-power-operational-data/facet/sectorid/\",\n",
      "        \"params\": {\n",
      "            \"api_key\": \"VncsPCILhy2WlSElUxu9SmixaOdqw9gZMobZ5uz9\"\n",
      "        }\n",
      "    },\n",
      "    \"apiVersion\": \"2.1.5\",\n",
      "    \"ExcelAddInVersion\": \"2.1.0\"\n",
      "}\n"
     ]
    }
   ],
   "source": [
    "# Use json.dumps with argument indent=4 to format data\n",
    "print(json.dumps(data, indent=4))"
   ]
  },
  {
   "cell_type": "code",
   "execution_count": null,
   "id": "6351d204",
   "metadata": {},
   "outputs": [],
   "source": []
  },
  {
   "cell_type": "code",
   "execution_count": null,
   "id": "5708247f",
   "metadata": {},
   "outputs": [],
   "source": []
  }
 ],
 "metadata": {
  "kernelspec": {
   "display_name": "Python 3 (ipykernel)",
   "language": "python",
   "name": "python3"
  },
  "language_info": {
   "codemirror_mode": {
    "name": "ipython",
    "version": 3
   },
   "file_extension": ".py",
   "mimetype": "text/x-python",
   "name": "python",
   "nbconvert_exporter": "python",
   "pygments_lexer": "ipython3",
   "version": "3.10.13"
  }
 },
 "nbformat": 4,
 "nbformat_minor": 5
}
