{
 "cells": [
  {
   "cell_type": "code",
   "execution_count": 44,
   "id": "20650e86",
   "metadata": {},
   "outputs": [],
   "source": [
    "import pandas as pd\n",
    "import geopandas as gpd\n",
    "from geopy.geocoders import Nominatim\n",
    "from shapely.geometry import Point"
   ]
  },
  {
   "cell_type": "code",
   "execution_count": 45,
   "id": "d7d40b7f",
   "metadata": {
    "scrolled": true
   },
   "outputs": [
    {
     "data": {
      "text/html": [
       "<div>\n",
       "<style scoped>\n",
       "    .dataframe tbody tr th:only-of-type {\n",
       "        vertical-align: middle;\n",
       "    }\n",
       "\n",
       "    .dataframe tbody tr th {\n",
       "        vertical-align: top;\n",
       "    }\n",
       "\n",
       "    .dataframe thead th {\n",
       "        text-align: right;\n",
       "    }\n",
       "</style>\n",
       "<table border=\"1\" class=\"dataframe\">\n",
       "  <thead>\n",
       "    <tr style=\"text-align: right;\">\n",
       "      <th></th>\n",
       "      <th>GEO_ID</th>\n",
       "      <th>STATE</th>\n",
       "      <th>NAME</th>\n",
       "      <th>LSAD</th>\n",
       "      <th>CENSUSAREA</th>\n",
       "      <th>geometry</th>\n",
       "    </tr>\n",
       "  </thead>\n",
       "  <tbody>\n",
       "    <tr>\n",
       "      <th>0</th>\n",
       "      <td>0400000US01</td>\n",
       "      <td>01</td>\n",
       "      <td>Alabama</td>\n",
       "      <td></td>\n",
       "      <td>50645.326</td>\n",
       "      <td>MULTIPOLYGON (((-88.12466 30.28364, -88.08681 ...</td>\n",
       "    </tr>\n",
       "    <tr>\n",
       "      <th>1</th>\n",
       "      <td>0400000US02</td>\n",
       "      <td>02</td>\n",
       "      <td>Alaska</td>\n",
       "      <td></td>\n",
       "      <td>570640.950</td>\n",
       "      <td>MULTIPOLYGON (((-166.10574 53.98861, -166.0752...</td>\n",
       "    </tr>\n",
       "    <tr>\n",
       "      <th>2</th>\n",
       "      <td>0400000US04</td>\n",
       "      <td>04</td>\n",
       "      <td>Arizona</td>\n",
       "      <td></td>\n",
       "      <td>113594.084</td>\n",
       "      <td>POLYGON ((-112.53859 37.00067, -112.53454 37.0...</td>\n",
       "    </tr>\n",
       "    <tr>\n",
       "      <th>3</th>\n",
       "      <td>0400000US05</td>\n",
       "      <td>05</td>\n",
       "      <td>Arkansas</td>\n",
       "      <td></td>\n",
       "      <td>52035.477</td>\n",
       "      <td>POLYGON ((-94.04296 33.01922, -94.04304 33.079...</td>\n",
       "    </tr>\n",
       "    <tr>\n",
       "      <th>4</th>\n",
       "      <td>0400000US06</td>\n",
       "      <td>06</td>\n",
       "      <td>California</td>\n",
       "      <td></td>\n",
       "      <td>155779.220</td>\n",
       "      <td>MULTIPOLYGON (((-122.42144 37.86997, -122.4213...</td>\n",
       "    </tr>\n",
       "  </tbody>\n",
       "</table>\n",
       "</div>"
      ],
      "text/plain": [
       "        GEO_ID STATE        NAME LSAD  CENSUSAREA  \\\n",
       "0  0400000US01    01     Alabama        50645.326   \n",
       "1  0400000US02    02      Alaska       570640.950   \n",
       "2  0400000US04    04     Arizona       113594.084   \n",
       "3  0400000US05    05    Arkansas        52035.477   \n",
       "4  0400000US06    06  California       155779.220   \n",
       "\n",
       "                                            geometry  \n",
       "0  MULTIPOLYGON (((-88.12466 30.28364, -88.08681 ...  \n",
       "1  MULTIPOLYGON (((-166.10574 53.98861, -166.0752...  \n",
       "2  POLYGON ((-112.53859 37.00067, -112.53454 37.0...  \n",
       "3  POLYGON ((-94.04296 33.01922, -94.04304 33.079...  \n",
       "4  MULTIPOLYGON (((-122.42144 37.86997, -122.4213...  "
      ]
     },
     "execution_count": 45,
     "metadata": {},
     "output_type": "execute_result"
    }
   ],
   "source": [
    "# Load in json\n",
    "gdf = gpd.read_file(\"C:/Users/mford.MSBIOWORKS/Project_1/gz_2010_us_040_00_5m.json\")\n",
    "# print(monthly_energy_production_df)\n",
    "gdf.head(5)\n",
    "\n",
    "# us_states = gpd.read_file('us_states.geojson')"
   ]
  },
  {
   "cell_type": "code",
   "execution_count": 46,
   "id": "afacce50",
   "metadata": {
    "scrolled": true
   },
   "outputs": [
    {
     "name": "stdout",
     "output_type": "stream",
     "text": [
      "Number of rows in the DataFrame: 52\n"
     ]
    }
   ],
   "source": [
    "row_count = len(gdf)\n",
    "print(\"Number of rows in the DataFrame:\", row_count)"
   ]
  },
  {
   "cell_type": "code",
   "execution_count": 47,
   "id": "75cf585d",
   "metadata": {},
   "outputs": [
    {
     "name": "stdout",
     "output_type": "stream",
     "text": [
      "GEO_ID          object\n",
      "STATE           object\n",
      "NAME            object\n",
      "LSAD            object\n",
      "CENSUSAREA     float64\n",
      "geometry      geometry\n",
      "dtype: object\n"
     ]
    }
   ],
   "source": [
    "data_types = gdf.dtypes\n",
    "print(data_types)"
   ]
  },
  {
   "cell_type": "code",
   "execution_count": 48,
   "id": "d39b8cfa",
   "metadata": {
    "scrolled": true
   },
   "outputs": [
    {
     "data": {
      "text/html": [
       "<div>\n",
       "<style scoped>\n",
       "    .dataframe tbody tr th:only-of-type {\n",
       "        vertical-align: middle;\n",
       "    }\n",
       "\n",
       "    .dataframe tbody tr th {\n",
       "        vertical-align: top;\n",
       "    }\n",
       "\n",
       "    .dataframe thead th {\n",
       "        text-align: right;\n",
       "    }\n",
       "</style>\n",
       "<table border=\"1\" class=\"dataframe\">\n",
       "  <thead>\n",
       "    <tr style=\"text-align: right;\">\n",
       "      <th></th>\n",
       "      <th>case_id</th>\n",
       "      <th>xlong</th>\n",
       "      <th>ylat</th>\n",
       "    </tr>\n",
       "  </thead>\n",
       "  <tbody>\n",
       "    <tr>\n",
       "      <th>0</th>\n",
       "      <td>3123985</td>\n",
       "      <td>-99.78703</td>\n",
       "      <td>36.50172</td>\n",
       "    </tr>\n",
       "    <tr>\n",
       "      <th>1</th>\n",
       "      <td>3123544</td>\n",
       "      <td>-99.72562</td>\n",
       "      <td>36.43713</td>\n",
       "    </tr>\n",
       "    <tr>\n",
       "      <th>2</th>\n",
       "      <td>3123887</td>\n",
       "      <td>-99.76972</td>\n",
       "      <td>36.44493</td>\n",
       "    </tr>\n",
       "    <tr>\n",
       "      <th>3</th>\n",
       "      <td>3123765</td>\n",
       "      <td>-99.80706</td>\n",
       "      <td>36.51394</td>\n",
       "    </tr>\n",
       "    <tr>\n",
       "      <th>4</th>\n",
       "      <td>3123814</td>\n",
       "      <td>-99.75848</td>\n",
       "      <td>36.44498</td>\n",
       "    </tr>\n",
       "  </tbody>\n",
       "</table>\n",
       "</div>"
      ],
      "text/plain": [
       "   case_id     xlong      ylat\n",
       "0  3123985 -99.78703  36.50172\n",
       "1  3123544 -99.72562  36.43713\n",
       "2  3123887 -99.76972  36.44493\n",
       "3  3123765 -99.80706  36.51394\n",
       "4  3123814 -99.75848  36.44498"
      ]
     },
     "execution_count": 48,
     "metadata": {},
     "output_type": "execute_result"
    }
   ],
   "source": [
    "# Call the USWTDB API and apply custom URL parameters to the request. Parameters allow us to filter the data return.\n",
    "data_url = \"https://eersc.usgs.gov/api/uswtdb/v1/turbines?&t_cap=gt.0&select=case_id,xlong,ylat\"\n",
    "\n",
    "# Parse the JSON response from the API return and populate the dataframe\n",
    "dfClusterMap = pd.read_json(data_url)\n",
    "\n",
    "# Preview the first five records of our dataframe based on the custom URL paramters in the API request\n",
    "dfClusterMap.head(5)\n",
    "\n",
    "\n",
    "# # Assuming you have a GeoDataFrame containing your latitude and longitude data called 'gdf'\n",
    "# # Perform a spatial join to get the state information\n",
    "# gdf_with_state = gpd.sjoin(gdf, us_states, how=\"left\", op=\"within\")"
   ]
  },
  {
   "cell_type": "code",
   "execution_count": 51,
   "id": "909b3edf",
   "metadata": {},
   "outputs": [
    {
     "name": "stdout",
     "output_type": "stream",
     "text": [
      "Number of rows in the DataFrame: 69817\n"
     ]
    }
   ],
   "source": [
    "row_count = len(dfClusterMap)\n",
    "print(\"Number of rows in the DataFrame:\", row_count)"
   ]
  },
  {
   "cell_type": "code",
   "execution_count": 52,
   "id": "754823be",
   "metadata": {
    "scrolled": true
   },
   "outputs": [
    {
     "name": "stdout",
     "output_type": "stream",
     "text": [
      "case_id      int64\n",
      "xlong      float64\n",
      "ylat       float64\n",
      "dtype: object\n"
     ]
    }
   ],
   "source": [
    "data_types = dfClusterMap.dtypes\n",
    "print(data_types)"
   ]
  },
  {
   "cell_type": "code",
   "execution_count": 57,
   "id": "74cfcbe4",
   "metadata": {
    "scrolled": true
   },
   "outputs": [
    {
     "data": {
      "text/html": [
       "<div>\n",
       "<style scoped>\n",
       "    .dataframe tbody tr th:only-of-type {\n",
       "        vertical-align: middle;\n",
       "    }\n",
       "\n",
       "    .dataframe tbody tr th {\n",
       "        vertical-align: top;\n",
       "    }\n",
       "\n",
       "    .dataframe thead th {\n",
       "        text-align: right;\n",
       "    }\n",
       "</style>\n",
       "<table border=\"1\" class=\"dataframe\">\n",
       "  <thead>\n",
       "    <tr style=\"text-align: right;\">\n",
       "      <th></th>\n",
       "      <th>case_id</th>\n",
       "      <th>long</th>\n",
       "      <th>lat</th>\n",
       "    </tr>\n",
       "  </thead>\n",
       "  <tbody>\n",
       "    <tr>\n",
       "      <th>0</th>\n",
       "      <td>3123985</td>\n",
       "      <td>-99.78703</td>\n",
       "      <td>36.50172</td>\n",
       "    </tr>\n",
       "    <tr>\n",
       "      <th>1</th>\n",
       "      <td>3123544</td>\n",
       "      <td>-99.72562</td>\n",
       "      <td>36.43713</td>\n",
       "    </tr>\n",
       "    <tr>\n",
       "      <th>2</th>\n",
       "      <td>3123887</td>\n",
       "      <td>-99.76972</td>\n",
       "      <td>36.44493</td>\n",
       "    </tr>\n",
       "    <tr>\n",
       "      <th>3</th>\n",
       "      <td>3123765</td>\n",
       "      <td>-99.80706</td>\n",
       "      <td>36.51394</td>\n",
       "    </tr>\n",
       "    <tr>\n",
       "      <th>4</th>\n",
       "      <td>3123814</td>\n",
       "      <td>-99.75848</td>\n",
       "      <td>36.44498</td>\n",
       "    </tr>\n",
       "  </tbody>\n",
       "</table>\n",
       "</div>"
      ],
      "text/plain": [
       "   case_id      long       lat\n",
       "0  3123985 -99.78703  36.50172\n",
       "1  3123544 -99.72562  36.43713\n",
       "2  3123887 -99.76972  36.44493\n",
       "3  3123765 -99.80706  36.51394\n",
       "4  3123814 -99.75848  36.44498"
      ]
     },
     "execution_count": 57,
     "metadata": {},
     "output_type": "execute_result"
    }
   ],
   "source": [
    "dfClusterMap.rename(columns = {'xlong' : 'long', 'ylat' : 'lat'}, inplace = True)\n",
    "dfClusterMap.head(5)    "
   ]
  },
  {
   "cell_type": "code",
   "execution_count": 71,
   "id": "ee21a56a",
   "metadata": {},
   "outputs": [],
   "source": [
    "import geopandas as gpd\n",
    "from shapely.geometry import Point\n",
    "\n",
    "# Assuming 'dfClusterMap' is your DataFrame with latitude and longitude columns\n",
    "# Create a GeoDataFrame with point geometries\n",
    "geometry = [Point(xy) for xy in zip(dfClusterMap['long'], dfClusterMap['lat'])]\n",
    "gdfClusterMap = gpd.GeoDataFrame(dfClusterMap, geometry=geometry)\n",
    "\n",
    "# Set the CRS to EPSG:4326\n",
    "gdfClusterMap.crs = 'EPSG:4326'\n",
    "\n",
    "# Now you can perform a spatial join using gdfClusterMap as the GeoDataFrame\n",
    "result = gpd.sjoin(gdfClusterMap, gdf, how=\"left\", predicate=\"within\")\n",
    "\n",
    "# 'result' will contain the spatially joined data\n",
    "\n"
   ]
  },
  {
   "cell_type": "code",
   "execution_count": 73,
   "id": "21583ff5",
   "metadata": {},
   "outputs": [
    {
     "data": {
      "text/html": [
       "<div>\n",
       "<style scoped>\n",
       "    .dataframe tbody tr th:only-of-type {\n",
       "        vertical-align: middle;\n",
       "    }\n",
       "\n",
       "    .dataframe tbody tr th {\n",
       "        vertical-align: top;\n",
       "    }\n",
       "\n",
       "    .dataframe thead th {\n",
       "        text-align: right;\n",
       "    }\n",
       "</style>\n",
       "<table border=\"1\" class=\"dataframe\">\n",
       "  <thead>\n",
       "    <tr style=\"text-align: right;\">\n",
       "      <th></th>\n",
       "      <th>case_id</th>\n",
       "      <th>long</th>\n",
       "      <th>lat</th>\n",
       "      <th>geometry</th>\n",
       "      <th>index_right</th>\n",
       "      <th>GEO_ID</th>\n",
       "      <th>STATE</th>\n",
       "      <th>NAME</th>\n",
       "      <th>LSAD</th>\n",
       "      <th>CENSUSAREA</th>\n",
       "    </tr>\n",
       "  </thead>\n",
       "  <tbody>\n",
       "    <tr>\n",
       "      <th>69812</th>\n",
       "      <td>3003325</td>\n",
       "      <td>-162.55733</td>\n",
       "      <td>66.83433</td>\n",
       "      <td>POINT (-162.55733 66.83433)</td>\n",
       "      <td>1.0</td>\n",
       "      <td>0400000US02</td>\n",
       "      <td>02</td>\n",
       "      <td>Alaska</td>\n",
       "      <td></td>\n",
       "      <td>570640.950</td>\n",
       "    </tr>\n",
       "    <tr>\n",
       "      <th>69813</th>\n",
       "      <td>3109704</td>\n",
       "      <td>-116.55776</td>\n",
       "      <td>33.89111</td>\n",
       "      <td>POINT (-116.55776 33.89111)</td>\n",
       "      <td>4.0</td>\n",
       "      <td>0400000US06</td>\n",
       "      <td>06</td>\n",
       "      <td>California</td>\n",
       "      <td></td>\n",
       "      <td>155779.220</td>\n",
       "    </tr>\n",
       "    <tr>\n",
       "      <th>69814</th>\n",
       "      <td>3110036</td>\n",
       "      <td>-116.55260</td>\n",
       "      <td>33.89020</td>\n",
       "      <td>POINT (-116.55260 33.89020)</td>\n",
       "      <td>4.0</td>\n",
       "      <td>0400000US06</td>\n",
       "      <td>06</td>\n",
       "      <td>California</td>\n",
       "      <td></td>\n",
       "      <td>155779.220</td>\n",
       "    </tr>\n",
       "    <tr>\n",
       "      <th>69815</th>\n",
       "      <td>3110328</td>\n",
       "      <td>-116.55264</td>\n",
       "      <td>33.89168</td>\n",
       "      <td>POINT (-116.55264 33.89168)</td>\n",
       "      <td>4.0</td>\n",
       "      <td>0400000US06</td>\n",
       "      <td>06</td>\n",
       "      <td>California</td>\n",
       "      <td></td>\n",
       "      <td>155779.220</td>\n",
       "    </tr>\n",
       "    <tr>\n",
       "      <th>69816</th>\n",
       "      <td>3124485</td>\n",
       "      <td>-83.13453</td>\n",
       "      <td>41.44075</td>\n",
       "      <td>POINT (-83.13453 41.44075)</td>\n",
       "      <td>35.0</td>\n",
       "      <td>0400000US39</td>\n",
       "      <td>39</td>\n",
       "      <td>Ohio</td>\n",
       "      <td></td>\n",
       "      <td>40860.694</td>\n",
       "    </tr>\n",
       "  </tbody>\n",
       "</table>\n",
       "</div>"
      ],
      "text/plain": [
       "       case_id       long       lat                     geometry  index_right  \\\n",
       "69812  3003325 -162.55733  66.83433  POINT (-162.55733 66.83433)          1.0   \n",
       "69813  3109704 -116.55776  33.89111  POINT (-116.55776 33.89111)          4.0   \n",
       "69814  3110036 -116.55260  33.89020  POINT (-116.55260 33.89020)          4.0   \n",
       "69815  3110328 -116.55264  33.89168  POINT (-116.55264 33.89168)          4.0   \n",
       "69816  3124485  -83.13453  41.44075   POINT (-83.13453 41.44075)         35.0   \n",
       "\n",
       "            GEO_ID STATE        NAME LSAD  CENSUSAREA  \n",
       "69812  0400000US02    02      Alaska       570640.950  \n",
       "69813  0400000US06    06  California       155779.220  \n",
       "69814  0400000US06    06  California       155779.220  \n",
       "69815  0400000US06    06  California       155779.220  \n",
       "69816  0400000US39    39        Ohio        40860.694  "
      ]
     },
     "execution_count": 73,
     "metadata": {},
     "output_type": "execute_result"
    }
   ],
   "source": [
    "result.tail()"
   ]
  },
  {
   "cell_type": "code",
   "execution_count": 63,
   "id": "c52e45de",
   "metadata": {},
   "outputs": [
    {
     "name": "stdout",
     "output_type": "stream",
     "text": [
      "Number of rows in the DataFrame: 69817\n"
     ]
    }
   ],
   "source": [
    "row_count = len(result)\n",
    "print(\"Number of rows in the DataFrame:\", row_count)"
   ]
  },
  {
   "cell_type": "code",
   "execution_count": 66,
   "id": "3102bf3f",
   "metadata": {},
   "outputs": [
    {
     "name": "stdout",
     "output_type": "stream",
     "text": [
      "52\n"
     ]
    }
   ],
   "source": [
    "unique_count = result['NAME'].nunique()\n",
    "print(unique_count)"
   ]
  },
  {
   "cell_type": "code",
   "execution_count": 77,
   "id": "3adb1cfc",
   "metadata": {},
   "outputs": [
    {
     "name": "stdout",
     "output_type": "stream",
     "text": [
      "Index(['case_id', 'long', 'lat', 'geometry', 'index_right', 'GEO_ID', 'STATE',\n",
      "       'NAME', 'LSAD', 'CENSUSAREA'],\n",
      "      dtype='object')\n"
     ]
    }
   ],
   "source": [
    "# Assuming 'result' is your GeoDataFrame\n",
    "column_headers = result.columns\n",
    "\n",
    "# Print the column headers\n",
    "print(column_headers)\n"
   ]
  },
  {
   "cell_type": "code",
   "execution_count": 78,
   "id": "e3d93019",
   "metadata": {},
   "outputs": [
    {
     "name": "stdout",
     "output_type": "stream",
     "text": [
      "             State  Count\n",
      "0            Texas  18322\n",
      "1             Iowa   6284\n",
      "2         Oklahoma   5344\n",
      "3           Kansas   3927\n",
      "4       California   3857\n",
      "5         Illinois   3557\n",
      "6         Colorado   2825\n",
      "7        Minnesota   2700\n",
      "8           Oregon   2113\n",
      "9     North Dakota   2086\n",
      "10      New Mexico   1923\n",
      "11      Washington   1822\n",
      "12        Michigan   1637\n",
      "13         Indiana   1602\n",
      "14        Nebraska   1480\n",
      "15         Wyoming   1358\n",
      "16    South Dakota   1327\n",
      "17        New York   1259\n",
      "18        Missouri   1081\n",
      "19         Montana    795\n",
      "20    Pennsylvania    751\n",
      "21           Idaho    541\n",
      "22            Ohio    492\n",
      "23       Wisconsin    478\n",
      "24   West Virginia    419\n",
      "25           Maine    416\n",
      "26         Arizona    324\n",
      "27            Utah    205\n",
      "28          Hawaii    127\n",
      "29          Alaska    117\n",
      "30  North Carolina    104\n",
      "31   Massachusetts     91\n",
      "32   New Hampshire     84\n",
      "33        Maryland     80\n",
      "34         Vermont     73\n",
      "35          Nevada     66\n",
      "36     Puerto Rico     60\n",
      "37    Rhode Island     30\n",
      "38       Tennessee     18\n",
      "39      New Jersey      6\n",
      "40     Connecticut      3\n",
      "41        Arkansas      1\n",
      "42        Delaware      1\n"
     ]
    }
   ],
   "source": [
    "# Assuming 'df' is your DataFrame and 'state_column' is the name of the column with state information\n",
    "state_counts = result['NAME'].value_counts().reset_index()\n",
    "state_counts.columns = ['State', 'Count']\n",
    "\n",
    "# The resulting 'state_counts' DataFrame will contain state names and their corresponding counts\n",
    "print(state_counts)"
   ]
  },
  {
   "cell_type": "code",
   "execution_count": 83,
   "id": "6928dd98",
   "metadata": {},
   "outputs": [],
   "source": [
    "state_counts.to_csv('state_counts.csv', index=False)"
   ]
  },
  {
   "cell_type": "code",
   "execution_count": 79,
   "id": "a300f2ba",
   "metadata": {},
   "outputs": [],
   "source": [
    "result_df = result.drop(columns='geometry')"
   ]
  },
  {
   "cell_type": "code",
   "execution_count": 80,
   "id": "7f10fda1",
   "metadata": {},
   "outputs": [
    {
     "data": {
      "text/html": [
       "<div>\n",
       "<style scoped>\n",
       "    .dataframe tbody tr th:only-of-type {\n",
       "        vertical-align: middle;\n",
       "    }\n",
       "\n",
       "    .dataframe tbody tr th {\n",
       "        vertical-align: top;\n",
       "    }\n",
       "\n",
       "    .dataframe thead th {\n",
       "        text-align: right;\n",
       "    }\n",
       "</style>\n",
       "<table border=\"1\" class=\"dataframe\">\n",
       "  <thead>\n",
       "    <tr style=\"text-align: right;\">\n",
       "      <th></th>\n",
       "      <th>case_id</th>\n",
       "      <th>long</th>\n",
       "      <th>lat</th>\n",
       "      <th>index_right</th>\n",
       "      <th>GEO_ID</th>\n",
       "      <th>STATE</th>\n",
       "      <th>NAME</th>\n",
       "      <th>LSAD</th>\n",
       "      <th>CENSUSAREA</th>\n",
       "    </tr>\n",
       "  </thead>\n",
       "  <tbody>\n",
       "    <tr>\n",
       "      <th>0</th>\n",
       "      <td>3123985</td>\n",
       "      <td>-99.78703</td>\n",
       "      <td>36.50172</td>\n",
       "      <td>36.0</td>\n",
       "      <td>0400000US40</td>\n",
       "      <td>40</td>\n",
       "      <td>Oklahoma</td>\n",
       "      <td></td>\n",
       "      <td>68594.921</td>\n",
       "    </tr>\n",
       "    <tr>\n",
       "      <th>1</th>\n",
       "      <td>3123544</td>\n",
       "      <td>-99.72562</td>\n",
       "      <td>36.43713</td>\n",
       "      <td>36.0</td>\n",
       "      <td>0400000US40</td>\n",
       "      <td>40</td>\n",
       "      <td>Oklahoma</td>\n",
       "      <td></td>\n",
       "      <td>68594.921</td>\n",
       "    </tr>\n",
       "    <tr>\n",
       "      <th>2</th>\n",
       "      <td>3123887</td>\n",
       "      <td>-99.76972</td>\n",
       "      <td>36.44493</td>\n",
       "      <td>36.0</td>\n",
       "      <td>0400000US40</td>\n",
       "      <td>40</td>\n",
       "      <td>Oklahoma</td>\n",
       "      <td></td>\n",
       "      <td>68594.921</td>\n",
       "    </tr>\n",
       "    <tr>\n",
       "      <th>3</th>\n",
       "      <td>3123765</td>\n",
       "      <td>-99.80706</td>\n",
       "      <td>36.51394</td>\n",
       "      <td>36.0</td>\n",
       "      <td>0400000US40</td>\n",
       "      <td>40</td>\n",
       "      <td>Oklahoma</td>\n",
       "      <td></td>\n",
       "      <td>68594.921</td>\n",
       "    </tr>\n",
       "    <tr>\n",
       "      <th>4</th>\n",
       "      <td>3123814</td>\n",
       "      <td>-99.75848</td>\n",
       "      <td>36.44498</td>\n",
       "      <td>36.0</td>\n",
       "      <td>0400000US40</td>\n",
       "      <td>40</td>\n",
       "      <td>Oklahoma</td>\n",
       "      <td></td>\n",
       "      <td>68594.921</td>\n",
       "    </tr>\n",
       "  </tbody>\n",
       "</table>\n",
       "</div>"
      ],
      "text/plain": [
       "   case_id      long       lat  index_right       GEO_ID STATE      NAME LSAD  \\\n",
       "0  3123985 -99.78703  36.50172         36.0  0400000US40    40  Oklahoma        \n",
       "1  3123544 -99.72562  36.43713         36.0  0400000US40    40  Oklahoma        \n",
       "2  3123887 -99.76972  36.44493         36.0  0400000US40    40  Oklahoma        \n",
       "3  3123765 -99.80706  36.51394         36.0  0400000US40    40  Oklahoma        \n",
       "4  3123814 -99.75848  36.44498         36.0  0400000US40    40  Oklahoma        \n",
       "\n",
       "   CENSUSAREA  \n",
       "0   68594.921  \n",
       "1   68594.921  \n",
       "2   68594.921  \n",
       "3   68594.921  \n",
       "4   68594.921  "
      ]
     },
     "execution_count": 80,
     "metadata": {},
     "output_type": "execute_result"
    }
   ],
   "source": [
    "result_df.head()"
   ]
  },
  {
   "cell_type": "code",
   "execution_count": null,
   "id": "4187a931",
   "metadata": {},
   "outputs": [],
   "source": []
  }
 ],
 "metadata": {
  "kernelspec": {
   "display_name": "Python 3 (ipykernel)",
   "language": "python",
   "name": "python3"
  },
  "language_info": {
   "codemirror_mode": {
    "name": "ipython",
    "version": 3
   },
   "file_extension": ".py",
   "mimetype": "text/x-python",
   "name": "python",
   "nbconvert_exporter": "python",
   "pygments_lexer": "ipython3",
   "version": "3.10.13"
  }
 },
 "nbformat": 4,
 "nbformat_minor": 5
}
