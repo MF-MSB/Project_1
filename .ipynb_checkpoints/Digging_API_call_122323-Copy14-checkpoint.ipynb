{
 "cells": [
  {
   "cell_type": "code",
   "execution_count": 4,
   "id": "fb3e21b1",
   "metadata": {},
   "outputs": [],
   "source": [
    "import requests\n",
    "import json\n",
    "import pandas as pd"
   ]
  },
  {
   "cell_type": "code",
   "execution_count": null,
   "id": "4f47b9c5",
   "metadata": {},
   "outputs": [],
   "source": [
    "#Detailed view of electricity/electric-power-operational-data entry for EIA API. This one enables us to detemrine the fueltypeid for wind is WND\n",
    "eia_url = \"https://api.eia.gov/v2/electricity/electric-power-operational-data/facet/?api_key=VncsPCILhy2WlSElUxu9SmixaOdqw9gZMobZ5uz9\"\n"
   ]
  },
  {
   "cell_type": "code",
   "execution_count": null,
   "id": "ac1bce27",
   "metadata": {},
   "outputs": [],
   "source": [
    "# Execute \"GET\" request with url\n",
    "response_data = requests.get(eia_url)"
   ]
  },
  {
   "cell_type": "code",
   "execution_count": null,
   "id": "bef9c0fe",
   "metadata": {},
   "outputs": [],
   "source": [
    "# Print \"response_data\" variable\n",
    "print(response_data)"
   ]
  },
  {
   "cell_type": "code",
   "execution_count": null,
   "id": "52d09ca3",
   "metadata": {},
   "outputs": [],
   "source": [
    "# Store response using \"content\" attribute\n",
    "response_content = response_data.content\n",
    "print(response_content)"
   ]
  },
  {
   "cell_type": "code",
   "execution_count": null,
   "id": "461cd0f5",
   "metadata": {},
   "outputs": [],
   "source": [
    "# Format data as JSON\n",
    "data = response_data.json()"
   ]
  },
  {
   "cell_type": "code",
   "execution_count": 12,
   "id": "945a65ec",
   "metadata": {},
   "outputs": [
    {
     "name": "stdout",
     "output_type": "stream",
     "text": [
      "{\n",
      "    \"response\": {\n",
      "        \"totalFacetOptions\": 3,\n",
      "        \"facetOptions\": [\n",
      "            \"location\",\n",
      "            \"sectorid\",\n",
      "            \"fueltypeid\"\n",
      "        ]\n",
      "    },\n",
      "    \"request\": {\n",
      "        \"command\": \"/v2/electricity/electric-power-operational-data/facet/\",\n",
      "        \"params\": {\n",
      "            \"api_key\": \"VncsPCILhy2WlSElUxu9SmixaOdqw9gZMobZ5uz9\"\n",
      "        }\n",
      "    },\n",
      "    \"apiVersion\": \"2.1.5\",\n",
      "    \"ExcelAddInVersion\": \"2.1.0\"\n",
      "}\n"
     ]
    }
   ],
   "source": [
    "# Use json.dumps with argument indent=4 to format data\n",
    "print(json.dumps(data, indent=4))"
   ]
  },
  {
   "cell_type": "code",
   "execution_count": null,
   "id": "cf95e419",
   "metadata": {},
   "outputs": [],
   "source": [
    "# Extract the 'facets' list from the JSON data\n",
    "facets_data = data['response']['facets']\n",
    "\n",
    "# Convert the 'facets' list into a DataFrame\n",
    "df = pd.DataFrame(facets_data)\n",
    "\n",
    "# Display the DataFrame\n",
    "df.head(50)"
   ]
  },
  {
   "cell_type": "code",
   "execution_count": null,
   "id": "bfc2d856",
   "metadata": {},
   "outputs": [],
   "source": []
  }
 ],
 "metadata": {
  "kernelspec": {
   "display_name": "Python 3 (ipykernel)",
   "language": "python",
   "name": "python3"
  },
  "language_info": {
   "codemirror_mode": {
    "name": "ipython",
    "version": 3
   },
   "file_extension": ".py",
   "mimetype": "text/x-python",
   "name": "python",
   "nbconvert_exporter": "python",
   "pygments_lexer": "ipython3",
   "version": "3.10.13"
  }
 },
 "nbformat": 4,
 "nbformat_minor": 5
}
