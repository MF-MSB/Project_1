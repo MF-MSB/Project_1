{
 "cells": [
  {
   "cell_type": "code",
   "execution_count": 81,
   "id": "20650e86",
   "metadata": {},
   "outputs": [],
   "source": [
    "import pandas as pd\n",
    "import geopandas as gpd\n",
    "import matplotlib.pyplot as plt\n",
    "from matplotlib.colors import ListedColormap"
   ]
  },
  {
   "cell_type": "code",
   "execution_count": 82,
   "id": "d7d40b7f",
   "metadata": {
    "scrolled": false
   },
   "outputs": [
    {
     "data": {
      "text/html": [
       "<div>\n",
       "<style scoped>\n",
       "    .dataframe tbody tr th:only-of-type {\n",
       "        vertical-align: middle;\n",
       "    }\n",
       "\n",
       "    .dataframe tbody tr th {\n",
       "        vertical-align: top;\n",
       "    }\n",
       "\n",
       "    .dataframe thead th {\n",
       "        text-align: right;\n",
       "    }\n",
       "</style>\n",
       "<table border=\"1\" class=\"dataframe\">\n",
       "  <thead>\n",
       "    <tr style=\"text-align: right;\">\n",
       "      <th></th>\n",
       "      <th>GEO_ID</th>\n",
       "      <th>STATE</th>\n",
       "      <th>NAME</th>\n",
       "      <th>LSAD</th>\n",
       "      <th>CENSUSAREA</th>\n",
       "      <th>geometry</th>\n",
       "    </tr>\n",
       "  </thead>\n",
       "  <tbody>\n",
       "    <tr>\n",
       "      <th>0</th>\n",
       "      <td>0400000US01</td>\n",
       "      <td>01</td>\n",
       "      <td>Alabama</td>\n",
       "      <td></td>\n",
       "      <td>50645.326</td>\n",
       "      <td>MULTIPOLYGON (((-88.12466 30.28364, -88.08681 ...</td>\n",
       "    </tr>\n",
       "    <tr>\n",
       "      <th>1</th>\n",
       "      <td>0400000US02</td>\n",
       "      <td>02</td>\n",
       "      <td>Alaska</td>\n",
       "      <td></td>\n",
       "      <td>570640.950</td>\n",
       "      <td>MULTIPOLYGON (((-166.10574 53.98861, -166.0752...</td>\n",
       "    </tr>\n",
       "    <tr>\n",
       "      <th>2</th>\n",
       "      <td>0400000US04</td>\n",
       "      <td>04</td>\n",
       "      <td>Arizona</td>\n",
       "      <td></td>\n",
       "      <td>113594.084</td>\n",
       "      <td>POLYGON ((-112.53859 37.00067, -112.53454 37.0...</td>\n",
       "    </tr>\n",
       "    <tr>\n",
       "      <th>3</th>\n",
       "      <td>0400000US05</td>\n",
       "      <td>05</td>\n",
       "      <td>Arkansas</td>\n",
       "      <td></td>\n",
       "      <td>52035.477</td>\n",
       "      <td>POLYGON ((-94.04296 33.01922, -94.04304 33.079...</td>\n",
       "    </tr>\n",
       "    <tr>\n",
       "      <th>4</th>\n",
       "      <td>0400000US06</td>\n",
       "      <td>06</td>\n",
       "      <td>California</td>\n",
       "      <td></td>\n",
       "      <td>155779.220</td>\n",
       "      <td>MULTIPOLYGON (((-122.42144 37.86997, -122.4213...</td>\n",
       "    </tr>\n",
       "  </tbody>\n",
       "</table>\n",
       "</div>"
      ],
      "text/plain": [
       "        GEO_ID STATE        NAME LSAD  CENSUSAREA  \\\n",
       "0  0400000US01    01     Alabama        50645.326   \n",
       "1  0400000US02    02      Alaska       570640.950   \n",
       "2  0400000US04    04     Arizona       113594.084   \n",
       "3  0400000US05    05    Arkansas        52035.477   \n",
       "4  0400000US06    06  California       155779.220   \n",
       "\n",
       "                                            geometry  \n",
       "0  MULTIPOLYGON (((-88.12466 30.28364, -88.08681 ...  \n",
       "1  MULTIPOLYGON (((-166.10574 53.98861, -166.0752...  \n",
       "2  POLYGON ((-112.53859 37.00067, -112.53454 37.0...  \n",
       "3  POLYGON ((-94.04296 33.01922, -94.04304 33.079...  \n",
       "4  MULTIPOLYGON (((-122.42144 37.86997, -122.4213...  "
      ]
     },
     "execution_count": 82,
     "metadata": {},
     "output_type": "execute_result"
    }
   ],
   "source": [
    "# Load in json\n",
    "gdf = gpd.read_file(\"C:/Users/mford.MSBIOWORKS/Project_1/gz_2010_us_040_00_5m.json\")\n",
    "# print(monthly_energy_production_df)\n",
    "gdf.head(5)\n",
    "\n",
    "# us_states = gpd.read_file('us_states.geojson')"
   ]
  },
  {
   "cell_type": "code",
   "execution_count": 83,
   "id": "f47037f9",
   "metadata": {},
   "outputs": [
    {
     "name": "stdout",
     "output_type": "stream",
     "text": [
      "Number of rows in the DataFrame: 52\n"
     ]
    }
   ],
   "source": [
    "row_count = len(gdf)\n",
    "print(\"Number of rows in the DataFrame:\", row_count)"
   ]
  },
  {
   "cell_type": "code",
   "execution_count": 84,
   "id": "c01bbdfb",
   "metadata": {},
   "outputs": [
    {
     "name": "stdout",
     "output_type": "stream",
     "text": [
      "['Alabama' 'Alaska' 'Arizona' 'Arkansas' 'California' 'Colorado'\n",
      " 'Connecticut' 'Delaware' 'District of Columbia' 'Florida' 'Georgia'\n",
      " 'Hawaii' 'Idaho' 'Illinois' 'Indiana' 'Iowa' 'Kansas' 'Kentucky'\n",
      " 'Louisiana' 'Maine' 'Maryland' 'Massachusetts' 'Michigan' 'Minnesota'\n",
      " 'Mississippi' 'Missouri' 'Montana' 'Nebraska' 'Nevada' 'New Hampshire'\n",
      " 'New Jersey' 'New Mexico' 'New York' 'North Carolina' 'North Dakota'\n",
      " 'Ohio' 'Oklahoma' 'Oregon' 'Pennsylvania' 'Rhode Island' 'South Carolina'\n",
      " 'South Dakota' 'Tennessee' 'Texas' 'Utah' 'Vermont' 'Virginia'\n",
      " 'Washington' 'West Virginia' 'Wisconsin' 'Wyoming' 'Puerto Rico']\n"
     ]
    }
   ],
   "source": [
    "unique_states = gdf['NAME'].unique()\n",
    "print(unique_states)"
   ]
  },
  {
   "cell_type": "code",
   "execution_count": 85,
   "id": "6196c02e",
   "metadata": {},
   "outputs": [],
   "source": [
    "value_to_delete = ['Alaska','Hawaii', 'Puerto Rico' ]\n",
    "gdf = gdf[~gdf['NAME'].isin(value_to_delete)]"
   ]
  },
  {
   "cell_type": "code",
   "execution_count": 86,
   "id": "aa64109b",
   "metadata": {},
   "outputs": [
    {
     "data": {
      "text/html": [
       "<div>\n",
       "<style scoped>\n",
       "    .dataframe tbody tr th:only-of-type {\n",
       "        vertical-align: middle;\n",
       "    }\n",
       "\n",
       "    .dataframe tbody tr th {\n",
       "        vertical-align: top;\n",
       "    }\n",
       "\n",
       "    .dataframe thead th {\n",
       "        text-align: right;\n",
       "    }\n",
       "</style>\n",
       "<table border=\"1\" class=\"dataframe\">\n",
       "  <thead>\n",
       "    <tr style=\"text-align: right;\">\n",
       "      <th></th>\n",
       "      <th>GEO_ID</th>\n",
       "      <th>STATE</th>\n",
       "      <th>NAME</th>\n",
       "      <th>LSAD</th>\n",
       "      <th>CENSUSAREA</th>\n",
       "      <th>geometry</th>\n",
       "    </tr>\n",
       "  </thead>\n",
       "  <tbody>\n",
       "    <tr>\n",
       "      <th>0</th>\n",
       "      <td>0400000US01</td>\n",
       "      <td>01</td>\n",
       "      <td>Alabama</td>\n",
       "      <td></td>\n",
       "      <td>50645.326</td>\n",
       "      <td>MULTIPOLYGON (((-88.12466 30.28364, -88.08681 ...</td>\n",
       "    </tr>\n",
       "    <tr>\n",
       "      <th>1</th>\n",
       "      <td>0400000US04</td>\n",
       "      <td>04</td>\n",
       "      <td>Arizona</td>\n",
       "      <td></td>\n",
       "      <td>113594.084</td>\n",
       "      <td>POLYGON ((-112.53859 37.00067, -112.53454 37.0...</td>\n",
       "    </tr>\n",
       "    <tr>\n",
       "      <th>2</th>\n",
       "      <td>0400000US05</td>\n",
       "      <td>05</td>\n",
       "      <td>Arkansas</td>\n",
       "      <td></td>\n",
       "      <td>52035.477</td>\n",
       "      <td>POLYGON ((-94.04296 33.01922, -94.04304 33.079...</td>\n",
       "    </tr>\n",
       "    <tr>\n",
       "      <th>3</th>\n",
       "      <td>0400000US06</td>\n",
       "      <td>06</td>\n",
       "      <td>California</td>\n",
       "      <td></td>\n",
       "      <td>155779.220</td>\n",
       "      <td>MULTIPOLYGON (((-122.42144 37.86997, -122.4213...</td>\n",
       "    </tr>\n",
       "    <tr>\n",
       "      <th>4</th>\n",
       "      <td>0400000US08</td>\n",
       "      <td>08</td>\n",
       "      <td>Colorado</td>\n",
       "      <td></td>\n",
       "      <td>103641.888</td>\n",
       "      <td>POLYGON ((-106.19055 40.99761, -106.06118 40.9...</td>\n",
       "    </tr>\n",
       "  </tbody>\n",
       "</table>\n",
       "</div>"
      ],
      "text/plain": [
       "        GEO_ID STATE        NAME LSAD  CENSUSAREA  \\\n",
       "0  0400000US01    01     Alabama        50645.326   \n",
       "1  0400000US04    04     Arizona       113594.084   \n",
       "2  0400000US05    05    Arkansas        52035.477   \n",
       "3  0400000US06    06  California       155779.220   \n",
       "4  0400000US08    08    Colorado       103641.888   \n",
       "\n",
       "                                            geometry  \n",
       "0  MULTIPOLYGON (((-88.12466 30.28364, -88.08681 ...  \n",
       "1  POLYGON ((-112.53859 37.00067, -112.53454 37.0...  \n",
       "2  POLYGON ((-94.04296 33.01922, -94.04304 33.079...  \n",
       "3  MULTIPOLYGON (((-122.42144 37.86997, -122.4213...  \n",
       "4  POLYGON ((-106.19055 40.99761, -106.06118 40.9...  "
      ]
     },
     "execution_count": 86,
     "metadata": {},
     "output_type": "execute_result"
    }
   ],
   "source": [
    "gdf.sort_values(by='NAME', ascending=True, inplace = True)\n",
    "gdf.reset_index(drop=True, inplace=True)\n",
    "gdf.head(5)"
   ]
  },
  {
   "cell_type": "code",
   "execution_count": 87,
   "id": "5d2872e5",
   "metadata": {},
   "outputs": [
    {
     "name": "stdout",
     "output_type": "stream",
     "text": [
      "['Alabama' 'Arizona' 'Arkansas' 'California' 'Colorado' 'Connecticut'\n",
      " 'Delaware' 'District of Columbia' 'Florida' 'Georgia' 'Idaho' 'Illinois'\n",
      " 'Indiana' 'Iowa' 'Kansas' 'Kentucky' 'Louisiana' 'Maine' 'Maryland'\n",
      " 'Massachusetts' 'Michigan' 'Minnesota' 'Mississippi' 'Missouri' 'Montana'\n",
      " 'Nebraska' 'Nevada' 'New Hampshire' 'New Jersey' 'New Mexico' 'New York'\n",
      " 'North Carolina' 'North Dakota' 'Ohio' 'Oklahoma' 'Oregon' 'Pennsylvania'\n",
      " 'Rhode Island' 'South Carolina' 'South Dakota' 'Tennessee' 'Texas' 'Utah'\n",
      " 'Vermont' 'Virginia' 'Washington' 'West Virginia' 'Wisconsin' 'Wyoming']\n"
     ]
    }
   ],
   "source": [
    "unique_states = gdf['NAME'].unique()\n",
    "print(unique_states)"
   ]
  },
  {
   "cell_type": "code",
   "execution_count": 88,
   "id": "592c1c84",
   "metadata": {},
   "outputs": [
    {
     "name": "stdout",
     "output_type": "stream",
     "text": [
      "Number of rows in the DataFrame: 49\n"
     ]
    }
   ],
   "source": [
    "row_count = len(gdf)\n",
    "print(\"Number of rows in the DataFrame:\", row_count)"
   ]
  },
  {
   "cell_type": "code",
   "execution_count": 89,
   "id": "990d6699",
   "metadata": {
    "scrolled": true
   },
   "outputs": [
    {
     "data": {
      "text/html": [
       "<div>\n",
       "<style scoped>\n",
       "    .dataframe tbody tr th:only-of-type {\n",
       "        vertical-align: middle;\n",
       "    }\n",
       "\n",
       "    .dataframe tbody tr th {\n",
       "        vertical-align: top;\n",
       "    }\n",
       "\n",
       "    .dataframe thead th {\n",
       "        text-align: right;\n",
       "    }\n",
       "</style>\n",
       "<table border=\"1\" class=\"dataframe\">\n",
       "  <thead>\n",
       "    <tr style=\"text-align: right;\">\n",
       "      <th></th>\n",
       "      <th>GEO_ID</th>\n",
       "      <th>STATE</th>\n",
       "      <th>NAME</th>\n",
       "      <th>LSAD</th>\n",
       "      <th>CENSUSAREA</th>\n",
       "      <th>geometry</th>\n",
       "    </tr>\n",
       "  </thead>\n",
       "  <tbody>\n",
       "    <tr>\n",
       "      <th>0</th>\n",
       "      <td>0400000US01</td>\n",
       "      <td>01</td>\n",
       "      <td>Alabama</td>\n",
       "      <td></td>\n",
       "      <td>50645.326</td>\n",
       "      <td>MULTIPOLYGON (((-88.12466 30.28364, -88.08681 ...</td>\n",
       "    </tr>\n",
       "    <tr>\n",
       "      <th>1</th>\n",
       "      <td>0400000US04</td>\n",
       "      <td>04</td>\n",
       "      <td>Arizona</td>\n",
       "      <td></td>\n",
       "      <td>113594.084</td>\n",
       "      <td>POLYGON ((-112.53859 37.00067, -112.53454 37.0...</td>\n",
       "    </tr>\n",
       "    <tr>\n",
       "      <th>2</th>\n",
       "      <td>0400000US05</td>\n",
       "      <td>05</td>\n",
       "      <td>Arkansas</td>\n",
       "      <td></td>\n",
       "      <td>52035.477</td>\n",
       "      <td>POLYGON ((-94.04296 33.01922, -94.04304 33.079...</td>\n",
       "    </tr>\n",
       "    <tr>\n",
       "      <th>3</th>\n",
       "      <td>0400000US06</td>\n",
       "      <td>06</td>\n",
       "      <td>California</td>\n",
       "      <td></td>\n",
       "      <td>155779.220</td>\n",
       "      <td>MULTIPOLYGON (((-122.42144 37.86997, -122.4213...</td>\n",
       "    </tr>\n",
       "    <tr>\n",
       "      <th>4</th>\n",
       "      <td>0400000US08</td>\n",
       "      <td>08</td>\n",
       "      <td>Colorado</td>\n",
       "      <td></td>\n",
       "      <td>103641.888</td>\n",
       "      <td>POLYGON ((-106.19055 40.99761, -106.06118 40.9...</td>\n",
       "    </tr>\n",
       "  </tbody>\n",
       "</table>\n",
       "</div>"
      ],
      "text/plain": [
       "        GEO_ID STATE        NAME LSAD  CENSUSAREA  \\\n",
       "0  0400000US01    01     Alabama        50645.326   \n",
       "1  0400000US04    04     Arizona       113594.084   \n",
       "2  0400000US05    05    Arkansas        52035.477   \n",
       "3  0400000US06    06  California       155779.220   \n",
       "4  0400000US08    08    Colorado       103641.888   \n",
       "\n",
       "                                            geometry  \n",
       "0  MULTIPOLYGON (((-88.12466 30.28364, -88.08681 ...  \n",
       "1  POLYGON ((-112.53859 37.00067, -112.53454 37.0...  \n",
       "2  POLYGON ((-94.04296 33.01922, -94.04304 33.079...  \n",
       "3  MULTIPOLYGON (((-122.42144 37.86997, -122.4213...  \n",
       "4  POLYGON ((-106.19055 40.99761, -106.06118 40.9...  "
      ]
     },
     "execution_count": 89,
     "metadata": {},
     "output_type": "execute_result"
    }
   ],
   "source": [
    "gdf.head(5)"
   ]
  },
  {
   "cell_type": "code",
   "execution_count": 90,
   "id": "d39b8cfa",
   "metadata": {
    "scrolled": true
   },
   "outputs": [
    {
     "data": {
      "text/html": [
       "<div>\n",
       "<style scoped>\n",
       "    .dataframe tbody tr th:only-of-type {\n",
       "        vertical-align: middle;\n",
       "    }\n",
       "\n",
       "    .dataframe tbody tr th {\n",
       "        vertical-align: top;\n",
       "    }\n",
       "\n",
       "    .dataframe thead th {\n",
       "        text-align: right;\n",
       "    }\n",
       "</style>\n",
       "<table border=\"1\" class=\"dataframe\">\n",
       "  <thead>\n",
       "    <tr style=\"text-align: right;\">\n",
       "      <th></th>\n",
       "      <th>State</th>\n",
       "      <th>Count</th>\n",
       "    </tr>\n",
       "  </thead>\n",
       "  <tbody>\n",
       "    <tr>\n",
       "      <th>0</th>\n",
       "      <td>Texas</td>\n",
       "      <td>18322</td>\n",
       "    </tr>\n",
       "    <tr>\n",
       "      <th>1</th>\n",
       "      <td>Iowa</td>\n",
       "      <td>6284</td>\n",
       "    </tr>\n",
       "    <tr>\n",
       "      <th>2</th>\n",
       "      <td>Oklahoma</td>\n",
       "      <td>5344</td>\n",
       "    </tr>\n",
       "    <tr>\n",
       "      <th>3</th>\n",
       "      <td>Kansas</td>\n",
       "      <td>3927</td>\n",
       "    </tr>\n",
       "    <tr>\n",
       "      <th>4</th>\n",
       "      <td>California</td>\n",
       "      <td>3857</td>\n",
       "    </tr>\n",
       "  </tbody>\n",
       "</table>\n",
       "</div>"
      ],
      "text/plain": [
       "        State  Count\n",
       "0       Texas  18322\n",
       "1        Iowa   6284\n",
       "2    Oklahoma   5344\n",
       "3      Kansas   3927\n",
       "4  California   3857"
      ]
     },
     "execution_count": 90,
     "metadata": {},
     "output_type": "execute_result"
    }
   ],
   "source": [
    "df = pd.read_csv(\"C:/Users/mford.MSBIOWORKS/Project_1/state_counts.csv\")\n",
    "# print(monthly_energy_production_df)\n",
    "df.head(5)"
   ]
  },
  {
   "cell_type": "code",
   "execution_count": 123,
   "id": "d292c3b7",
   "metadata": {},
   "outputs": [],
   "source": [
    "# df.sort_values(by='State', ascending=True, inplace = True)\n",
    "# df.head(5)"
   ]
  },
  {
   "cell_type": "code",
   "execution_count": 92,
   "id": "88c12b04",
   "metadata": {
    "scrolled": true
   },
   "outputs": [
    {
     "name": "stdout",
     "output_type": "stream",
     "text": [
      "Number of rows in the DataFrame: 43\n"
     ]
    }
   ],
   "source": [
    "row_count = len(df)\n",
    "print(\"Number of rows in the DataFrame:\", row_count)\n"
   ]
  },
  {
   "cell_type": "code",
   "execution_count": 93,
   "id": "839b72a5",
   "metadata": {
    "scrolled": true
   },
   "outputs": [
    {
     "name": "stdout",
     "output_type": "stream",
     "text": [
      "['Alaska' 'Arizona' 'Arkansas' 'California' 'Colorado' 'Connecticut'\n",
      " 'Delaware' 'Hawaii' 'Idaho' 'Illinois' 'Indiana' 'Iowa' 'Kansas' 'Maine'\n",
      " 'Maryland' 'Massachusetts' 'Michigan' 'Minnesota' 'Missouri' 'Montana'\n",
      " 'Nebraska' 'Nevada' 'New Hampshire' 'New Jersey' 'New Mexico' 'New York'\n",
      " 'North Carolina' 'North Dakota' 'Ohio' 'Oklahoma' 'Oregon' 'Pennsylvania'\n",
      " 'Puerto Rico' 'Rhode Island' 'South Dakota' 'Tennessee' 'Texas' 'Utah'\n",
      " 'Vermont' 'Washington' 'West Virginia' 'Wisconsin' 'Wyoming']\n"
     ]
    }
   ],
   "source": [
    "unique_states = df['State'].unique()\n",
    "print(unique_states)\n"
   ]
  },
  {
   "cell_type": "code",
   "execution_count": 94,
   "id": "9feadfd1",
   "metadata": {},
   "outputs": [
    {
     "name": "stdout",
     "output_type": "stream",
     "text": [
      "Unique states in df1 but not in df2:\n",
      "{'Louisiana', 'South Carolina', 'District of Columbia', 'Georgia', 'Florida', 'Kentucky', 'Virginia', 'Mississippi', 'Alabama'}\n",
      "Unique states in df2 but not in df1:\n",
      "{'Alaska', 'Hawaii', 'Puerto Rico'}\n"
     ]
    }
   ],
   "source": [
    "\n",
    "# Get unique values in the \"STATE\" column of df1\n",
    "unique_states_gdf = set(gdf['NAME'].unique())\n",
    "\n",
    "# Get unique values in the \"state\" column of df2\n",
    "unique_states_df = set(df['State'].unique())\n",
    "\n",
    "# Find the unique values in df1 that are not in df2\n",
    "unique_states_in_gdf = unique_states_gdf - unique_states_df\n",
    "\n",
    "# Find the unique values in df2 that are not in df1\n",
    "unique_states_in_df = unique_states_df - unique_states_gdf\n",
    "\n",
    "# Print the unique values in each DataFrame\n",
    "print(\"Unique states in df1 but not in df2:\")\n",
    "print(unique_states_in_gdf)\n",
    "\n",
    "print(\"Unique states in df2 but not in df1:\")\n",
    "print(unique_states_in_df)"
   ]
  },
  {
   "cell_type": "code",
   "execution_count": 95,
   "id": "029b160b",
   "metadata": {},
   "outputs": [],
   "source": [
    "value_to_delete_2 = ['Alaska', 'Hawaii','Puerto Rico']\n",
    "df = df[~df['State'].isin(value_to_delete_2)]"
   ]
  },
  {
   "cell_type": "code",
   "execution_count": 96,
   "id": "5be12a4f",
   "metadata": {},
   "outputs": [
    {
     "name": "stdout",
     "output_type": "stream",
     "text": [
      "             State  Count\n",
      "26         Arizona    324\n",
      "41        Arkansas      1\n",
      "4       California   3857\n",
      "6         Colorado   2825\n",
      "40     Connecticut      3\n",
      "42        Delaware      1\n",
      "21           Idaho    541\n",
      "5         Illinois   3557\n",
      "13         Indiana   1602\n",
      "1             Iowa   6284\n",
      "3           Kansas   3927\n",
      "25           Maine    416\n",
      "33        Maryland     80\n",
      "31   Massachusetts     91\n",
      "12        Michigan   1637\n",
      "7        Minnesota   2700\n",
      "18        Missouri   1081\n",
      "19         Montana    795\n",
      "14        Nebraska   1480\n",
      "35          Nevada     66\n",
      "32   New Hampshire     84\n",
      "39      New Jersey      6\n",
      "10      New Mexico   1923\n",
      "17        New York   1259\n",
      "30  North Carolina    104\n",
      "9     North Dakota   2086\n",
      "22            Ohio    492\n",
      "2         Oklahoma   5344\n",
      "8           Oregon   2113\n",
      "20    Pennsylvania    751\n",
      "37    Rhode Island     30\n",
      "16    South Dakota   1327\n",
      "38       Tennessee     18\n",
      "0            Texas  18322\n",
      "27            Utah    205\n",
      "34         Vermont     73\n",
      "11      Washington   1822\n",
      "24   West Virginia    419\n",
      "23       Wisconsin    478\n",
      "15         Wyoming   1358\n"
     ]
    }
   ],
   "source": [
    "print(df)"
   ]
  },
  {
   "cell_type": "code",
   "execution_count": 97,
   "id": "005e7757",
   "metadata": {},
   "outputs": [
    {
     "name": "stdout",
     "output_type": "stream",
     "text": [
      "Unique states in df1 but not in df2:\n",
      "{'Louisiana', 'South Carolina', 'District of Columbia', 'Georgia', 'Florida', 'Kentucky', 'Virginia', 'Mississippi', 'Alabama'}\n",
      "Unique states in df2 but not in df1:\n",
      "set()\n"
     ]
    }
   ],
   "source": [
    "# Get unique values in the \"STATE\" column of df1\n",
    "unique_states_gdf = set(gdf['NAME'].unique())\n",
    "\n",
    "# Get unique values in the \"state\" column of df2\n",
    "unique_states_df = set(df['State'].unique())\n",
    "\n",
    "# Find the unique values in df1 that are not in df2\n",
    "unique_states_in_gdf = unique_states_gdf - unique_states_df\n",
    "\n",
    "# Find the unique values in df2 that are not in df1\n",
    "unique_states_in_df = unique_states_df - unique_states_gdf\n",
    "\n",
    "# Print the unique values in each DataFrame\n",
    "print(\"Unique states in df1 but not in df2:\")\n",
    "print(unique_states_in_gdf)\n",
    "\n",
    "print(\"Unique states in df2 but not in df1:\")\n",
    "print(unique_states_in_df)"
   ]
  },
  {
   "cell_type": "code",
   "execution_count": 122,
   "id": "d4d4058a",
   "metadata": {},
   "outputs": [
    {
     "data": {
      "text/html": [
       "<div>\n",
       "<style scoped>\n",
       "    .dataframe tbody tr th:only-of-type {\n",
       "        vertical-align: middle;\n",
       "    }\n",
       "\n",
       "    .dataframe tbody tr th {\n",
       "        vertical-align: top;\n",
       "    }\n",
       "\n",
       "    .dataframe thead th {\n",
       "        text-align: right;\n",
       "    }\n",
       "</style>\n",
       "<table border=\"1\" class=\"dataframe\">\n",
       "  <thead>\n",
       "    <tr style=\"text-align: right;\">\n",
       "      <th></th>\n",
       "      <th>State</th>\n",
       "      <th>Count</th>\n",
       "    </tr>\n",
       "  </thead>\n",
       "  <tbody>\n",
       "    <tr>\n",
       "      <th>0</th>\n",
       "      <td>Alabama</td>\n",
       "      <td>0</td>\n",
       "    </tr>\n",
       "    <tr>\n",
       "      <th>1</th>\n",
       "      <td>Arizona</td>\n",
       "      <td>324</td>\n",
       "    </tr>\n",
       "    <tr>\n",
       "      <th>2</th>\n",
       "      <td>Arkansas</td>\n",
       "      <td>1</td>\n",
       "    </tr>\n",
       "    <tr>\n",
       "      <th>3</th>\n",
       "      <td>California</td>\n",
       "      <td>3857</td>\n",
       "    </tr>\n",
       "    <tr>\n",
       "      <th>4</th>\n",
       "      <td>Colorado</td>\n",
       "      <td>2825</td>\n",
       "    </tr>\n",
       "  </tbody>\n",
       "</table>\n",
       "</div>"
      ],
      "text/plain": [
       "        State  Count\n",
       "0     Alabama      0\n",
       "1     Arizona    324\n",
       "2    Arkansas      1\n",
       "3  California   3857\n",
       "4    Colorado   2825"
      ]
     },
     "execution_count": 122,
     "metadata": {},
     "output_type": "execute_result"
    }
   ],
   "source": [
    "new_rows = [\n",
    "    {'State': 'Virginia', 'Count': 0},\n",
    "    {'State': 'South Carolina', 'Count': 0},\n",
    "    {'State': 'Florida', 'Count': 0},\n",
    "    {'State': 'Mississippi', 'Count': 0},\n",
    "    {'State': 'Louisiana', 'Count': 0},\n",
    "    {'State': 'District of Columbia', 'Count': 0},\n",
    "    {'State': 'Kentucky', 'Count': 0},\n",
    "    {'State': 'Alabama', 'Count': 0},\n",
    "    {'State': 'Georgia', 'Count': 0},\n",
    "]\n",
    "\n",
    "# # Convert the list of dictionaries to a DataFrame\n",
    "# new_rows_df = pd.DataFrame(new_rows)\n",
    "\n",
    "# Append the new rows DataFrame to the original DataFrame 'df'\n",
    "df = df._append(new_rows, ignore_index=False)\n",
    "df.head(5)"
   ]
  },
  {
   "cell_type": "code",
   "execution_count": 121,
   "id": "9e551a51",
   "metadata": {},
   "outputs": [
    {
     "name": "stdout",
     "output_type": "stream",
     "text": [
      "Number of rows in the DataFrame: 49\n"
     ]
    },
    {
     "data": {
      "text/html": [
       "<div>\n",
       "<style scoped>\n",
       "    .dataframe tbody tr th:only-of-type {\n",
       "        vertical-align: middle;\n",
       "    }\n",
       "\n",
       "    .dataframe tbody tr th {\n",
       "        vertical-align: top;\n",
       "    }\n",
       "\n",
       "    .dataframe thead th {\n",
       "        text-align: right;\n",
       "    }\n",
       "</style>\n",
       "<table border=\"1\" class=\"dataframe\">\n",
       "  <thead>\n",
       "    <tr style=\"text-align: right;\">\n",
       "      <th></th>\n",
       "      <th>State</th>\n",
       "      <th>Count</th>\n",
       "    </tr>\n",
       "  </thead>\n",
       "  <tbody>\n",
       "    <tr>\n",
       "      <th>0</th>\n",
       "      <td>Alabama</td>\n",
       "      <td>0</td>\n",
       "    </tr>\n",
       "    <tr>\n",
       "      <th>1</th>\n",
       "      <td>Arizona</td>\n",
       "      <td>324</td>\n",
       "    </tr>\n",
       "    <tr>\n",
       "      <th>2</th>\n",
       "      <td>Arkansas</td>\n",
       "      <td>1</td>\n",
       "    </tr>\n",
       "    <tr>\n",
       "      <th>3</th>\n",
       "      <td>California</td>\n",
       "      <td>3857</td>\n",
       "    </tr>\n",
       "    <tr>\n",
       "      <th>4</th>\n",
       "      <td>Colorado</td>\n",
       "      <td>2825</td>\n",
       "    </tr>\n",
       "  </tbody>\n",
       "</table>\n",
       "</div>"
      ],
      "text/plain": [
       "        State  Count\n",
       "0     Alabama      0\n",
       "1     Arizona    324\n",
       "2    Arkansas      1\n",
       "3  California   3857\n",
       "4    Colorado   2825"
      ]
     },
     "execution_count": 121,
     "metadata": {},
     "output_type": "execute_result"
    }
   ],
   "source": [
    "row_count = len(df)\n",
    "print(\"Number of rows in the DataFrame:\", row_count)\n",
    "df.head(5)"
   ]
  },
  {
   "cell_type": "code",
   "execution_count": 120,
   "id": "4532e498",
   "metadata": {
    "scrolled": false
   },
   "outputs": [
    {
     "data": {
      "text/html": [
       "<div>\n",
       "<style scoped>\n",
       "    .dataframe tbody tr th:only-of-type {\n",
       "        vertical-align: middle;\n",
       "    }\n",
       "\n",
       "    .dataframe tbody tr th {\n",
       "        vertical-align: top;\n",
       "    }\n",
       "\n",
       "    .dataframe thead th {\n",
       "        text-align: right;\n",
       "    }\n",
       "</style>\n",
       "<table border=\"1\" class=\"dataframe\">\n",
       "  <thead>\n",
       "    <tr style=\"text-align: right;\">\n",
       "      <th></th>\n",
       "      <th>State</th>\n",
       "      <th>Count</th>\n",
       "    </tr>\n",
       "  </thead>\n",
       "  <tbody>\n",
       "    <tr>\n",
       "      <th>0</th>\n",
       "      <td>Alabama</td>\n",
       "      <td>0</td>\n",
       "    </tr>\n",
       "    <tr>\n",
       "      <th>1</th>\n",
       "      <td>Arizona</td>\n",
       "      <td>324</td>\n",
       "    </tr>\n",
       "    <tr>\n",
       "      <th>2</th>\n",
       "      <td>Arkansas</td>\n",
       "      <td>1</td>\n",
       "    </tr>\n",
       "    <tr>\n",
       "      <th>3</th>\n",
       "      <td>California</td>\n",
       "      <td>3857</td>\n",
       "    </tr>\n",
       "    <tr>\n",
       "      <th>4</th>\n",
       "      <td>Colorado</td>\n",
       "      <td>2825</td>\n",
       "    </tr>\n",
       "  </tbody>\n",
       "</table>\n",
       "</div>"
      ],
      "text/plain": [
       "        State  Count\n",
       "0     Alabama      0\n",
       "1     Arizona    324\n",
       "2    Arkansas      1\n",
       "3  California   3857\n",
       "4    Colorado   2825"
      ]
     },
     "execution_count": 120,
     "metadata": {},
     "output_type": "execute_result"
    }
   ],
   "source": [
    "df.sort_values(by='State', ascending=True, inplace = True)\n",
    "df.head(5)"
   ]
  },
  {
   "cell_type": "code",
   "execution_count": 119,
   "id": "eafca982",
   "metadata": {},
   "outputs": [
    {
     "data": {
      "text/html": [
       "<div>\n",
       "<style scoped>\n",
       "    .dataframe tbody tr th:only-of-type {\n",
       "        vertical-align: middle;\n",
       "    }\n",
       "\n",
       "    .dataframe tbody tr th {\n",
       "        vertical-align: top;\n",
       "    }\n",
       "\n",
       "    .dataframe thead th {\n",
       "        text-align: right;\n",
       "    }\n",
       "</style>\n",
       "<table border=\"1\" class=\"dataframe\">\n",
       "  <thead>\n",
       "    <tr style=\"text-align: right;\">\n",
       "      <th></th>\n",
       "      <th>State</th>\n",
       "      <th>Count</th>\n",
       "    </tr>\n",
       "  </thead>\n",
       "  <tbody>\n",
       "    <tr>\n",
       "      <th>0</th>\n",
       "      <td>Alabama</td>\n",
       "      <td>0</td>\n",
       "    </tr>\n",
       "    <tr>\n",
       "      <th>1</th>\n",
       "      <td>Arizona</td>\n",
       "      <td>324</td>\n",
       "    </tr>\n",
       "    <tr>\n",
       "      <th>2</th>\n",
       "      <td>Arkansas</td>\n",
       "      <td>1</td>\n",
       "    </tr>\n",
       "    <tr>\n",
       "      <th>3</th>\n",
       "      <td>California</td>\n",
       "      <td>3857</td>\n",
       "    </tr>\n",
       "    <tr>\n",
       "      <th>4</th>\n",
       "      <td>Colorado</td>\n",
       "      <td>2825</td>\n",
       "    </tr>\n",
       "  </tbody>\n",
       "</table>\n",
       "</div>"
      ],
      "text/plain": [
       "        State  Count\n",
       "0     Alabama      0\n",
       "1     Arizona    324\n",
       "2    Arkansas      1\n",
       "3  California   3857\n",
       "4    Colorado   2825"
      ]
     },
     "execution_count": 119,
     "metadata": {},
     "output_type": "execute_result"
    }
   ],
   "source": [
    "df.reset_index(drop=True, inplace=True)\n",
    "df.head(5)"
   ]
  },
  {
   "cell_type": "code",
   "execution_count": 111,
   "id": "d24e53dd",
   "metadata": {},
   "outputs": [],
   "source": [
    "# Merge the GeoDataFrame with your data based on a common column (e.g., 'State' column)\n",
    "merged_data = gdf.merge(df, left_on='NAME', right_on='State', how='left')\n"
   ]
  },
  {
   "cell_type": "code",
   "execution_count": 112,
   "id": "909b3edf",
   "metadata": {},
   "outputs": [
    {
     "name": "stdout",
     "output_type": "stream",
     "text": [
      "Number of rows in the DataFrame: 49\n"
     ]
    }
   ],
   "source": [
    "row_count = len(merged_data)\n",
    "print(\"Number of rows in the DataFrame:\", row_count)"
   ]
  },
  {
   "cell_type": "code",
   "execution_count": 113,
   "id": "754823be",
   "metadata": {
    "scrolled": true
   },
   "outputs": [],
   "source": [
    "# data_types = dfClusterMap.dtypes\n",
    "# print(data_types)"
   ]
  },
  {
   "cell_type": "code",
   "execution_count": 114,
   "id": "fae0831c",
   "metadata": {
    "scrolled": true
   },
   "outputs": [
    {
     "data": {
      "text/html": [
       "<div>\n",
       "<style scoped>\n",
       "    .dataframe tbody tr th:only-of-type {\n",
       "        vertical-align: middle;\n",
       "    }\n",
       "\n",
       "    .dataframe tbody tr th {\n",
       "        vertical-align: top;\n",
       "    }\n",
       "\n",
       "    .dataframe thead th {\n",
       "        text-align: right;\n",
       "    }\n",
       "</style>\n",
       "<table border=\"1\" class=\"dataframe\">\n",
       "  <thead>\n",
       "    <tr style=\"text-align: right;\">\n",
       "      <th></th>\n",
       "      <th>GEO_ID</th>\n",
       "      <th>STATE</th>\n",
       "      <th>NAME</th>\n",
       "      <th>LSAD</th>\n",
       "      <th>CENSUSAREA</th>\n",
       "      <th>geometry</th>\n",
       "      <th>State</th>\n",
       "      <th>Count</th>\n",
       "    </tr>\n",
       "  </thead>\n",
       "  <tbody>\n",
       "    <tr>\n",
       "      <th>0</th>\n",
       "      <td>0400000US01</td>\n",
       "      <td>01</td>\n",
       "      <td>Alabama</td>\n",
       "      <td></td>\n",
       "      <td>50645.326</td>\n",
       "      <td>MULTIPOLYGON (((-88.12466 30.28364, -88.08681 ...</td>\n",
       "      <td>Alabama</td>\n",
       "      <td>0</td>\n",
       "    </tr>\n",
       "    <tr>\n",
       "      <th>1</th>\n",
       "      <td>0400000US04</td>\n",
       "      <td>04</td>\n",
       "      <td>Arizona</td>\n",
       "      <td></td>\n",
       "      <td>113594.084</td>\n",
       "      <td>POLYGON ((-112.53859 37.00067, -112.53454 37.0...</td>\n",
       "      <td>Arizona</td>\n",
       "      <td>324</td>\n",
       "    </tr>\n",
       "    <tr>\n",
       "      <th>2</th>\n",
       "      <td>0400000US05</td>\n",
       "      <td>05</td>\n",
       "      <td>Arkansas</td>\n",
       "      <td></td>\n",
       "      <td>52035.477</td>\n",
       "      <td>POLYGON ((-94.04296 33.01922, -94.04304 33.079...</td>\n",
       "      <td>Arkansas</td>\n",
       "      <td>1</td>\n",
       "    </tr>\n",
       "    <tr>\n",
       "      <th>3</th>\n",
       "      <td>0400000US06</td>\n",
       "      <td>06</td>\n",
       "      <td>California</td>\n",
       "      <td></td>\n",
       "      <td>155779.220</td>\n",
       "      <td>MULTIPOLYGON (((-122.42144 37.86997, -122.4213...</td>\n",
       "      <td>California</td>\n",
       "      <td>3857</td>\n",
       "    </tr>\n",
       "    <tr>\n",
       "      <th>4</th>\n",
       "      <td>0400000US08</td>\n",
       "      <td>08</td>\n",
       "      <td>Colorado</td>\n",
       "      <td></td>\n",
       "      <td>103641.888</td>\n",
       "      <td>POLYGON ((-106.19055 40.99761, -106.06118 40.9...</td>\n",
       "      <td>Colorado</td>\n",
       "      <td>2825</td>\n",
       "    </tr>\n",
       "  </tbody>\n",
       "</table>\n",
       "</div>"
      ],
      "text/plain": [
       "        GEO_ID STATE        NAME LSAD  CENSUSAREA  \\\n",
       "0  0400000US01    01     Alabama        50645.326   \n",
       "1  0400000US04    04     Arizona       113594.084   \n",
       "2  0400000US05    05    Arkansas        52035.477   \n",
       "3  0400000US06    06  California       155779.220   \n",
       "4  0400000US08    08    Colorado       103641.888   \n",
       "\n",
       "                                            geometry       State  Count  \n",
       "0  MULTIPOLYGON (((-88.12466 30.28364, -88.08681 ...     Alabama      0  \n",
       "1  POLYGON ((-112.53859 37.00067, -112.53454 37.0...     Arizona    324  \n",
       "2  POLYGON ((-94.04296 33.01922, -94.04304 33.079...    Arkansas      1  \n",
       "3  MULTIPOLYGON (((-122.42144 37.86997, -122.4213...  California   3857  \n",
       "4  POLYGON ((-106.19055 40.99761, -106.06118 40.9...    Colorado   2825  "
      ]
     },
     "execution_count": 114,
     "metadata": {},
     "output_type": "execute_result"
    }
   ],
   "source": [
    "merged_data.head()"
   ]
  },
  {
   "cell_type": "code",
   "execution_count": 139,
   "id": "cd2fc399",
   "metadata": {},
   "outputs": [
    {
     "data": {
      "image/png": "[encoded data removed]",
      "text/plain": [
       "<Figure size 1400x800 with 2 Axes>"
      ]
     },
     "metadata": {},
     "output_type": "display_data"
    }
   ],
   "source": [
    "merged_data = merged_data.to_crs(epsg=3395)\n",
    "\n",
    "fig, ax = plt.subplots(1, 1, figsize=(14, 8))\n",
    "\n",
    "merged_data.plot(column='Count', cmap='viridis_r', linewidth=0.1, ax=ax, edgecolor='black', legend=True)\n",
    "\n",
    "ax.set_axis_off()\n",
    " \n",
    "plt.title('Wind Turbine Distribution for the United States of America')\n",
    "\n",
    "plt.show()\n",
    "\n"
   ]
  },
  {
   "cell_type": "code",
   "execution_count": null,
   "id": "d620990e",
   "metadata": {},
   "outputs": [],
   "source": []
  }
 ],
 "metadata": {
  "kernelspec": {
   "display_name": "Python 3 (ipykernel)",
   "language": "python",
   "name": "python3"
  },
  "language_info": {
   "codemirror_mode": {
    "name": "ipython",
    "version": 3
   },
   "file_extension": ".py",
   "mimetype": "text/x-python",
   "name": "python",
   "nbconvert_exporter": "python",
   "pygments_lexer": "ipython3",
   "version": "3.10.13"
  }
 },
 "nbformat": 4,
 "nbformat_minor": 5
}
