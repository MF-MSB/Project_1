{
 "cells": [
  {
   "cell_type": "code",
   "execution_count": 1,
   "id": "fb3e21b1",
   "metadata": {},
   "outputs": [],
   "source": [
    "import requests\n",
    "import json\n",
    "import pandas as pd"
   ]
  },
  {
   "cell_type": "code",
   "execution_count": 2,
   "id": "3f5f40ea",
   "metadata": {},
   "outputs": [],
   "source": [
    "# Detailed view of electricity/electric-power-operational-data entry for EIA API. This one shows everything available\n",
    "eia_url = \"https://api.eia.gov/v2/electricity/electric-power-operational-data/?api_key=VncsPCILhy2WlSElUxu9SmixaOdqw9gZMobZ5uz9&\"\n"
   ]
  },
  {
   "cell_type": "code",
   "execution_count": 3,
   "id": "c44d5546",
   "metadata": {},
   "outputs": [],
   "source": [
    "# Execute \"GET\" request with url\n",
    "response_data = requests.get(eia_url)"
   ]
  },
  {
   "cell_type": "code",
   "execution_count": 4,
   "id": "fc54a9b2",
   "metadata": {},
   "outputs": [
    {
     "name": "stdout",
     "output_type": "stream",
     "text": [
      "<Response [200]>\n"
     ]
    }
   ],
   "source": [
    "# Print \"response_data\" variable\n",
    "print(response_data)"
   ]
  },
  {
   "cell_type": "code",
   "execution_count": 5,
   "id": "d649ebbe",
   "metadata": {},
   "outputs": [
    {
     "name": "stdout",
     "output_type": "stream",
     "text": [
      "b'{\"response\":{\"id\":\"electric-power-operational-data\",\"name\":\"Electric Power Operations (Annual and Monthly)\",\"description\":\"Monthly and annual electric power operations by state, sector, and energy source.\\\\n    Source: Form EIA-923\",\"frequency\":[{\"id\":\"monthly\",\"description\":\"One data point for each month.\",\"query\":\"M\",\"format\":\"YYYY-MM\"},{\"id\":\"quarterly\",\"description\":\"One data point every 3 months.\",\"query\":\"Q\",\"format\":\"YYYY-\\\\\"Q\\\\\"Q\"},{\"id\":\"annual\",\"description\":\"One data point for each calendar year.\",\"query\":\"A\",\"format\":\"YYYY\"}],\"facets\":[{\"id\":\"location\",\"description\":\"State \\\\/ Census Region\"},{\"id\":\"sectorid\",\"description\":\"Sector\"},{\"id\":\"fueltypeid\",\"description\":\"Energy Source\"}],\"data\":{\"generation\":{\"alias\":\"Utility Scale Electricity Net Generation\"},\"total-consumption\":{\"alias\":\"Consumption of Fuels for Electricity Generation and Useful Thermal Output (Physical Units)\"},\"consumption-for-eg\":{\"alias\":\"Consumption of Fuels for Electricity Generation (Physical Units)\"},\"consumption-uto\":{\"alias\":\"Consumption of Fuels for Useful Thermal Output (Physical Units)\"},\"total-consumption-btu\":{\"alias\":\"Consumption of Fuels for Electricity Generation and Useful Thermal Output (BTUs)\"},\"consumption-for-eg-btu\":{\"alias\":\"Consumption of Fuels for Electricity Generation (BTUs)\"},\"consumption-uto-btu\":{\"alias\":\"Consumption of Fuels for Useful Thermal Output (BTUs)\"},\"stocks\":{\"alias\":\"Stocks of Fuel (Physical Units)\"},\"receipts\":{\"alias\":\"Receipts of Fuel (Physical Units)\"},\"receipts-btu\":{\"alias\":\"Receipts of Fuel (BTUs)\"},\"cost\":{\"alias\":\"Average Cost of Fuels (per Physical Unit)\"},\"cost-per-btu\":{\"alias\":\"Average Cost of Fuels (per BTU)\"},\"sulfur-content\":{\"alias\":\"Average Sulfur Content of Consumed Fuel\"},\"ash-content\":{\"alias\":\"Average Ash Content of Consumed Fuel\"},\"heat-content\":{\"alias\":\"Average Heat Content of Consumed Fuels\"}},\"startPeriod\":\"2001-01\",\"endPeriod\":\"2023-10\",\"defaultDateFormat\":\"YYYY-MM\",\"defaultFrequency\":\"monthly\"},\"request\":{\"command\":\"\\\\/v2\\\\/electricity\\\\/electric-power-operational-data\\\\/\",\"params\":{\"api_key\":\"VncsPCILhy2WlSElUxu9SmixaOdqw9gZMobZ5uz9\"}},\"apiVersion\":\"2.1.5\",\"ExcelAddInVersion\":\"2.1.0\"}'\n"
     ]
    }
   ],
   "source": [
    "# Store response using \"content\" attribute\n",
    "response_content = response_data.content\n",
    "print(response_content)"
   ]
  },
  {
   "cell_type": "code",
   "execution_count": 6,
   "id": "cbb6eee6",
   "metadata": {},
   "outputs": [],
   "source": [
    "# Format data as JSON\n",
    "data = response_data.json()"
   ]
  },
  {
   "cell_type": "code",
   "execution_count": 7,
   "id": "f81279c8",
   "metadata": {},
   "outputs": [
    {
     "name": "stdout",
     "output_type": "stream",
     "text": [
      "{\n",
      "    \"response\": {\n",
      "        \"id\": \"electric-power-operational-data\",\n",
      "        \"name\": \"Electric Power Operations (Annual and Monthly)\",\n",
      "        \"description\": \"Monthly and annual electric power operations by state, sector, and energy source.\\n    Source: Form EIA-923\",\n",
      "        \"frequency\": [\n",
      "            {\n",
      "                \"id\": \"monthly\",\n",
      "                \"description\": \"One data point for each month.\",\n",
      "                \"query\": \"M\",\n",
      "                \"format\": \"YYYY-MM\"\n",
      "            },\n",
      "            {\n",
      "                \"id\": \"quarterly\",\n",
      "                \"description\": \"One data point every 3 months.\",\n",
      "                \"query\": \"Q\",\n",
      "                \"format\": \"YYYY-\\\"Q\\\"Q\"\n",
      "            },\n",
      "            {\n",
      "                \"id\": \"annual\",\n",
      "                \"description\": \"One data point for each calendar year.\",\n",
      "                \"query\": \"A\",\n",
      "                \"format\": \"YYYY\"\n",
      "            }\n",
      "        ],\n",
      "        \"facets\": [\n",
      "            {\n",
      "                \"id\": \"location\",\n",
      "                \"description\": \"State / Census Region\"\n",
      "            },\n",
      "            {\n",
      "                \"id\": \"sectorid\",\n",
      "                \"description\": \"Sector\"\n",
      "            },\n",
      "            {\n",
      "                \"id\": \"fueltypeid\",\n",
      "                \"description\": \"Energy Source\"\n",
      "            }\n",
      "        ],\n",
      "        \"data\": {\n",
      "            \"generation\": {\n",
      "                \"alias\": \"Utility Scale Electricity Net Generation\"\n",
      "            },\n",
      "            \"total-consumption\": {\n",
      "                \"alias\": \"Consumption of Fuels for Electricity Generation and Useful Thermal Output (Physical Units)\"\n",
      "            },\n",
      "            \"consumption-for-eg\": {\n",
      "                \"alias\": \"Consumption of Fuels for Electricity Generation (Physical Units)\"\n",
      "            },\n",
      "            \"consumption-uto\": {\n",
      "                \"alias\": \"Consumption of Fuels for Useful Thermal Output (Physical Units)\"\n",
      "            },\n",
      "            \"total-consumption-btu\": {\n",
      "                \"alias\": \"Consumption of Fuels for Electricity Generation and Useful Thermal Output (BTUs)\"\n",
      "            },\n",
      "            \"consumption-for-eg-btu\": {\n",
      "                \"alias\": \"Consumption of Fuels for Electricity Generation (BTUs)\"\n",
      "            },\n",
      "            \"consumption-uto-btu\": {\n",
      "                \"alias\": \"Consumption of Fuels for Useful Thermal Output (BTUs)\"\n",
      "            },\n",
      "            \"stocks\": {\n",
      "                \"alias\": \"Stocks of Fuel (Physical Units)\"\n",
      "            },\n",
      "            \"receipts\": {\n",
      "                \"alias\": \"Receipts of Fuel (Physical Units)\"\n",
      "            },\n",
      "            \"receipts-btu\": {\n",
      "                \"alias\": \"Receipts of Fuel (BTUs)\"\n",
      "            },\n",
      "            \"cost\": {\n",
      "                \"alias\": \"Average Cost of Fuels (per Physical Unit)\"\n",
      "            },\n",
      "            \"cost-per-btu\": {\n",
      "                \"alias\": \"Average Cost of Fuels (per BTU)\"\n",
      "            },\n",
      "            \"sulfur-content\": {\n",
      "                \"alias\": \"Average Sulfur Content of Consumed Fuel\"\n",
      "            },\n",
      "            \"ash-content\": {\n",
      "                \"alias\": \"Average Ash Content of Consumed Fuel\"\n",
      "            },\n",
      "            \"heat-content\": {\n",
      "                \"alias\": \"Average Heat Content of Consumed Fuels\"\n",
      "            }\n",
      "        },\n",
      "        \"startPeriod\": \"2001-01\",\n",
      "        \"endPeriod\": \"2023-10\",\n",
      "        \"defaultDateFormat\": \"YYYY-MM\",\n",
      "        \"defaultFrequency\": \"monthly\"\n",
      "    },\n",
      "    \"request\": {\n",
      "        \"command\": \"/v2/electricity/electric-power-operational-data/\",\n",
      "        \"params\": {\n",
      "            \"api_key\": \"VncsPCILhy2WlSElUxu9SmixaOdqw9gZMobZ5uz9\"\n",
      "        }\n",
      "    },\n",
      "    \"apiVersion\": \"2.1.5\",\n",
      "    \"ExcelAddInVersion\": \"2.1.0\"\n",
      "}\n"
     ]
    }
   ],
   "source": [
    "# Use json.dumps with argument indent=4 to format data\n",
    "print(json.dumps(data, indent=4))"
   ]
  },
  {
   "cell_type": "code",
   "execution_count": null,
   "id": "d3fd2bc5",
   "metadata": {},
   "outputs": [],
   "source": []
  },
  {
   "cell_type": "code",
   "execution_count": null,
   "id": "0240eb1d",
   "metadata": {},
   "outputs": [],
   "source": []
  },
  {
   "cell_type": "code",
   "execution_count": null,
   "id": "9058fd67",
   "metadata": {},
   "outputs": [],
   "source": []
  }
 ],
 "metadata": {
  "kernelspec": {
   "display_name": "Python 3 (ipykernel)",
   "language": "python",
   "name": "python3"
  },
  "language_info": {
   "codemirror_mode": {
    "name": "ipython",
    "version": 3
   },
   "file_extension": ".py",
   "mimetype": "text/x-python",
   "name": "python",
   "nbconvert_exporter": "python",
   "pygments_lexer": "ipython3",
   "version": "3.10.13"
  }
 },
 "nbformat": 4,
 "nbformat_minor": 5
}
