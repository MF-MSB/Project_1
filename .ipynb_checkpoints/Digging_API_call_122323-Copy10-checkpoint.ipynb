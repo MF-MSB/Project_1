{
 "cells": [
  {
   "cell_type": "code",
   "execution_count": 1,
   "id": "fb3e21b1",
   "metadata": {},
   "outputs": [],
   "source": [
    "import requests\n",
    "import json\n",
    "import pandas as pd"
   ]
  },
  {
   "cell_type": "code",
   "execution_count": 2,
   "id": "3f5f40ea",
   "metadata": {},
   "outputs": [],
   "source": [
    "#Detailed view of electricity/electric-power-operational-data entry for EIA API. \n",
    "eia_url = \"https://api.eia.gov/v2?api_key=VncsPCILhy2WlSElUxu9SmixaOdqw9gZMobZ5uz9&\"\n",
    "\n"
   ]
  },
  {
   "cell_type": "code",
   "execution_count": 3,
   "id": "c44d5546",
   "metadata": {},
   "outputs": [],
   "source": [
    "# Execute \"GET\" request with url\n",
    "response_data = requests.get(eia_url)"
   ]
  },
  {
   "cell_type": "code",
   "execution_count": 4,
   "id": "fc54a9b2",
   "metadata": {},
   "outputs": [
    {
     "name": "stdout",
     "output_type": "stream",
     "text": [
      "<Response [200]>\n"
     ]
    }
   ],
   "source": [
    "# Print \"response_data\" variable\n",
    "print(response_data)"
   ]
  },
  {
   "cell_type": "code",
   "execution_count": 5,
   "id": "d649ebbe",
   "metadata": {},
   "outputs": [
    {
     "name": "stdout",
     "output_type": "stream",
     "text": [
      "b'{\"response\":{\"id\":\"\",\"name\":\"\",\"description\":\"\",\"routes\":[{\"id\":\"coal\",\"name\":\"Coal\",\"description\":\"EIA coal energy data\"},{\"id\":\"crude-oil-imports\",\"name\":\"Crude Oil Imports\",\"description\":\"Crude oil imports by country to destination, \\\\r\\\\n        includes type, grade, quantity.  Source: EIA-814  Interactive data \\\\r\\\\n        product:  www.eia.gov\\\\/petroleum\\\\/imports\\\\/companylevel\\\\/\"},{\"id\":\"electricity\",\"name\":\"Electricity\",\"description\":\"EIA electricity survey data\"},{\"id\":\"international\",\"name\":\"International\",\"description\":\"Country level production, consumption, imports, exports by energy source (petroleum, natural gas, electricity, renewable, etc.)  \\\\r\\\\n        Interactive product:  https:\\\\/\\\\/www.eia.gov\\\\/international\\\\/data\\\\/world\"},{\"id\":\"natural-gas\",\"name\":\"Natural Gas\",\"description\":\"EIA natural gas survey data\"},{\"id\":\"nuclear-outages\",\"name\":\"Nuclear Outages\",\"description\":\"EIA nuclear outages survey data\"},{\"id\":\"petroleum\",\"name\":\"Petroleum\",\"description\":\"EIA petroleum gas survey data\"},{\"id\":\"seds\",\"name\":\"State Energy Data System (SEDS)\",\"description\":\"Estimated production, consumption, price, and expenditure data for all energy sources by state and sector.  \\\\r\\\\n        Source:  https:\\\\/\\\\/www.eia.gov\\\\/state\\\\/seds\\\\/seds-technical-notes-complete.php  \\\\r\\\\n        Product:  SEDS (https:\\\\/\\\\/www.eia.gov\\\\/state\\\\/seds\\\\/)\"},{\"id\":\"steo\",\"name\":\"Short Term Energy Outlook\",\"description\":\"Monthly short term (18 month) projections using STEO model.  \\\\r\\\\n        Report and interactive projection data browser:  STEO (www.eia.gov\\\\/steo\\\\/)\"},{\"id\":\"densified-biomass\",\"name\":\"Densified Biomass\",\"description\":\"EIA densified biomass data\"},{\"id\":\"total-energy\",\"name\":\"Total Energy\",\"description\":\"These data represent the most recent comprehensive energy statistics integrated across all energy sources.  The data includes total energy production, consumption, stocks, and trade; energy prices; overviews of petroleum, natural gas, coal, electricity, nuclear energy, renewable energy, and carbon dioxide emissions; and data unit conversions values.  Source: https:\\\\/\\\\/www.eia.gov\\\\/totalenergy\\\\/data\\\\/monthly\\\\/pdf\\\\/mer_a_doc.pdf  Report:  MER (https:\\\\/\\\\/www.eia.gov\\\\/totalenergy\\\\/data\\\\/monthly\\\\/)\"},{\"id\":\"aeo\",\"name\":\"Annual Energy Outlook\",\"description\":\"Annual U.S. projections using National Energy Modelling System (NEMS) for release year.  Report, documentation, and interactive projection data browser:  AEO (www.eia.gov\\\\/aeo\\\\/)\"},{\"id\":\"ieo\",\"name\":\"International Energy Outlook\",\"description\":\"Annual international projections using the World Energy Projection System (WEPS) model for release year.  Report and interactive projection data browser:  IEO (www.eia.gov\\\\/ieo\\\\/)\"},{\"id\":\"co2-emissions\",\"name\":\"State CO2 Emissions\",\"description\":\"EIA CO2 Emissions data\"}]},\"request\":{\"command\":\"\\\\/v2\\\\/\",\"params\":{\"api_key\":\"VncsPCILhy2WlSElUxu9SmixaOdqw9gZMobZ5uz9\"}},\"apiVersion\":\"2.1.5\",\"ExcelAddInVersion\":\"2.1.0\"}'\n"
     ]
    }
   ],
   "source": [
    "# Store response using \"content\" attribute\n",
    "response_content = response_data.content\n",
    "print(response_content)"
   ]
  },
  {
   "cell_type": "code",
   "execution_count": 6,
   "id": "cbb6eee6",
   "metadata": {},
   "outputs": [],
   "source": [
    "# Format data as JSON\n",
    "data = response_data.json()"
   ]
  },
  {
   "cell_type": "code",
   "execution_count": 7,
   "id": "f81279c8",
   "metadata": {},
   "outputs": [
    {
     "name": "stdout",
     "output_type": "stream",
     "text": [
      "{\n",
      "    \"response\": {\n",
      "        \"id\": \"\",\n",
      "        \"name\": \"\",\n",
      "        \"description\": \"\",\n",
      "        \"routes\": [\n",
      "            {\n",
      "                \"id\": \"coal\",\n",
      "                \"name\": \"Coal\",\n",
      "                \"description\": \"EIA coal energy data\"\n",
      "            },\n",
      "            {\n",
      "                \"id\": \"crude-oil-imports\",\n",
      "                \"name\": \"Crude Oil Imports\",\n",
      "                \"description\": \"Crude oil imports by country to destination, \\r\\n        includes type, grade, quantity.  Source: EIA-814  Interactive data \\r\\n        product:  www.eia.gov/petroleum/imports/companylevel/\"\n",
      "            },\n",
      "            {\n",
      "                \"id\": \"electricity\",\n",
      "                \"name\": \"Electricity\",\n",
      "                \"description\": \"EIA electricity survey data\"\n",
      "            },\n",
      "            {\n",
      "                \"id\": \"international\",\n",
      "                \"name\": \"International\",\n",
      "                \"description\": \"Country level production, consumption, imports, exports by energy source (petroleum, natural gas, electricity, renewable, etc.)  \\r\\n        Interactive product:  https://www.eia.gov/international/data/world\"\n",
      "            },\n",
      "            {\n",
      "                \"id\": \"natural-gas\",\n",
      "                \"name\": \"Natural Gas\",\n",
      "                \"description\": \"EIA natural gas survey data\"\n",
      "            },\n",
      "            {\n",
      "                \"id\": \"nuclear-outages\",\n",
      "                \"name\": \"Nuclear Outages\",\n",
      "                \"description\": \"EIA nuclear outages survey data\"\n",
      "            },\n",
      "            {\n",
      "                \"id\": \"petroleum\",\n",
      "                \"name\": \"Petroleum\",\n",
      "                \"description\": \"EIA petroleum gas survey data\"\n",
      "            },\n",
      "            {\n",
      "                \"id\": \"seds\",\n",
      "                \"name\": \"State Energy Data System (SEDS)\",\n",
      "                \"description\": \"Estimated production, consumption, price, and expenditure data for all energy sources by state and sector.  \\r\\n        Source:  https://www.eia.gov/state/seds/seds-technical-notes-complete.php  \\r\\n        Product:  SEDS (https://www.eia.gov/state/seds/)\"\n",
      "            },\n",
      "            {\n",
      "                \"id\": \"steo\",\n",
      "                \"name\": \"Short Term Energy Outlook\",\n",
      "                \"description\": \"Monthly short term (18 month) projections using STEO model.  \\r\\n        Report and interactive projection data browser:  STEO (www.eia.gov/steo/)\"\n",
      "            },\n",
      "            {\n",
      "                \"id\": \"densified-biomass\",\n",
      "                \"name\": \"Densified Biomass\",\n",
      "                \"description\": \"EIA densified biomass data\"\n",
      "            },\n",
      "            {\n",
      "                \"id\": \"total-energy\",\n",
      "                \"name\": \"Total Energy\",\n",
      "                \"description\": \"These data represent the most recent comprehensive energy statistics integrated across all energy sources.  The data includes total energy production, consumption, stocks, and trade; energy prices; overviews of petroleum, natural gas, coal, electricity, nuclear energy, renewable energy, and carbon dioxide emissions; and data unit conversions values.  Source: https://www.eia.gov/totalenergy/data/monthly/pdf/mer_a_doc.pdf  Report:  MER (https://www.eia.gov/totalenergy/data/monthly/)\"\n",
      "            },\n",
      "            {\n",
      "                \"id\": \"aeo\",\n",
      "                \"name\": \"Annual Energy Outlook\",\n",
      "                \"description\": \"Annual U.S. projections using National Energy Modelling System (NEMS) for release year.  Report, documentation, and interactive projection data browser:  AEO (www.eia.gov/aeo/)\"\n",
      "            },\n",
      "            {\n",
      "                \"id\": \"ieo\",\n",
      "                \"name\": \"International Energy Outlook\",\n",
      "                \"description\": \"Annual international projections using the World Energy Projection System (WEPS) model for release year.  Report and interactive projection data browser:  IEO (www.eia.gov/ieo/)\"\n",
      "            },\n",
      "            {\n",
      "                \"id\": \"co2-emissions\",\n",
      "                \"name\": \"State CO2 Emissions\",\n",
      "                \"description\": \"EIA CO2 Emissions data\"\n",
      "            }\n",
      "        ]\n",
      "    },\n",
      "    \"request\": {\n",
      "        \"command\": \"/v2/\",\n",
      "        \"params\": {\n",
      "            \"api_key\": \"VncsPCILhy2WlSElUxu9SmixaOdqw9gZMobZ5uz9\"\n",
      "        }\n",
      "    },\n",
      "    \"apiVersion\": \"2.1.5\",\n",
      "    \"ExcelAddInVersion\": \"2.1.0\"\n",
      "}\n"
     ]
    }
   ],
   "source": [
    "# Use json.dumps with argument indent=4 to format data\n",
    "print(json.dumps(data, indent=4))"
   ]
  },
  {
   "cell_type": "code",
   "execution_count": null,
   "id": "d3fd2bc5",
   "metadata": {},
   "outputs": [],
   "source": []
  },
  {
   "cell_type": "code",
   "execution_count": null,
   "id": "0240eb1d",
   "metadata": {},
   "outputs": [],
   "source": []
  },
  {
   "cell_type": "code",
   "execution_count": null,
   "id": "9058fd67",
   "metadata": {},
   "outputs": [],
   "source": []
  }
 ],
 "metadata": {
  "kernelspec": {
   "display_name": "Python 3 (ipykernel)",
   "language": "python",
   "name": "python3"
  },
  "language_info": {
   "codemirror_mode": {
    "name": "ipython",
    "version": 3
   },
   "file_extension": ".py",
   "mimetype": "text/x-python",
   "name": "python",
   "nbconvert_exporter": "python",
   "pygments_lexer": "ipython3",
   "version": "3.10.13"
  }
 },
 "nbformat": 4,
 "nbformat_minor": 5
}
