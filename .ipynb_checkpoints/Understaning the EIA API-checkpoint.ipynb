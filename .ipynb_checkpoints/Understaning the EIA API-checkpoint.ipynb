{
 "cells": [
  {
   "cell_type": "code",
   "execution_count": 52,
   "id": "fb3e21b1",
   "metadata": {},
   "outputs": [],
   "source": [
    "#Overview of API calls"
   ]
  },
  {
   "cell_type": "code",
   "execution_count": 79,
   "id": "3f5f40ea",
   "metadata": {},
   "outputs": [],
   "source": [
    "#Detailed view of available information  \n",
    "# eia_url = \"https://api.eia.gov/v2?api_key=VncsPCILhy2WlSElUxu9SmixaOdqw9gZMobZ5uz9&\""
   ]
  },
  {
   "cell_type": "code",
   "execution_count": null,
   "id": "0240eb1d",
   "metadata": {},
   "outputs": [],
   "source": [
    "#Detailed view of information available for electricity. \n",
    "# eia_url = \"https://api.eia.gov/v2/electricity?api_key=VncsPCILhy2WlSElUxu9SmixaOdqw9gZMobZ5uz9&\""
   ]
  },
  {
   "cell_type": "code",
   "execution_count": null,
   "id": "9058fd67",
   "metadata": {},
   "outputs": [],
   "source": [
    "#Detailed view of electricity/electric-power-operational-data entry for EIA API. \n",
    "#eia_url = \"https://api.eia.gov/v2/electricity/electric-power-operational-data?api_key=VncsPCILhy2WlSElUxu9SmixaOdqw9gZMobZ5uz9\"\n",
    "\n",
    "# \"facets\": [\n",
    "#             {\n",
    "#                 \"id\": \"location\",\n",
    "#                 \"description\": \"State / Census Region\"\n",
    "#             },\n",
    "#             {\n",
    "#                 \"id\": \"sectorid\",\n",
    "#                 \"description\": \"Sector\"\n",
    "#             },\n",
    "#             {\n",
    "#                 \"id\": \"fueltypeid\",\n",
    "#                 \"description\": \"Energy Source\"\n",
    "#             }\n"
   ]
  },
  {
   "cell_type": "code",
   "execution_count": null,
   "id": "a9077991",
   "metadata": {},
   "outputs": [],
   "source": [
    "#This call enables us to detemrine the fueltypeid for wind is WND\n",
    "# eia_url = \"https://api.eia.gov/v2/electricity/electric-power-operational-data/facet/fueltypeid?api_key=VncsPCILhy2WlSElUxu9SmixaOdqw9gZMobZ5uz9\"\n"
   ]
  },
  {
   "cell_type": "code",
   "execution_count": null,
   "id": "aa7d2290",
   "metadata": {},
   "outputs": [],
   "source": [
    "#This call enables us to detemrine the location information is for state. Note there are 64 entries\n",
    "# eia_url = \"https://api.eia.gov/v2/electricity/electric-power-operational-data/facet/location?api_key=VncsPCILhy2WlSElUxu9SmixaOdqw9gZMobZ5uz9\"\n"
   ]
  },
  {
   "cell_type": "code",
   "execution_count": null,
   "id": "5f36e427",
   "metadata": {},
   "outputs": [],
   "source": [
    "#This call enables us to detemrine the sector id is 99.\n",
    "# eia_url = \"https://api.eia.gov/v2/electricity/electric-power-operational-data/facet/sectorid?api_key=VncsPCILhy2WlSElUxu9SmixaOdqw9gZMobZ5uz9\"\n"
   ]
  },
  {
   "cell_type": "code",
   "execution_count": null,
   "id": "777050e5",
   "metadata": {},
   "outputs": [],
   "source": [
    "#This call returns the monthly wind power generation data at a state and year level. \n",
    "# eia_url = \"https://api.eia.gov/v2/electricity/electric-power-operational-data/data?api_key=VncsPCILhy2WlSElUxu9SmixaOdqw9gZMobZ5uz9&data[]=generation&facets[fueltypeid][]=WND&frequency=annual&sort[0][column]=period&sort[0][direction]=desc&facets[sectorid][]=99\""
   ]
  },
  {
   "cell_type": "code",
   "execution_count": null,
   "id": "2516ba3d",
   "metadata": {},
   "outputs": [],
   "source": [
    "#This call returns the monthly wind power generation data for Texas and year level. \n",
    "#eia_url = \"https://api.eia.gov/v2/electricity/electric-power-operational-data/data?api_key=VncsPCILhy2WlSElUxu9SmixaOdqw9gZMobZ5uz9&data[]=generation&facets[fueltypeid][]=WND&facets[location][]=TX&frequency=monthly&sort[0][column]=period&sort[0][direction]=desc&facets[sectorid][]=99\"\n",
    "\n",
    "\n"
   ]
  }
 ],
 "metadata": {
  "kernelspec": {
   "display_name": "Python 3 (ipykernel)",
   "language": "python",
   "name": "python3"
  },
  "language_info": {
   "codemirror_mode": {
    "name": "ipython",
    "version": 3
   },
   "file_extension": ".py",
   "mimetype": "text/x-python",
   "name": "python",
   "nbconvert_exporter": "python",
   "pygments_lexer": "ipython3",
   "version": "3.10.13"
  }
 },
 "nbformat": 4,
 "nbformat_minor": 5
}
