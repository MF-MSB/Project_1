{
 "cells": [
  {
   "cell_type": "code",
   "execution_count": 1,
   "id": "20650e86",
   "metadata": {},
   "outputs": [],
   "source": [
    "import pandas as pd\n",
    "import geopandas as gpd\n",
    "import matplotlib.pyplot as plt\n",
    "from matplotlib.colors import ListedColormap"
   ]
  },
  {
   "cell_type": "code",
   "execution_count": 3,
   "id": "d7d40b7f",
   "metadata": {
    "scrolled": false
   },
   "outputs": [
    {
     "data": {
      "text/html": [
       "<div>\n",
       "<style scoped>\n",
       "    .dataframe tbody tr th:only-of-type {\n",
       "        vertical-align: middle;\n",
       "    }\n",
       "\n",
       "    .dataframe tbody tr th {\n",
       "        vertical-align: top;\n",
       "    }\n",
       "\n",
       "    .dataframe thead th {\n",
       "        text-align: right;\n",
       "    }\n",
       "</style>\n",
       "<table border=\"1\" class=\"dataframe\">\n",
       "  <thead>\n",
       "    <tr style=\"text-align: right;\">\n",
       "      <th></th>\n",
       "      <th>GEO_ID</th>\n",
       "      <th>STATE</th>\n",
       "      <th>NAME</th>\n",
       "      <th>LSAD</th>\n",
       "      <th>CENSUSAREA</th>\n",
       "      <th>geometry</th>\n",
       "    </tr>\n",
       "  </thead>\n",
       "  <tbody>\n",
       "    <tr>\n",
       "      <th>0</th>\n",
       "      <td>0400000US01</td>\n",
       "      <td>01</td>\n",
       "      <td>Alabama</td>\n",
       "      <td></td>\n",
       "      <td>50645.326</td>\n",
       "      <td>MULTIPOLYGON (((-88.12466 30.28364, -88.08681 ...</td>\n",
       "    </tr>\n",
       "    <tr>\n",
       "      <th>1</th>\n",
       "      <td>0400000US02</td>\n",
       "      <td>02</td>\n",
       "      <td>Alaska</td>\n",
       "      <td></td>\n",
       "      <td>570640.950</td>\n",
       "      <td>MULTIPOLYGON (((-166.10574 53.98861, -166.0752...</td>\n",
       "    </tr>\n",
       "    <tr>\n",
       "      <th>2</th>\n",
       "      <td>0400000US04</td>\n",
       "      <td>04</td>\n",
       "      <td>Arizona</td>\n",
       "      <td></td>\n",
       "      <td>113594.084</td>\n",
       "      <td>POLYGON ((-112.53859 37.00067, -112.53454 37.0...</td>\n",
       "    </tr>\n",
       "    <tr>\n",
       "      <th>3</th>\n",
       "      <td>0400000US05</td>\n",
       "      <td>05</td>\n",
       "      <td>Arkansas</td>\n",
       "      <td></td>\n",
       "      <td>52035.477</td>\n",
       "      <td>POLYGON ((-94.04296 33.01922, -94.04304 33.079...</td>\n",
       "    </tr>\n",
       "    <tr>\n",
       "      <th>4</th>\n",
       "      <td>0400000US06</td>\n",
       "      <td>06</td>\n",
       "      <td>California</td>\n",
       "      <td></td>\n",
       "      <td>155779.220</td>\n",
       "      <td>MULTIPOLYGON (((-122.42144 37.86997, -122.4213...</td>\n",
       "    </tr>\n",
       "  </tbody>\n",
       "</table>\n",
       "</div>"
      ],
      "text/plain": [
       "        GEO_ID STATE        NAME LSAD  CENSUSAREA  \\\n",
       "0  0400000US01    01     Alabama        50645.326   \n",
       "1  0400000US02    02      Alaska       570640.950   \n",
       "2  0400000US04    04     Arizona       113594.084   \n",
       "3  0400000US05    05    Arkansas        52035.477   \n",
       "4  0400000US06    06  California       155779.220   \n",
       "\n",
       "                                            geometry  \n",
       "0  MULTIPOLYGON (((-88.12466 30.28364, -88.08681 ...  \n",
       "1  MULTIPOLYGON (((-166.10574 53.98861, -166.0752...  \n",
       "2  POLYGON ((-112.53859 37.00067, -112.53454 37.0...  \n",
       "3  POLYGON ((-94.04296 33.01922, -94.04304 33.079...  \n",
       "4  MULTIPOLYGON (((-122.42144 37.86997, -122.4213...  "
      ]
     },
     "execution_count": 3,
     "metadata": {},
     "output_type": "execute_result"
    }
   ],
   "source": [
    "# Load in json\n",
    "gdf = gpd.read_file(\"C:/Users/mford.MSBIOWORKS/Project_1/gz_2010_us_040_00_5m.json\")\n",
    "# gdf = gpd.read_file(\"C:/Users/mford.MSBIOWORKS/Project_1/rewound-geojson.json\")\n",
    "\n",
    "# print(monthly_energy_production_df)\n",
    "gdf.head(5)"
   ]
  },
  {
   "cell_type": "code",
   "execution_count": 4,
   "id": "f47037f9",
   "metadata": {},
   "outputs": [
    {
     "name": "stdout",
     "output_type": "stream",
     "text": [
      "Number of rows in the DataFrame: 52\n"
     ]
    }
   ],
   "source": [
    "row_count = len(gdf)\n",
    "print(\"Number of rows in the DataFrame:\", row_count)"
   ]
  },
  {
   "cell_type": "code",
   "execution_count": 5,
   "id": "c01bbdfb",
   "metadata": {},
   "outputs": [
    {
     "name": "stdout",
     "output_type": "stream",
     "text": [
      "['Alabama' 'Alaska' 'Arizona' 'Arkansas' 'California' 'Colorado'\n",
      " 'Connecticut' 'Delaware' 'District of Columbia' 'Florida' 'Georgia'\n",
      " 'Hawaii' 'Idaho' 'Illinois' 'Indiana' 'Iowa' 'Kansas' 'Kentucky'\n",
      " 'Louisiana' 'Maine' 'Maryland' 'Massachusetts' 'Michigan' 'Minnesota'\n",
      " 'Mississippi' 'Missouri' 'Montana' 'Nebraska' 'Nevada' 'New Hampshire'\n",
      " 'New Jersey' 'New Mexico' 'New York' 'North Carolina' 'North Dakota'\n",
      " 'Ohio' 'Oklahoma' 'Oregon' 'Pennsylvania' 'Rhode Island' 'South Carolina'\n",
      " 'South Dakota' 'Tennessee' 'Texas' 'Utah' 'Vermont' 'Virginia'\n",
      " 'Washington' 'West Virginia' 'Wisconsin' 'Wyoming' 'Puerto Rico']\n"
     ]
    }
   ],
   "source": [
    "unique_states = gdf['NAME'].unique()\n",
    "print(unique_states)"
   ]
  },
  {
   "cell_type": "code",
   "execution_count": 6,
   "id": "6196c02e",
   "metadata": {},
   "outputs": [],
   "source": [
    "value_to_delete = ['Alaska','Hawaii', 'Puerto Rico' ]\n",
    "gdf = gdf[~gdf['NAME'].isin(value_to_delete)]"
   ]
  },
  {
   "cell_type": "code",
   "execution_count": 7,
   "id": "aa64109b",
   "metadata": {},
   "outputs": [
    {
     "data": {
      "text/html": [
       "<div>\n",
       "<style scoped>\n",
       "    .dataframe tbody tr th:only-of-type {\n",
       "        vertical-align: middle;\n",
       "    }\n",
       "\n",
       "    .dataframe tbody tr th {\n",
       "        vertical-align: top;\n",
       "    }\n",
       "\n",
       "    .dataframe thead th {\n",
       "        text-align: right;\n",
       "    }\n",
       "</style>\n",
       "<table border=\"1\" class=\"dataframe\">\n",
       "  <thead>\n",
       "    <tr style=\"text-align: right;\">\n",
       "      <th></th>\n",
       "      <th>GEO_ID</th>\n",
       "      <th>STATE</th>\n",
       "      <th>NAME</th>\n",
       "      <th>LSAD</th>\n",
       "      <th>CENSUSAREA</th>\n",
       "      <th>geometry</th>\n",
       "    </tr>\n",
       "  </thead>\n",
       "  <tbody>\n",
       "    <tr>\n",
       "      <th>0</th>\n",
       "      <td>0400000US01</td>\n",
       "      <td>01</td>\n",
       "      <td>Alabama</td>\n",
       "      <td></td>\n",
       "      <td>50645.326</td>\n",
       "      <td>MULTIPOLYGON (((-88.12466 30.28364, -88.08681 ...</td>\n",
       "    </tr>\n",
       "    <tr>\n",
       "      <th>1</th>\n",
       "      <td>0400000US04</td>\n",
       "      <td>04</td>\n",
       "      <td>Arizona</td>\n",
       "      <td></td>\n",
       "      <td>113594.084</td>\n",
       "      <td>POLYGON ((-112.53859 37.00067, -112.53454 37.0...</td>\n",
       "    </tr>\n",
       "    <tr>\n",
       "      <th>2</th>\n",
       "      <td>0400000US05</td>\n",
       "      <td>05</td>\n",
       "      <td>Arkansas</td>\n",
       "      <td></td>\n",
       "      <td>52035.477</td>\n",
       "      <td>POLYGON ((-94.04296 33.01922, -94.04304 33.079...</td>\n",
       "    </tr>\n",
       "    <tr>\n",
       "      <th>3</th>\n",
       "      <td>0400000US06</td>\n",
       "      <td>06</td>\n",
       "      <td>California</td>\n",
       "      <td></td>\n",
       "      <td>155779.220</td>\n",
       "      <td>MULTIPOLYGON (((-122.42144 37.86997, -122.4213...</td>\n",
       "    </tr>\n",
       "    <tr>\n",
       "      <th>4</th>\n",
       "      <td>0400000US08</td>\n",
       "      <td>08</td>\n",
       "      <td>Colorado</td>\n",
       "      <td></td>\n",
       "      <td>103641.888</td>\n",
       "      <td>POLYGON ((-106.19055 40.99761, -106.06118 40.9...</td>\n",
       "    </tr>\n",
       "  </tbody>\n",
       "</table>\n",
       "</div>"
      ],
      "text/plain": [
       "        GEO_ID STATE        NAME LSAD  CENSUSAREA  \\\n",
       "0  0400000US01    01     Alabama        50645.326   \n",
       "1  0400000US04    04     Arizona       113594.084   \n",
       "2  0400000US05    05    Arkansas        52035.477   \n",
       "3  0400000US06    06  California       155779.220   \n",
       "4  0400000US08    08    Colorado       103641.888   \n",
       "\n",
       "                                            geometry  \n",
       "0  MULTIPOLYGON (((-88.12466 30.28364, -88.08681 ...  \n",
       "1  POLYGON ((-112.53859 37.00067, -112.53454 37.0...  \n",
       "2  POLYGON ((-94.04296 33.01922, -94.04304 33.079...  \n",
       "3  MULTIPOLYGON (((-122.42144 37.86997, -122.4213...  \n",
       "4  POLYGON ((-106.19055 40.99761, -106.06118 40.9...  "
      ]
     },
     "execution_count": 7,
     "metadata": {},
     "output_type": "execute_result"
    }
   ],
   "source": [
    "gdf.sort_values(by='NAME', ascending=True, inplace = True)\n",
    "gdf.reset_index(drop=True, inplace=True)\n",
    "gdf.head(5)"
   ]
  },
  {
   "cell_type": "code",
   "execution_count": 8,
   "id": "5d2872e5",
   "metadata": {},
   "outputs": [
    {
     "name": "stdout",
     "output_type": "stream",
     "text": [
      "['Alabama' 'Arizona' 'Arkansas' 'California' 'Colorado' 'Connecticut'\n",
      " 'Delaware' 'District of Columbia' 'Florida' 'Georgia' 'Idaho' 'Illinois'\n",
      " 'Indiana' 'Iowa' 'Kansas' 'Kentucky' 'Louisiana' 'Maine' 'Maryland'\n",
      " 'Massachusetts' 'Michigan' 'Minnesota' 'Mississippi' 'Missouri' 'Montana'\n",
      " 'Nebraska' 'Nevada' 'New Hampshire' 'New Jersey' 'New Mexico' 'New York'\n",
      " 'North Carolina' 'North Dakota' 'Ohio' 'Oklahoma' 'Oregon' 'Pennsylvania'\n",
      " 'Rhode Island' 'South Carolina' 'South Dakota' 'Tennessee' 'Texas' 'Utah'\n",
      " 'Vermont' 'Virginia' 'Washington' 'West Virginia' 'Wisconsin' 'Wyoming']\n"
     ]
    }
   ],
   "source": [
    "unique_states = gdf['NAME'].unique()\n",
    "print(unique_states)"
   ]
  },
  {
   "cell_type": "code",
   "execution_count": 9,
   "id": "592c1c84",
   "metadata": {},
   "outputs": [
    {
     "name": "stdout",
     "output_type": "stream",
     "text": [
      "Number of rows in the DataFrame: 49\n"
     ]
    }
   ],
   "source": [
    "row_count = len(gdf)\n",
    "print(\"Number of rows in the DataFrame:\", row_count)"
   ]
  },
  {
   "cell_type": "code",
   "execution_count": 10,
   "id": "990d6699",
   "metadata": {
    "scrolled": true
   },
   "outputs": [
    {
     "data": {
      "text/html": [
       "<div>\n",
       "<style scoped>\n",
       "    .dataframe tbody tr th:only-of-type {\n",
       "        vertical-align: middle;\n",
       "    }\n",
       "\n",
       "    .dataframe tbody tr th {\n",
       "        vertical-align: top;\n",
       "    }\n",
       "\n",
       "    .dataframe thead th {\n",
       "        text-align: right;\n",
       "    }\n",
       "</style>\n",
       "<table border=\"1\" class=\"dataframe\">\n",
       "  <thead>\n",
       "    <tr style=\"text-align: right;\">\n",
       "      <th></th>\n",
       "      <th>GEO_ID</th>\n",
       "      <th>STATE</th>\n",
       "      <th>NAME</th>\n",
       "      <th>LSAD</th>\n",
       "      <th>CENSUSAREA</th>\n",
       "      <th>geometry</th>\n",
       "    </tr>\n",
       "  </thead>\n",
       "  <tbody>\n",
       "    <tr>\n",
       "      <th>0</th>\n",
       "      <td>0400000US01</td>\n",
       "      <td>01</td>\n",
       "      <td>Alabama</td>\n",
       "      <td></td>\n",
       "      <td>50645.326</td>\n",
       "      <td>MULTIPOLYGON (((-88.12466 30.28364, -88.08681 ...</td>\n",
       "    </tr>\n",
       "    <tr>\n",
       "      <th>1</th>\n",
       "      <td>0400000US04</td>\n",
       "      <td>04</td>\n",
       "      <td>Arizona</td>\n",
       "      <td></td>\n",
       "      <td>113594.084</td>\n",
       "      <td>POLYGON ((-112.53859 37.00067, -112.53454 37.0...</td>\n",
       "    </tr>\n",
       "    <tr>\n",
       "      <th>2</th>\n",
       "      <td>0400000US05</td>\n",
       "      <td>05</td>\n",
       "      <td>Arkansas</td>\n",
       "      <td></td>\n",
       "      <td>52035.477</td>\n",
       "      <td>POLYGON ((-94.04296 33.01922, -94.04304 33.079...</td>\n",
       "    </tr>\n",
       "    <tr>\n",
       "      <th>3</th>\n",
       "      <td>0400000US06</td>\n",
       "      <td>06</td>\n",
       "      <td>California</td>\n",
       "      <td></td>\n",
       "      <td>155779.220</td>\n",
       "      <td>MULTIPOLYGON (((-122.42144 37.86997, -122.4213...</td>\n",
       "    </tr>\n",
       "    <tr>\n",
       "      <th>4</th>\n",
       "      <td>0400000US08</td>\n",
       "      <td>08</td>\n",
       "      <td>Colorado</td>\n",
       "      <td></td>\n",
       "      <td>103641.888</td>\n",
       "      <td>POLYGON ((-106.19055 40.99761, -106.06118 40.9...</td>\n",
       "    </tr>\n",
       "  </tbody>\n",
       "</table>\n",
       "</div>"
      ],
      "text/plain": [
       "        GEO_ID STATE        NAME LSAD  CENSUSAREA  \\\n",
       "0  0400000US01    01     Alabama        50645.326   \n",
       "1  0400000US04    04     Arizona       113594.084   \n",
       "2  0400000US05    05    Arkansas        52035.477   \n",
       "3  0400000US06    06  California       155779.220   \n",
       "4  0400000US08    08    Colorado       103641.888   \n",
       "\n",
       "                                            geometry  \n",
       "0  MULTIPOLYGON (((-88.12466 30.28364, -88.08681 ...  \n",
       "1  POLYGON ((-112.53859 37.00067, -112.53454 37.0...  \n",
       "2  POLYGON ((-94.04296 33.01922, -94.04304 33.079...  \n",
       "3  MULTIPOLYGON (((-122.42144 37.86997, -122.4213...  \n",
       "4  POLYGON ((-106.19055 40.99761, -106.06118 40.9...  "
      ]
     },
     "execution_count": 10,
     "metadata": {},
     "output_type": "execute_result"
    }
   ],
   "source": [
    "gdf.head(5)"
   ]
  },
  {
   "cell_type": "code",
   "execution_count": 11,
   "id": "d39b8cfa",
   "metadata": {
    "scrolled": true
   },
   "outputs": [
    {
     "data": {
      "text/html": [
       "<div>\n",
       "<style scoped>\n",
       "    .dataframe tbody tr th:only-of-type {\n",
       "        vertical-align: middle;\n",
       "    }\n",
       "\n",
       "    .dataframe tbody tr th {\n",
       "        vertical-align: top;\n",
       "    }\n",
       "\n",
       "    .dataframe thead th {\n",
       "        text-align: right;\n",
       "    }\n",
       "</style>\n",
       "<table border=\"1\" class=\"dataframe\">\n",
       "  <thead>\n",
       "    <tr style=\"text-align: right;\">\n",
       "      <th></th>\n",
       "      <th>STATE</th>\n",
       "      <th>Count</th>\n",
       "    </tr>\n",
       "  </thead>\n",
       "  <tbody>\n",
       "    <tr>\n",
       "      <th>0</th>\n",
       "      <td>Texas</td>\n",
       "      <td>18322</td>\n",
       "    </tr>\n",
       "    <tr>\n",
       "      <th>1</th>\n",
       "      <td>Iowa</td>\n",
       "      <td>6284</td>\n",
       "    </tr>\n",
       "    <tr>\n",
       "      <th>2</th>\n",
       "      <td>Oklahoma</td>\n",
       "      <td>5344</td>\n",
       "    </tr>\n",
       "    <tr>\n",
       "      <th>3</th>\n",
       "      <td>Kansas</td>\n",
       "      <td>3927</td>\n",
       "    </tr>\n",
       "    <tr>\n",
       "      <th>4</th>\n",
       "      <td>California</td>\n",
       "      <td>3857</td>\n",
       "    </tr>\n",
       "  </tbody>\n",
       "</table>\n",
       "</div>"
      ],
      "text/plain": [
       "        STATE  Count\n",
       "0       Texas  18322\n",
       "1        Iowa   6284\n",
       "2    Oklahoma   5344\n",
       "3      Kansas   3927\n",
       "4  California   3857"
      ]
     },
     "execution_count": 11,
     "metadata": {},
     "output_type": "execute_result"
    }
   ],
   "source": [
    "df = pd.read_csv(\"C:/Users/mford.MSBIOWORKS/Project_1/state_counts.csv\")\n",
    "# print(monthly_energy_production_df)\n",
    "df.head(5)"
   ]
  },
  {
   "cell_type": "code",
   "execution_count": 12,
   "id": "d292c3b7",
   "metadata": {},
   "outputs": [],
   "source": [
    "# df.sort_values(by='State', ascending=True, inplace = True)\n",
    "# df.head(5)"
   ]
  },
  {
   "cell_type": "code",
   "execution_count": 13,
   "id": "88c12b04",
   "metadata": {
    "scrolled": true
   },
   "outputs": [
    {
     "name": "stdout",
     "output_type": "stream",
     "text": [
      "Number of rows in the DataFrame: 43\n"
     ]
    }
   ],
   "source": [
    "row_count = len(df)\n",
    "print(\"Number of rows in the DataFrame:\", row_count)\n"
   ]
  },
  {
   "cell_type": "code",
   "execution_count": 14,
   "id": "839b72a5",
   "metadata": {
    "scrolled": true
   },
   "outputs": [
    {
     "name": "stdout",
     "output_type": "stream",
     "text": [
      "['Texas' 'Iowa' 'Oklahoma' 'Kansas' 'California' 'Illinois' 'Colorado'\n",
      " 'Minnesota' 'Oregon' 'North Dakota' 'New Mexico' 'Washington' 'Michigan'\n",
      " 'Indiana' 'Nebraska' 'Wyoming' 'South Dakota' 'New York' 'Missouri'\n",
      " 'Montana' 'Pennsylvania' 'Idaho' 'Ohio' 'Wisconsin' 'West Virginia'\n",
      " 'Maine' 'Arizona' 'Utah' 'Hawaii' 'Alaska' 'North Carolina'\n",
      " 'Massachusetts' 'New Hampshire' 'Maryland' 'Vermont' 'Nevada'\n",
      " 'Puerto Rico' 'Rhode Island' 'Tennessee' 'New Jersey' 'Connecticut'\n",
      " 'Arkansas' 'Delaware']\n"
     ]
    }
   ],
   "source": [
    "unique_states = df['STATE'].unique()\n",
    "print(unique_states)\n"
   ]
  },
  {
   "cell_type": "code",
   "execution_count": 15,
   "id": "9feadfd1",
   "metadata": {},
   "outputs": [
    {
     "name": "stdout",
     "output_type": "stream",
     "text": [
      "Unique states in df1 but not in df2:\n",
      "{'Mississippi', 'Florida', 'Louisiana', 'District of Columbia', 'Georgia', 'South Carolina', 'Alabama', 'Kentucky', 'Virginia'}\n",
      "Unique states in df2 but not in df1:\n",
      "{'Puerto Rico', 'Alaska', 'Hawaii'}\n"
     ]
    }
   ],
   "source": [
    "\n",
    "# Get unique values in the \"STATE\" column of df1\n",
    "unique_states_gdf = set(gdf['NAME'].unique())\n",
    "\n",
    "# Get unique values in the \"state\" column of df2\n",
    "unique_states_df = set(df['STATE'].unique())\n",
    "\n",
    "# Find the unique values in df1 that are not in df2\n",
    "unique_states_in_gdf = unique_states_gdf - unique_states_df\n",
    "\n",
    "# Find the unique values in df2 that are not in df1\n",
    "unique_states_in_df = unique_states_df - unique_states_gdf\n",
    "\n",
    "# Print the unique values in each DataFrame\n",
    "print(\"Unique states in df1 but not in df2:\")\n",
    "print(unique_states_in_gdf)\n",
    "\n",
    "print(\"Unique states in df2 but not in df1:\")\n",
    "print(unique_states_in_df)"
   ]
  },
  {
   "cell_type": "code",
   "execution_count": 16,
   "id": "029b160b",
   "metadata": {},
   "outputs": [],
   "source": [
    "value_to_delete_2 = ['Alaska', 'Hawaii','Puerto Rico']\n",
    "df = df[~df['STATE'].isin(value_to_delete_2)]"
   ]
  },
  {
   "cell_type": "code",
   "execution_count": 17,
   "id": "5be12a4f",
   "metadata": {
    "scrolled": true
   },
   "outputs": [
    {
     "data": {
      "text/html": [
       "<div>\n",
       "<style scoped>\n",
       "    .dataframe tbody tr th:only-of-type {\n",
       "        vertical-align: middle;\n",
       "    }\n",
       "\n",
       "    .dataframe tbody tr th {\n",
       "        vertical-align: top;\n",
       "    }\n",
       "\n",
       "    .dataframe thead th {\n",
       "        text-align: right;\n",
       "    }\n",
       "</style>\n",
       "<table border=\"1\" class=\"dataframe\">\n",
       "  <thead>\n",
       "    <tr style=\"text-align: right;\">\n",
       "      <th></th>\n",
       "      <th>STATE</th>\n",
       "      <th>Count</th>\n",
       "    </tr>\n",
       "  </thead>\n",
       "  <tbody>\n",
       "    <tr>\n",
       "      <th>0</th>\n",
       "      <td>Texas</td>\n",
       "      <td>18322</td>\n",
       "    </tr>\n",
       "    <tr>\n",
       "      <th>1</th>\n",
       "      <td>Iowa</td>\n",
       "      <td>6284</td>\n",
       "    </tr>\n",
       "    <tr>\n",
       "      <th>2</th>\n",
       "      <td>Oklahoma</td>\n",
       "      <td>5344</td>\n",
       "    </tr>\n",
       "    <tr>\n",
       "      <th>3</th>\n",
       "      <td>Kansas</td>\n",
       "      <td>3927</td>\n",
       "    </tr>\n",
       "    <tr>\n",
       "      <th>4</th>\n",
       "      <td>California</td>\n",
       "      <td>3857</td>\n",
       "    </tr>\n",
       "    <tr>\n",
       "      <th>5</th>\n",
       "      <td>Illinois</td>\n",
       "      <td>3557</td>\n",
       "    </tr>\n",
       "    <tr>\n",
       "      <th>6</th>\n",
       "      <td>Colorado</td>\n",
       "      <td>2825</td>\n",
       "    </tr>\n",
       "    <tr>\n",
       "      <th>7</th>\n",
       "      <td>Minnesota</td>\n",
       "      <td>2700</td>\n",
       "    </tr>\n",
       "    <tr>\n",
       "      <th>8</th>\n",
       "      <td>Oregon</td>\n",
       "      <td>2113</td>\n",
       "    </tr>\n",
       "    <tr>\n",
       "      <th>9</th>\n",
       "      <td>North Dakota</td>\n",
       "      <td>2086</td>\n",
       "    </tr>\n",
       "    <tr>\n",
       "      <th>10</th>\n",
       "      <td>New Mexico</td>\n",
       "      <td>1923</td>\n",
       "    </tr>\n",
       "    <tr>\n",
       "      <th>11</th>\n",
       "      <td>Washington</td>\n",
       "      <td>1822</td>\n",
       "    </tr>\n",
       "    <tr>\n",
       "      <th>12</th>\n",
       "      <td>Michigan</td>\n",
       "      <td>1637</td>\n",
       "    </tr>\n",
       "    <tr>\n",
       "      <th>13</th>\n",
       "      <td>Indiana</td>\n",
       "      <td>1602</td>\n",
       "    </tr>\n",
       "    <tr>\n",
       "      <th>14</th>\n",
       "      <td>Nebraska</td>\n",
       "      <td>1480</td>\n",
       "    </tr>\n",
       "    <tr>\n",
       "      <th>15</th>\n",
       "      <td>Wyoming</td>\n",
       "      <td>1358</td>\n",
       "    </tr>\n",
       "    <tr>\n",
       "      <th>16</th>\n",
       "      <td>South Dakota</td>\n",
       "      <td>1327</td>\n",
       "    </tr>\n",
       "    <tr>\n",
       "      <th>17</th>\n",
       "      <td>New York</td>\n",
       "      <td>1259</td>\n",
       "    </tr>\n",
       "    <tr>\n",
       "      <th>18</th>\n",
       "      <td>Missouri</td>\n",
       "      <td>1081</td>\n",
       "    </tr>\n",
       "    <tr>\n",
       "      <th>19</th>\n",
       "      <td>Montana</td>\n",
       "      <td>795</td>\n",
       "    </tr>\n",
       "    <tr>\n",
       "      <th>20</th>\n",
       "      <td>Pennsylvania</td>\n",
       "      <td>751</td>\n",
       "    </tr>\n",
       "    <tr>\n",
       "      <th>21</th>\n",
       "      <td>Idaho</td>\n",
       "      <td>541</td>\n",
       "    </tr>\n",
       "    <tr>\n",
       "      <th>22</th>\n",
       "      <td>Ohio</td>\n",
       "      <td>492</td>\n",
       "    </tr>\n",
       "    <tr>\n",
       "      <th>23</th>\n",
       "      <td>Wisconsin</td>\n",
       "      <td>478</td>\n",
       "    </tr>\n",
       "    <tr>\n",
       "      <th>24</th>\n",
       "      <td>West Virginia</td>\n",
       "      <td>419</td>\n",
       "    </tr>\n",
       "    <tr>\n",
       "      <th>25</th>\n",
       "      <td>Maine</td>\n",
       "      <td>416</td>\n",
       "    </tr>\n",
       "    <tr>\n",
       "      <th>26</th>\n",
       "      <td>Arizona</td>\n",
       "      <td>324</td>\n",
       "    </tr>\n",
       "    <tr>\n",
       "      <th>27</th>\n",
       "      <td>Utah</td>\n",
       "      <td>205</td>\n",
       "    </tr>\n",
       "    <tr>\n",
       "      <th>30</th>\n",
       "      <td>North Carolina</td>\n",
       "      <td>104</td>\n",
       "    </tr>\n",
       "    <tr>\n",
       "      <th>31</th>\n",
       "      <td>Massachusetts</td>\n",
       "      <td>91</td>\n",
       "    </tr>\n",
       "    <tr>\n",
       "      <th>32</th>\n",
       "      <td>New Hampshire</td>\n",
       "      <td>84</td>\n",
       "    </tr>\n",
       "    <tr>\n",
       "      <th>33</th>\n",
       "      <td>Maryland</td>\n",
       "      <td>80</td>\n",
       "    </tr>\n",
       "    <tr>\n",
       "      <th>34</th>\n",
       "      <td>Vermont</td>\n",
       "      <td>73</td>\n",
       "    </tr>\n",
       "    <tr>\n",
       "      <th>35</th>\n",
       "      <td>Nevada</td>\n",
       "      <td>66</td>\n",
       "    </tr>\n",
       "    <tr>\n",
       "      <th>37</th>\n",
       "      <td>Rhode Island</td>\n",
       "      <td>30</td>\n",
       "    </tr>\n",
       "    <tr>\n",
       "      <th>38</th>\n",
       "      <td>Tennessee</td>\n",
       "      <td>18</td>\n",
       "    </tr>\n",
       "    <tr>\n",
       "      <th>39</th>\n",
       "      <td>New Jersey</td>\n",
       "      <td>6</td>\n",
       "    </tr>\n",
       "    <tr>\n",
       "      <th>40</th>\n",
       "      <td>Connecticut</td>\n",
       "      <td>3</td>\n",
       "    </tr>\n",
       "    <tr>\n",
       "      <th>41</th>\n",
       "      <td>Arkansas</td>\n",
       "      <td>1</td>\n",
       "    </tr>\n",
       "    <tr>\n",
       "      <th>42</th>\n",
       "      <td>Delaware</td>\n",
       "      <td>1</td>\n",
       "    </tr>\n",
       "  </tbody>\n",
       "</table>\n",
       "</div>"
      ],
      "text/plain": [
       "             STATE  Count\n",
       "0            Texas  18322\n",
       "1             Iowa   6284\n",
       "2         Oklahoma   5344\n",
       "3           Kansas   3927\n",
       "4       California   3857\n",
       "5         Illinois   3557\n",
       "6         Colorado   2825\n",
       "7        Minnesota   2700\n",
       "8           Oregon   2113\n",
       "9     North Dakota   2086\n",
       "10      New Mexico   1923\n",
       "11      Washington   1822\n",
       "12        Michigan   1637\n",
       "13         Indiana   1602\n",
       "14        Nebraska   1480\n",
       "15         Wyoming   1358\n",
       "16    South Dakota   1327\n",
       "17        New York   1259\n",
       "18        Missouri   1081\n",
       "19         Montana    795\n",
       "20    Pennsylvania    751\n",
       "21           Idaho    541\n",
       "22            Ohio    492\n",
       "23       Wisconsin    478\n",
       "24   West Virginia    419\n",
       "25           Maine    416\n",
       "26         Arizona    324\n",
       "27            Utah    205\n",
       "30  North Carolina    104\n",
       "31   Massachusetts     91\n",
       "32   New Hampshire     84\n",
       "33        Maryland     80\n",
       "34         Vermont     73\n",
       "35          Nevada     66\n",
       "37    Rhode Island     30\n",
       "38       Tennessee     18\n",
       "39      New Jersey      6\n",
       "40     Connecticut      3\n",
       "41        Arkansas      1\n",
       "42        Delaware      1"
      ]
     },
     "execution_count": 17,
     "metadata": {},
     "output_type": "execute_result"
    }
   ],
   "source": [
    "df"
   ]
  },
  {
   "cell_type": "code",
   "execution_count": 31,
   "id": "800832de",
   "metadata": {},
   "outputs": [
    {
     "data": {
      "image/png": "[encoded data removed]",
      "text/plain": [
       "<Figure size 640x480 with 1 Axes>"
      ]
     },
     "metadata": {},
     "output_type": "display_data"
    }
   ],
   "source": [
    "# # create a box plot\n",
    "# df.boxplot(column=['Count'])\n",
    "\n",
    "# # display the plot\n",
    "# plt.show()"
   ]
  },
  {
   "cell_type": "code",
   "execution_count": 32,
   "id": "4270e3ad",
   "metadata": {},
   "outputs": [
    {
     "data": {
      "image/png": "[encoded data removed]",
      "text/plain": [
       "<Figure size 640x480 with 1 Axes>"
      ]
     },
     "metadata": {},
     "output_type": "display_data"
    }
   ],
   "source": [
    "\n",
    "# df = df.drop([41, 12, 34])\n",
    "\n",
    "# # create a box plot\n",
    "# df.boxplot(column=['Count'])\n",
    "\n",
    "# # display the plot\n",
    "# plt.show()\n",
    "\n",
    "\n"
   ]
  },
  {
   "cell_type": "code",
   "execution_count": 20,
   "id": "005e7757",
   "metadata": {},
   "outputs": [
    {
     "name": "stdout",
     "output_type": "stream",
     "text": [
      "Unique states in df1 but not in df2:\n",
      "{'Mississippi', 'Florida', 'Louisiana', 'District of Columbia', 'Georgia', 'South Carolina', 'Alabama', 'Kentucky', 'Virginia'}\n",
      "Unique states in df2 but not in df1:\n",
      "set()\n"
     ]
    }
   ],
   "source": [
    "# Get unique values in the \"STATE\" column of df1\n",
    "unique_states_gdf = set(gdf['NAME'].unique())\n",
    "\n",
    "# Get unique values in the \"state\" column of df2\n",
    "unique_states_df = set(df['STATE'].unique())\n",
    "\n",
    "# Find the unique values in df1 that are not in df2\n",
    "unique_states_in_gdf = unique_states_gdf - unique_states_df\n",
    "\n",
    "# Find the unique values in df2 that are not in df1\n",
    "unique_states_in_df = unique_states_df - unique_states_gdf\n",
    "\n",
    "# Print the unique values in each DataFrame\n",
    "print(\"Unique states in df1 but not in df2:\")\n",
    "print(unique_states_in_gdf)\n",
    "\n",
    "print(\"Unique states in df2 but not in df1:\")\n",
    "print(unique_states_in_df)"
   ]
  },
  {
   "cell_type": "code",
   "execution_count": 21,
   "id": "5d5af271",
   "metadata": {},
   "outputs": [
    {
     "name": "stdout",
     "output_type": "stream",
     "text": [
      "Index(['STATE', 'Count'], dtype='object')\n"
     ]
    }
   ],
   "source": [
    "print(df.columns)"
   ]
  },
  {
   "cell_type": "code",
   "execution_count": 22,
   "id": "d4d4058a",
   "metadata": {},
   "outputs": [
    {
     "data": {
      "text/html": [
       "<div>\n",
       "<style scoped>\n",
       "    .dataframe tbody tr th:only-of-type {\n",
       "        vertical-align: middle;\n",
       "    }\n",
       "\n",
       "    .dataframe tbody tr th {\n",
       "        vertical-align: top;\n",
       "    }\n",
       "\n",
       "    .dataframe thead th {\n",
       "        text-align: right;\n",
       "    }\n",
       "</style>\n",
       "<table border=\"1\" class=\"dataframe\">\n",
       "  <thead>\n",
       "    <tr style=\"text-align: right;\">\n",
       "      <th></th>\n",
       "      <th>STATE</th>\n",
       "      <th>Count</th>\n",
       "    </tr>\n",
       "  </thead>\n",
       "  <tbody>\n",
       "    <tr>\n",
       "      <th>0</th>\n",
       "      <td>Texas</td>\n",
       "      <td>18322</td>\n",
       "    </tr>\n",
       "    <tr>\n",
       "      <th>1</th>\n",
       "      <td>Iowa</td>\n",
       "      <td>6284</td>\n",
       "    </tr>\n",
       "    <tr>\n",
       "      <th>2</th>\n",
       "      <td>Oklahoma</td>\n",
       "      <td>5344</td>\n",
       "    </tr>\n",
       "    <tr>\n",
       "      <th>3</th>\n",
       "      <td>Kansas</td>\n",
       "      <td>3927</td>\n",
       "    </tr>\n",
       "    <tr>\n",
       "      <th>4</th>\n",
       "      <td>California</td>\n",
       "      <td>3857</td>\n",
       "    </tr>\n",
       "  </tbody>\n",
       "</table>\n",
       "</div>"
      ],
      "text/plain": [
       "        STATE  Count\n",
       "0       Texas  18322\n",
       "1        Iowa   6284\n",
       "2    Oklahoma   5344\n",
       "3      Kansas   3927\n",
       "4  California   3857"
      ]
     },
     "execution_count": 22,
     "metadata": {},
     "output_type": "execute_result"
    }
   ],
   "source": [
    "new_rows = [\n",
    "    {'STATE': 'Virginia', 'Count': 0},\n",
    "    {'STATE': 'South Carolina', 'Count': 0},\n",
    "    {'STATE': 'Florida', 'Count': 0},\n",
    "    {'STATE': 'Mississippi', 'Count': 0},\n",
    "    {'STATE': 'Louisiana', 'Count': 0},\n",
    "    {'STATE': 'District of Columbia', 'Count': 0},\n",
    "    {'STATE': 'Kentucky', 'Count': 0},\n",
    "    {'STATE': 'Alabama', 'Count': 0},\n",
    "    {'STATE': 'Georgia', 'Count': 0},\n",
    "]\n",
    "\n",
    "# # Convert the list of dictionaries to a DataFrame\n",
    "# new_rows_df = pd.DataFrame(new_rows)\n",
    "\n",
    "# Append the new rows DataFrame to the original DataFrame 'df'\n",
    "df = df._append(new_rows, ignore_index=False)\n",
    "df.head(5)"
   ]
  },
  {
   "cell_type": "code",
   "execution_count": 23,
   "id": "9e551a51",
   "metadata": {},
   "outputs": [
    {
     "name": "stdout",
     "output_type": "stream",
     "text": [
      "Number of rows in the DataFrame: 49\n"
     ]
    },
    {
     "data": {
      "text/html": [
       "<div>\n",
       "<style scoped>\n",
       "    .dataframe tbody tr th:only-of-type {\n",
       "        vertical-align: middle;\n",
       "    }\n",
       "\n",
       "    .dataframe tbody tr th {\n",
       "        vertical-align: top;\n",
       "    }\n",
       "\n",
       "    .dataframe thead th {\n",
       "        text-align: right;\n",
       "    }\n",
       "</style>\n",
       "<table border=\"1\" class=\"dataframe\">\n",
       "  <thead>\n",
       "    <tr style=\"text-align: right;\">\n",
       "      <th></th>\n",
       "      <th>STATE</th>\n",
       "      <th>Count</th>\n",
       "    </tr>\n",
       "  </thead>\n",
       "  <tbody>\n",
       "    <tr>\n",
       "      <th>0</th>\n",
       "      <td>Texas</td>\n",
       "      <td>18322</td>\n",
       "    </tr>\n",
       "    <tr>\n",
       "      <th>1</th>\n",
       "      <td>Iowa</td>\n",
       "      <td>6284</td>\n",
       "    </tr>\n",
       "    <tr>\n",
       "      <th>2</th>\n",
       "      <td>Oklahoma</td>\n",
       "      <td>5344</td>\n",
       "    </tr>\n",
       "    <tr>\n",
       "      <th>3</th>\n",
       "      <td>Kansas</td>\n",
       "      <td>3927</td>\n",
       "    </tr>\n",
       "    <tr>\n",
       "      <th>4</th>\n",
       "      <td>California</td>\n",
       "      <td>3857</td>\n",
       "    </tr>\n",
       "  </tbody>\n",
       "</table>\n",
       "</div>"
      ],
      "text/plain": [
       "        STATE  Count\n",
       "0       Texas  18322\n",
       "1        Iowa   6284\n",
       "2    Oklahoma   5344\n",
       "3      Kansas   3927\n",
       "4  California   3857"
      ]
     },
     "execution_count": 23,
     "metadata": {},
     "output_type": "execute_result"
    }
   ],
   "source": [
    "row_count = len(df)\n",
    "print(\"Number of rows in the DataFrame:\", row_count)\n",
    "df.head(5)"
   ]
  },
  {
   "cell_type": "code",
   "execution_count": 24,
   "id": "4532e498",
   "metadata": {
    "scrolled": false
   },
   "outputs": [
    {
     "data": {
      "text/html": [
       "<div>\n",
       "<style scoped>\n",
       "    .dataframe tbody tr th:only-of-type {\n",
       "        vertical-align: middle;\n",
       "    }\n",
       "\n",
       "    .dataframe tbody tr th {\n",
       "        vertical-align: top;\n",
       "    }\n",
       "\n",
       "    .dataframe thead th {\n",
       "        text-align: right;\n",
       "    }\n",
       "</style>\n",
       "<table border=\"1\" class=\"dataframe\">\n",
       "  <thead>\n",
       "    <tr style=\"text-align: right;\">\n",
       "      <th></th>\n",
       "      <th>STATE</th>\n",
       "      <th>Count</th>\n",
       "    </tr>\n",
       "  </thead>\n",
       "  <tbody>\n",
       "    <tr>\n",
       "      <th>7</th>\n",
       "      <td>Alabama</td>\n",
       "      <td>0</td>\n",
       "    </tr>\n",
       "    <tr>\n",
       "      <th>26</th>\n",
       "      <td>Arizona</td>\n",
       "      <td>324</td>\n",
       "    </tr>\n",
       "    <tr>\n",
       "      <th>41</th>\n",
       "      <td>Arkansas</td>\n",
       "      <td>1</td>\n",
       "    </tr>\n",
       "    <tr>\n",
       "      <th>4</th>\n",
       "      <td>California</td>\n",
       "      <td>3857</td>\n",
       "    </tr>\n",
       "    <tr>\n",
       "      <th>6</th>\n",
       "      <td>Colorado</td>\n",
       "      <td>2825</td>\n",
       "    </tr>\n",
       "  </tbody>\n",
       "</table>\n",
       "</div>"
      ],
      "text/plain": [
       "         STATE  Count\n",
       "7      Alabama      0\n",
       "26     Arizona    324\n",
       "41    Arkansas      1\n",
       "4   California   3857\n",
       "6     Colorado   2825"
      ]
     },
     "execution_count": 24,
     "metadata": {},
     "output_type": "execute_result"
    }
   ],
   "source": [
    "df.sort_values(by='STATE', ascending=True, inplace = True)\n",
    "df.head(5)"
   ]
  },
  {
   "cell_type": "code",
   "execution_count": 25,
   "id": "eafca982",
   "metadata": {},
   "outputs": [
    {
     "data": {
      "text/html": [
       "<div>\n",
       "<style scoped>\n",
       "    .dataframe tbody tr th:only-of-type {\n",
       "        vertical-align: middle;\n",
       "    }\n",
       "\n",
       "    .dataframe tbody tr th {\n",
       "        vertical-align: top;\n",
       "    }\n",
       "\n",
       "    .dataframe thead th {\n",
       "        text-align: right;\n",
       "    }\n",
       "</style>\n",
       "<table border=\"1\" class=\"dataframe\">\n",
       "  <thead>\n",
       "    <tr style=\"text-align: right;\">\n",
       "      <th></th>\n",
       "      <th>STATE</th>\n",
       "      <th>Count</th>\n",
       "    </tr>\n",
       "  </thead>\n",
       "  <tbody>\n",
       "    <tr>\n",
       "      <th>0</th>\n",
       "      <td>Alabama</td>\n",
       "      <td>0</td>\n",
       "    </tr>\n",
       "    <tr>\n",
       "      <th>1</th>\n",
       "      <td>Arizona</td>\n",
       "      <td>324</td>\n",
       "    </tr>\n",
       "    <tr>\n",
       "      <th>2</th>\n",
       "      <td>Arkansas</td>\n",
       "      <td>1</td>\n",
       "    </tr>\n",
       "    <tr>\n",
       "      <th>3</th>\n",
       "      <td>California</td>\n",
       "      <td>3857</td>\n",
       "    </tr>\n",
       "    <tr>\n",
       "      <th>4</th>\n",
       "      <td>Colorado</td>\n",
       "      <td>2825</td>\n",
       "    </tr>\n",
       "  </tbody>\n",
       "</table>\n",
       "</div>"
      ],
      "text/plain": [
       "        STATE  Count\n",
       "0     Alabama      0\n",
       "1     Arizona    324\n",
       "2    Arkansas      1\n",
       "3  California   3857\n",
       "4    Colorado   2825"
      ]
     },
     "execution_count": 25,
     "metadata": {},
     "output_type": "execute_result"
    }
   ],
   "source": [
    "df.reset_index(drop=True, inplace=True)\n",
    "df.head(5)"
   ]
  },
  {
   "cell_type": "code",
   "execution_count": 26,
   "id": "d24e53dd",
   "metadata": {},
   "outputs": [],
   "source": [
    "# Merge the GeoDataFrame with your data based on a common column (e.g., 'State' column)\n",
    "merged_data = gdf.merge(df, left_on='NAME', right_on='STATE', how='left')\n"
   ]
  },
  {
   "cell_type": "code",
   "execution_count": 27,
   "id": "909b3edf",
   "metadata": {},
   "outputs": [
    {
     "name": "stdout",
     "output_type": "stream",
     "text": [
      "Number of rows in the DataFrame: 49\n"
     ]
    }
   ],
   "source": [
    "row_count = len(merged_data)\n",
    "print(\"Number of rows in the DataFrame:\", row_count)"
   ]
  },
  {
   "cell_type": "code",
   "execution_count": 28,
   "id": "754823be",
   "metadata": {
    "scrolled": true
   },
   "outputs": [],
   "source": [
    "# data_types = dfClusterMap.dtypes\n",
    "# print(data_types)"
   ]
  },
  {
   "cell_type": "code",
   "execution_count": 30,
   "id": "cd2fc399",
   "metadata": {},
   "outputs": [
    {
     "data": {
      "image/png": "[encoded data removed]",
      "text/plain": [
       "<Figure size 1400x800 with 2 Axes>"
      ]
     },
     "metadata": {},
     "output_type": "display_data"
    }
   ],
   "source": [
    "# merged_data = merged_data.to_crs(epsg=3395)\n",
    "\n",
    "fig, ax = plt.subplots(1, 1, figsize=(14, 8))\n",
    "\n",
    "merged_data.plot(column='Count', cmap='viridis_r', linewidth=0.1, ax=ax, edgecolor='black', legend=True)\n",
    "\n",
    "ax.set_axis_off()\n",
    " \n",
    "plt.title('Wind Turbine Distribution for the United States of America')\n",
    "\n",
    "plt.show()\n",
    "\n"
   ]
  },
  {
   "cell_type": "code",
   "execution_count": null,
   "id": "d620990e",
   "metadata": {},
   "outputs": [],
   "source": []
  }
 ],
 "metadata": {
  "kernelspec": {
   "display_name": "Python 3 (ipykernel)",
   "language": "python",
   "name": "python3"
  },
  "language_info": {
   "codemirror_mode": {
    "name": "ipython",
    "version": 3
   },
   "file_extension": ".py",
   "mimetype": "text/x-python",
   "name": "python",
   "nbconvert_exporter": "python",
   "pygments_lexer": "ipython3",
   "version": "3.10.13"
  }
 },
 "nbformat": 4,
 "nbformat_minor": 5
}
